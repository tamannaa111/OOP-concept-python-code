{
  "nbformat": 4,
  "nbformat_minor": 0,
  "metadata": {
    "colab": {
      "provenance": []
    },
    "kernelspec": {
      "name": "python3",
      "display_name": "Python 3"
    },
    "language_info": {
      "name": "python"
    }
  },
  "cells": [
    {
      "cell_type": "code",
      "execution_count": null,
      "metadata": {
        "colab": {
          "base_uri": "https://localhost:8080/"
        },
        "id": "COAH2zMMUdoX",
        "outputId": "6e9e75ac-0065-462e-d891-4999378aa3bb"
      },
      "outputs": [
        {
          "output_type": "stream",
          "name": "stdout",
          "text": [
            "30\n",
            "-10\n",
            "200\n",
            "0.5\n",
            "10\n",
            "1000\n",
            "7\n",
            "7.5\n"
          ]
        }
      ],
      "source": [
        "#Arithmetic Operator\n",
        "#Addition, Subtraction, Multiplication, Division,Division, Modulus\n",
        "A = 10\n",
        "B = 20\n",
        "print(A+B)\n",
        "print(A-B)\n",
        "print(A*B)\n",
        "print(A/B)\n",
        "print(A%B)\n",
        "\n",
        "#Exponentiation\n",
        "X=10\n",
        "Y=3\n",
        "print(X**Y) #10*10*10\n",
        "\n",
        "#Floor division\n",
        "\n",
        "x=15\n",
        "y=2\n",
        "\n",
        "print(x//y)\n",
        "print(x/y)"
      ]
    },
    {
      "cell_type": "code",
      "source": [
        "#Assignment Operators\n",
        "#1.\n",
        "\n",
        "a=10\n",
        "b=a+20\n",
        "print(b)\n",
        "#or\n",
        "a += 20\n",
        "print(a)\n",
        "\n",
        "#2.\n",
        "\n",
        "b=10\n",
        "c=b-5\n",
        "print(c)\n",
        "#or\n",
        "b -=5\n",
        "print(b)\n",
        "\n",
        "#3.\n",
        "m=10\n",
        "n=m*2\n",
        "print(n)\n",
        "#or\n",
        "m *=2\n",
        "print(m)\n",
        "m**=2\n",
        "print(m)\n",
        "m /=2\n",
        "print(m)\n",
        "m//=2\n",
        "print(m)\n",
        "m%=2\n",
        "print(m)\n",
        "\n",
        "\n",
        "\n",
        "\n",
        "\n"
      ],
      "metadata": {
        "colab": {
          "base_uri": "https://localhost:8080/"
        },
        "id": "oqLQ4x4ZYBLo",
        "outputId": "af00b221-89cd-42f9-e1bd-b5b097fedbfd"
      },
      "execution_count": null,
      "outputs": [
        {
          "output_type": "stream",
          "name": "stdout",
          "text": [
            "30\n",
            "30\n",
            "5\n",
            "5\n",
            "20\n",
            "20\n",
            "400\n",
            "200.0\n",
            "100.0\n",
            "0.0\n"
          ]
        }
      ]
    },
    {
      "cell_type": "code",
      "source": [
        "#Comparison Operator\n",
        "\n",
        "x=5\n",
        "y=2\n",
        "print(x==y)\n",
        "print(x<y)\n",
        "print(x>y)\n",
        "print(x<=y)\n",
        "print(x>=y)\n",
        "print(x!=y)\n"
      ],
      "metadata": {
        "colab": {
          "base_uri": "https://localhost:8080/"
        },
        "id": "TbSyvKaWcRWe",
        "outputId": "2294535b-06fa-42aa-feb7-8a6a9866426b"
      },
      "execution_count": null,
      "outputs": [
        {
          "output_type": "stream",
          "name": "stdout",
          "text": [
            "False\n",
            "False\n",
            "True\n",
            "False\n",
            "True\n",
            "True\n"
          ]
        }
      ]
    },
    {
      "cell_type": "code",
      "source": [
        "#Logical Operator\n",
        "\n",
        "#and\n",
        "#or\n",
        "#not"
      ],
      "metadata": {
        "id": "RY0JGhPKdiR-"
      },
      "execution_count": null,
      "outputs": []
    },
    {
      "cell_type": "code",
      "source": [
        "#swapping\n",
        "\n",
        "s=10\n",
        "k=20\n",
        "s,k=k,s\n",
        "print(s,k)\n",
        "print(\"the value of s is=\",s)\n",
        "print(\"the value of k is=\",k)\n"
      ],
      "metadata": {
        "colab": {
          "base_uri": "https://localhost:8080/"
        },
        "id": "XQckGtd1foKp",
        "outputId": "e30c0860-66b3-4134-bf13-9c23968c8732"
      },
      "execution_count": null,
      "outputs": [
        {
          "output_type": "stream",
          "name": "stdout",
          "text": [
            "20 10\n",
            "the value of s is= 20\n",
            "the value of k is= 10\n"
          ]
        }
      ]
    }
  ]
}