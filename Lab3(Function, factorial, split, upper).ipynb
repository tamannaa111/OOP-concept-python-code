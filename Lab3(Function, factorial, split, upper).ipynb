{
 "cells": [
  {
   "cell_type": "code",
   "execution_count": null,
   "id": "d835f32f",
   "metadata": {},
   "outputs": [],
   "source": [
    "def sum(a,b):\n",
    "    sum=a+b\n",
    "    print(sum)\n",
    "sum(5,3)    "
   ]
  },
  {
   "cell_type": "code",
   "execution_count": null,
   "id": "713be03f",
   "metadata": {},
   "outputs": [],
   "source": [
    "def sum(a,b):\n",
    "    sum=a+b\n",
    "    return sum\n",
    "sum(5,3)"
   ]
  },
  {
   "cell_type": "code",
   "execution_count": null,
   "id": "5ccac9ca",
   "metadata": {},
   "outputs": [],
   "source": [
    "#factorial\n",
    "n=int(input())\n",
    "fact=1\n",
    "for i in range(1,n+1):\n",
    "    fact=fact*i\n",
    "    \n",
    "print(fact)\n",
    "    "
   ]
  },
  {
   "cell_type": "code",
   "execution_count": null,
   "id": "6c23732c",
   "metadata": {},
   "outputs": [],
   "source": [
    "#factorial\n",
    "\n",
    "def fact(n):\n",
    "    fact=1\n",
    "    if(n==0 or n==1):\n",
    "        print(1)\n",
    "    else:\n",
    "        for i in range(1,n+1):\n",
    "            fact=fact*i\n",
    "        print(fact) \n",
    "fact(5)        "
   ]
  },
  {
   "cell_type": "code",
   "execution_count": null,
   "id": "59af3a77",
   "metadata": {},
   "outputs": [],
   "source": [
    "#factorial from user\n",
    " \n",
    "def fact(n):\n",
    "    fact=1\n",
    "    if(n==0 or n==1):\n",
    "        print(1)\n",
    "    else:\n",
    "        for i in range(1,n+1):\n",
    "            fact=fact*i\n",
    "        print(fact) \n",
    "fact(n=int(input())) "
   ]
  },
  {
   "cell_type": "code",
   "execution_count": null,
   "id": "0bc2e913",
   "metadata": {},
   "outputs": [],
   "source": [
    "#Recursive \n",
    "\n",
    "def fact(n):\n",
    "    if n>=1:  #base condetion part\n",
    "        return n* fact(n-1) #Recursive part\n",
    "    else:\n",
    "        return 1\n",
    "n=int(input())    \n",
    "fact(n) \n"
   ]
  },
  {
   "cell_type": "code",
   "execution_count": 5,
   "id": "60681c35",
   "metadata": {},
   "outputs": [
    {
     "name": "stdout",
     "output_type": "stream",
     "text": [
      "Enter the number:6\n"
     ]
    },
    {
     "data": {
      "text/plain": [
       "720"
      ]
     },
     "execution_count": 5,
     "metadata": {},
     "output_type": "execute_result"
    }
   ],
   "source": [
    "def fact(n):\n",
    "    if(n==0 or n==1): #base condetion part\n",
    "        return 1\n",
    "    else:\n",
    "        return n* fact(n-1)  #Recursive part\n",
    "n=int(input(\"Enter the number:\"))    \n",
    "fact(n)   \n",
    "    "
   ]
  },
  {
   "cell_type": "code",
   "execution_count": 2,
   "id": "2c7c0a6d",
   "metadata": {},
   "outputs": [
    {
     "name": "stdout",
     "output_type": "stream",
     "text": [
      "['welcome', 'to', 'MY', 'house']\n"
     ]
    },
    {
     "ename": "AttributeError",
     "evalue": "'list' object has no attribute 'uppar'",
     "output_type": "error",
     "traceback": [
      "\u001b[0;31m---------------------------------------------------------------------------\u001b[0m",
      "\u001b[0;31mAttributeError\u001b[0m                            Traceback (most recent call last)",
      "Cell \u001b[0;32mIn[2], line 6\u001b[0m\n\u001b[1;32m      4\u001b[0m \u001b[38;5;28mlist\u001b[39m\u001b[38;5;241m=\u001b[39m[]\n\u001b[1;32m      5\u001b[0m \u001b[38;5;28;01mfor\u001b[39;00m i \u001b[38;5;129;01min\u001b[39;00m \u001b[38;5;28mrange\u001b[39m(\u001b[38;5;28mlen\u001b[39m(N)):\n\u001b[0;32m----> 6\u001b[0m     upp\u001b[38;5;241m=\u001b[39mN\u001b[38;5;241m.\u001b[39muppar()\n\u001b[1;32m      7\u001b[0m     \u001b[38;5;28mlist\u001b[39m\u001b[38;5;241m.\u001b[39mappend(upp)\n\u001b[1;32m      8\u001b[0m \u001b[38;5;28mprint\u001b[39m(\u001b[38;5;28mlist\u001b[39m)\n",
      "\u001b[0;31mAttributeError\u001b[0m: 'list' object has no attribute 'uppar'"
     ]
    }
   ],
   "source": [
    "n=\"welcome to MY house\"\n",
    "N=n.split()\n",
    "print(N)\n",
    "list=[]\n",
    "for i in range(len(N)):\n",
    "   upp=N.uppar()\n",
    "    list.append(upp)\n",
    "print(list)    "
   ]
  },
  {
   "cell_type": "code",
   "execution_count": 6,
   "id": "728c2691",
   "metadata": {},
   "outputs": [
    {
     "name": "stdout",
     "output_type": "stream",
     "text": [
      "['welcome', 'to', 'MY', 'm', 'house']\n",
      "['WELCOME', 'TO', 'MY', 'M', 'HOUSE']\n"
     ]
    }
   ],
   "source": [
    "n = \"welcome to MY m house\"\n",
    "N = n.split()\n",
    "print(N)\n",
    "\n",
    "# Create an empty list to store the uppercase versions\n",
    "list_upper = []\n",
    "\n",
    "# Iterate through the words in N and convert them to uppercase\n",
    "for i in N:\n",
    "    upp = i.upper()\n",
    "    list_upper.append(upp)\n",
    "\n",
    "print(list_upper)\n"
   ]
  },
  {
   "cell_type": "code",
   "execution_count": null,
   "id": "48cf6a73",
   "metadata": {},
   "outputs": [],
   "source": []
  }
 ],
 "metadata": {
  "kernelspec": {
   "display_name": "Python 3 (ipykernel)",
   "language": "python",
   "name": "python3"
  },
  "language_info": {
   "codemirror_mode": {
    "name": "ipython",
    "version": 3
   },
   "file_extension": ".py",
   "mimetype": "text/x-python",
   "name": "python",
   "nbconvert_exporter": "python",
   "pygments_lexer": "ipython3",
   "version": "3.11.5"
  }
 },
 "nbformat": 4,
 "nbformat_minor": 5
}
