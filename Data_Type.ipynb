{
  "nbformat": 4,
  "nbformat_minor": 0,
  "metadata": {
    "colab": {
      "provenance": []
    },
    "kernelspec": {
      "name": "python3",
      "display_name": "Python 3"
    },
    "language_info": {
      "name": "python"
    }
  },
  "cells": [
    {
      "cell_type": "code",
      "execution_count": null,
      "metadata": {
        "colab": {
          "base_uri": "https://localhost:8080/"
        },
        "id": "fzMVbBB-yluu",
        "outputId": "d1b1b2cc-4f4d-4b1a-9ffb-7fc610de8429"
      },
      "outputs": [
        {
          "output_type": "stream",
          "name": "stdout",
          "text": [
            "Tamanna Welcome to colab\n"
          ]
        }
      ],
      "source": [
        "print(\"Tamanna Welcome to colab\")"
      ]
    },
    {
      "cell_type": "code",
      "source": [
        "#comment here\n",
        "print(55)"
      ],
      "metadata": {
        "colab": {
          "base_uri": "https://localhost:8080/"
        },
        "id": "t4hVVJBxy0U3",
        "outputId": "daee4a6d-c4e4-44fc-ffd6-9967003db04e"
      },
      "execution_count": null,
      "outputs": [
        {
          "output_type": "stream",
          "name": "stdout",
          "text": [
            "55\n"
          ]
        }
      ]
    },
    {
      "cell_type": "code",
      "source": [
        "\"' multiple comment'\"\n",
        "print('hello dear')\n"
      ],
      "metadata": {
        "colab": {
          "base_uri": "https://localhost:8080/"
        },
        "id": "wCGO5kpnzAfA",
        "outputId": "9640f593-3667-45e8-8307-526c4cf8877b"
      },
      "execution_count": null,
      "outputs": [
        {
          "output_type": "stream",
          "name": "stdout",
          "text": [
            "hello dear\n"
          ]
        }
      ]
    },
    {
      "cell_type": "code",
      "source": [
        "#variable\n",
        "\n",
        "Tamanna='oh fine!'\n",
        "Delowar= \"Nice\"\n",
        "\n",
        "print(Delowar)"
      ],
      "metadata": {
        "colab": {
          "base_uri": "https://localhost:8080/"
        },
        "id": "S_o1WCQnz8sS",
        "outputId": "edb06749-963f-4591-dca9-0e0ade717f79"
      },
      "execution_count": null,
      "outputs": [
        {
          "output_type": "stream",
          "name": "stdout",
          "text": [
            "Nice\n"
          ]
        }
      ]
    },
    {
      "cell_type": "code",
      "source": [
        "print(Tamanna)"
      ],
      "metadata": {
        "colab": {
          "base_uri": "https://localhost:8080/"
        },
        "id": "05kDq6lTz8wW",
        "outputId": "3a21b4f8-af75-4e81-e2f3-4f27f0f59050"
      },
      "execution_count": null,
      "outputs": [
        {
          "output_type": "stream",
          "name": "stdout",
          "text": [
            "oh fine!\n"
          ]
        }
      ]
    },
    {
      "cell_type": "code",
      "source": [
        "print('Tamanna')"
      ],
      "metadata": {
        "colab": {
          "base_uri": "https://localhost:8080/"
        },
        "id": "McI8dchfz8z_",
        "outputId": "24d2d319-af03-4ef1-ee1c-3c41d6bc2fa7"
      },
      "execution_count": null,
      "outputs": [
        {
          "output_type": "stream",
          "name": "stdout",
          "text": [
            "Tamanna\n"
          ]
        }
      ]
    },
    {
      "cell_type": "code",
      "source": [
        "#dataType\n",
        "#string type\n",
        "\n",
        "hablu='computer mama'\n",
        "habla=\"laptop\"\n",
        "print(hablu,habla)\n"
      ],
      "metadata": {
        "colab": {
          "base_uri": "https://localhost:8080/"
        },
        "id": "CamVIRSbz83X",
        "outputId": "bbc5a796-f24f-4dca-b844-7eb072a50a21"
      },
      "execution_count": null,
      "outputs": [
        {
          "output_type": "stream",
          "name": "stdout",
          "text": [
            "computer mama laptop\n"
          ]
        }
      ]
    },
    {
      "cell_type": "code",
      "source": [
        "#Number type data\n",
        "#int\n",
        "a=10\n",
        "#float\n",
        "b=10.5\n",
        "print(a)\n",
        "#for checking data type\n",
        "print(type(a))"
      ],
      "metadata": {
        "colab": {
          "base_uri": "https://localhost:8080/"
        },
        "id": "ELeTWV7m3spq",
        "outputId": "feccb842-e1b7-481a-df51-0da753c1d398"
      },
      "execution_count": null,
      "outputs": [
        {
          "output_type": "stream",
          "name": "stdout",
          "text": [
            "10\n",
            "<class 'int'>\n"
          ]
        }
      ]
    },
    {
      "cell_type": "code",
      "source": [
        "m"
      ],
      "metadata": {
        "id": "I4sgBhfV6oti"
      },
      "execution_count": null,
      "outputs": []
    },
    {
      "cell_type": "code",
      "source": [
        "#complex type data (NOT Valid i (j means complex )\n",
        "kudu=420j\n",
        "print(kudu)\n",
        "print(type(kudu))"
      ],
      "metadata": {
        "colab": {
          "base_uri": "https://localhost:8080/"
        },
        "id": "3h_K_cWU3swl",
        "outputId": "3091f883-89b5-43c5-848d-c1ac3c363c26"
      },
      "execution_count": null,
      "outputs": [
        {
          "output_type": "stream",
          "name": "stdout",
          "text": [
            "420j\n",
            "<class 'complex'>\n"
          ]
        }
      ]
    },
    {
      "cell_type": "code",
      "source": [
        "#string type data\n",
        "Your_name='Delowar'\n",
        "My_name= \"Tamanna\"\n",
        "print(Your_name + My_name)\n",
        "\n",
        "print(\"The name is\"+My_name )\n",
        "print(\"The name is\" + '   ' +My_name )\n",
        "print(\"The name is\" + ' *** ' +My_name )\n"
      ],
      "metadata": {
        "colab": {
          "base_uri": "https://localhost:8080/"
        },
        "id": "bYBWMh5N3s0N",
        "outputId": "f39dd0ae-249e-499d-8e04-09785570bd74"
      },
      "execution_count": null,
      "outputs": [
        {
          "output_type": "stream",
          "name": "stdout",
          "text": [
            "DelowarTamanna\n",
            "The name isTamanna\n",
            "The name is   Tamanna\n",
            "The name is *** Tamanna\n"
          ]
        }
      ]
    },
    {
      "cell_type": "code",
      "source": [
        "#Boolean data type(True or False)\n",
        "\n",
        "\n",
        "hablu = 'True'\n",
        "habla='False'\n",
        "hablu = True\n",
        "habla=False\n",
        "print(hablu)\n",
        "\n",
        "x=10\n",
        "y=10\n",
        "print(x==y)\n",
        "print(x<y)\n",
        "print(x>=y)\n",
        "print(type(hablu))\n",
        "print(type(y))\n",
        "\n"
      ],
      "metadata": {
        "colab": {
          "base_uri": "https://localhost:8080/"
        },
        "id": "GKPOhEdM3s3m",
        "outputId": "12d34cbe-ec43-424d-9674-a0bbc13ce4ad"
      },
      "execution_count": null,
      "outputs": [
        {
          "output_type": "stream",
          "name": "stdout",
          "text": [
            "True\n",
            "True\n",
            "False\n",
            "True\n",
            "<class 'bool'>\n",
            "<class 'int'>\n"
          ]
        }
      ]
    },
    {
      "cell_type": "code",
      "source": [
        "from os import name\n",
        "#string formating(string er upor opration-,+,....)\n",
        "#keyword f\n",
        "x=10\n",
        "y=22\n",
        "print(\"The super number is {x+y}\")\n",
        "print(f\"The super number is {x+y}\")\n",
        "print(\"The super number is \", x+y)\n",
        "Number_size= 'smaller than'\n",
        "print(f\"The super number is {Number_size}\", x+y)\n",
        "\n",
        "name='Tamanna'\n",
        "roll=1\n",
        "print(f\"My Name is {name} &  My Class roll is {roll}\")\n",
        "print(\"My Name is {name} &  My Class roll is {roll}\")\n",
        "\n",
        "\n"
      ],
      "metadata": {
        "colab": {
          "base_uri": "https://localhost:8080/"
        },
        "id": "oieD_GIjz86g",
        "outputId": "96fc3a96-fe1b-4e13-ee18-03e84fe8815a"
      },
      "execution_count": null,
      "outputs": [
        {
          "output_type": "stream",
          "name": "stdout",
          "text": [
            "The super number is {x+y}\n",
            "The super number is 32\n",
            "The super number is  32\n",
            "The super number is smaller than 32\n",
            "My Name is Tamanna &  My Class roll is 1\n",
            "My Name is {name} &  My Class roll is {roll}\n"
          ]
        }
      ]
    }
  ]
}