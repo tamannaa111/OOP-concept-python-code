{
 "cells": [
  {
   "cell_type": "code",
   "execution_count": null,
   "id": "a3c65431",
   "metadata": {},
   "outputs": [],
   "source": [
    "#### Multiple input\n",
    "\n",
    "x,y=input(\"Enter your value\").split()\n",
    "print(x,y)\n",
    "\n",
    "x,y=input(\"Enter your value\").split(\",\")\n",
    "print(x,y)"
   ]
  },
  {
   "cell_type": "code",
   "execution_count": 4,
   "id": "c95d4aed",
   "metadata": {},
   "outputs": [
    {
     "name": "stdout",
     "output_type": "stream",
     "text": [
      "Enter your value4,5,6,7,8\n",
      "['4', '5', '6', '7', '8']\n"
     ]
    }
   ],
   "source": [
    "#Multiple input as list\n",
    "\n",
    "x=(input(\"Enter your value\").split(\",\"))\n",
    "print(x)"
   ]
  },
  {
   "cell_type": "code",
   "execution_count": 5,
   "id": "b03bcf7e",
   "metadata": {},
   "outputs": [
    {
     "name": "stdout",
     "output_type": "stream",
     "text": [
      "Enter your value5\n",
      "['5']\n"
     ]
    }
   ],
   "source": [
    "#### input string\n",
    "x=input(\"Enter your value\")\n",
    "y=x.split()\n",
    "print(y)"
   ]
  },
  {
   "cell_type": "code",
   "execution_count": 6,
   "id": "8d7ba704",
   "metadata": {},
   "outputs": [
    {
     "name": "stdout",
     "output_type": "stream",
     "text": [
      "4 5 6 7\n",
      "<map object at 0x10f4973d0>\n"
     ]
    }
   ],
   "source": [
    "#Data Type niye kaj korar jonno\n",
    "\n",
    "x= (map(int,input().split()))\n",
    "print(x)"
   ]
  },
  {
   "cell_type": "code",
   "execution_count": 7,
   "id": "d497bbf7",
   "metadata": {},
   "outputs": [
    {
     "name": "stdout",
     "output_type": "stream",
     "text": [
      "4 5 6 7\n",
      "[4, 5, 6, 7]\n"
     ]
    }
   ],
   "source": [
    "#list function\n",
    "\n",
    "x= list(map(int,input().split()))\n",
    "print(x)"
   ]
  },
  {
   "cell_type": "code",
   "execution_count": null,
   "id": "f76a0a7f",
   "metadata": {},
   "outputs": [],
   "source": [
    "#input for create list from user input\n",
    "n=int(input(\"How many Numbers you want to take?  ->\"))\n",
    "list=[]\n",
    "for i in range(n):\n",
    "    x=int(input())\n",
    "    list.append(x)\n",
    "    print(list)\n",
    "print(list)    \n",
    "    \n",
    "    \n"
   ]
  },
  {
   "cell_type": "code",
   "execution_count": null,
   "id": "6ae2184f",
   "metadata": {},
   "outputs": [],
   "source": [
    "#List searching index()\n",
    "\n",
    "studentInfo=[\"Tamanna\",\"Tashin\",88,8899]\n",
    "studentInfo.index(\"Tamanna\")\n",
    "\n"
   ]
  },
  {
   "cell_type": "code",
   "execution_count": null,
   "id": "8a4d628d",
   "metadata": {},
   "outputs": [],
   "source": [
    "#reverse function\n",
    "student=[\"Tamanna\",\"Tashin\",88,8899]\n",
    "student.reverse()\n",
    "print(student)"
   ]
  },
  {
   "cell_type": "code",
   "execution_count": null,
   "id": "a53b5a59",
   "metadata": {},
   "outputs": [],
   "source": [
    "#Without reverse function\n",
    "\n",
    "list=[1,2,4,5]\n",
    "\n",
    "print(len(list))\n",
    "\n",
    "temp=list[0]\n",
    "list[0]=list[3]\n",
    "list[3]=temp\n",
    "\n",
    "temp1=list[1]\n",
    "list[1]=list[2]\n",
    "list[2]=temp1\n",
    "print(list)\n",
    "\n",
    "\n"
   ]
  },
  {
   "cell_type": "code",
   "execution_count": null,
   "id": "e8671165",
   "metadata": {},
   "outputs": [],
   "source": [
    "#Without reverse function with loop\n",
    "\n",
    "list=[\"1,2,3,4,5\"]\n",
    "n=len(list)\n",
    "print(len(list))\n",
    "list1=[]\n",
    "for i in range(n-1,-1,-1):\n",
    "    list1.append(list[i])\n",
    "list=list1.copy()   \n",
    "print(list)  \n",
    "    \n",
    " \n",
    "\n",
    "\n",
    "\n"
   ]
  },
  {
   "cell_type": "code",
   "execution_count": null,
   "id": "e441e97c",
   "metadata": {},
   "outputs": [],
   "source": [
    "\n",
    "student=[\"Tamanna\",\"Tanshin\",\"Tanha\"]\n",
    "id=[2,1,3]\n",
    "\n",
    "for i in range(len(id)):\n",
    "\n",
    "    print(student[i],\"=\",id[i])\n"
   ]
  },
  {
   "cell_type": "code",
   "execution_count": null,
   "id": "59c9ae4d",
   "metadata": {},
   "outputs": [],
   "source": [
    "stu=['tamanna','tanshin','tanno','aaa']\n",
    "id=[1,2,3,4]\n",
    "if len(id)==len(stu):\n",
    "    for i in range(len(id)):\n",
    "        print(stu[i],\":\",id[i])\n",
    "else:\n",
    "    print(\"Not matched the list items\")"
   ]
  },
  {
   "cell_type": "code",
   "execution_count": null,
   "id": "eff9b02b",
   "metadata": {},
   "outputs": [],
   "source": [
    "#Sum of list items\n",
    "\n",
    "List=[1,2,3,4,5,6]\n",
    "sum=0\n",
    "for i in range(len(List)):\n",
    "    sum=sum+List[i]\n",
    "    \n",
    "print(sum)    "
   ]
  },
  {
   "cell_type": "code",
   "execution_count": null,
   "id": "b58e14dc",
   "metadata": {},
   "outputs": [],
   "source": [
    "A=[321,143,521]\n",
    "\n",
    "sum=A[0]%10\n",
    "print(sum)\n"
   ]
  },
  {
   "cell_type": "code",
   "execution_count": null,
   "id": "7af8f5c9",
   "metadata": {},
   "outputs": [],
   "source": [
    "A=[321,143,521]\n",
    "list_sum=[]\n",
    "\n",
    "\n",
    "for i in range(0,len(A),1):\n",
    "     sum=0\n",
    "     n=A[i]\n",
    "     while(n!=0):\n",
    "        k=n%10\n",
    "        n=n/10\n",
    "        sum=sum+k\n",
    "    \n",
    "     list_sum.append(int(sum))\n",
    "    \n",
    "print(list_sum)\n"
   ]
  },
  {
   "cell_type": "code",
   "execution_count": null,
   "id": "6d379e7f",
   "metadata": {},
   "outputs": [],
   "source": [
    "def sum_of_odd_numbers_recursive(input_list):\n",
    "    # Base case: if the list is empty\n",
    "    if not input_list:\n",
    "        return 0\n",
    "    else:\n",
    "        # Recursive case: sum the first element if it's odd, plus the sum of the rest of the list\n",
    "        if input_list[0] % 2 != 0:\n",
    "            return input_list[0] + sum_of_odd_numbers_recursive(input_list[1:])\n",
    "        else:\n",
    "            return sum_of_odd_numbers_recursive(input_list[1:])\n",
    "\n",
    "# Example usage:\n",
    "my_list = [1, 2, 3, 4, 5, 6, 7, 8, 9]\n",
    "result = sum_of_odd_numbers_recursive(my_list)\n",
    "\n",
    "print(f\"Sum of odd numbers in the list {my_list}: {result}\")\n"
   ]
  },
  {
   "cell_type": "code",
   "execution_count": null,
   "id": "6c0a18e3",
   "metadata": {},
   "outputs": [],
   "source": [
    "def sum_of_odd_numbers_recursive(input_list):\n",
    "    \n",
    "    if not input_list:\n",
    "        return 0\n",
    "    else:\n",
    "      \n",
    "        if input_list[0] % 2 != 0:\n",
    "            return input_list[0] + sum_of_odd_numbers_recursive(input_list[1:])\n",
    "        else:\n",
    "            return sum_of_odd_numbers_recursive(input_list[1:])\n",
    "\n",
    "my_list = [1, 2, 3, 4, 5, 6, 7, 8, 9]\n",
    "result = sum_of_odd_numbers_recursive(my_list)\n",
    "\n",
    "print(f\"Sum of odd numbers in the list {my_list}: {result}\")\n"
   ]
  },
  {
   "cell_type": "code",
   "execution_count": null,
   "id": "016fd043",
   "metadata": {},
   "outputs": [],
   "source": [
    "n = \"welcome to MY house\"\n",
    "N = n.split()\n",
    "print(N)\n",
    "\n",
    "# Create an empty list to store the uppercase versions\n",
    "list_upper = []\n",
    "\n",
    "# Iterate through the words in N and convert them to uppercase\n",
    "for word in N:\n",
    "    upp = word.upper()\n",
    "    list_upper.append(upp)\n",
    "\n",
    "print(list_upper)\n"
   ]
  }
 ],
 "metadata": {
  "kernelspec": {
   "display_name": "Python 3 (ipykernel)",
   "language": "python",
   "name": "python3"
  },
  "language_info": {
   "codemirror_mode": {
    "name": "ipython",
    "version": 3
   },
   "file_extension": ".py",
   "mimetype": "text/x-python",
   "name": "python",
   "nbconvert_exporter": "python",
   "pygments_lexer": "ipython3",
   "version": "3.11.5"
  }
 },
 "nbformat": 4,
 "nbformat_minor": 5
}
