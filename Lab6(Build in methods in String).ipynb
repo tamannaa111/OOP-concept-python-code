{
 "cells": [
  {
   "cell_type": "code",
   "execution_count": 1,
   "id": "58c7ae4a",
   "metadata": {},
   "outputs": [
    {
     "name": "stdout",
     "output_type": "stream",
     "text": [
      "['Welcome', 'to', 'python', 'programmming']\n",
      "['Welcome to python programming', \" let's exploreit\", ' and fuilfil your goal']\n"
     ]
    }
   ],
   "source": [
    "# build in function in string\n",
    "\n",
    "String1=\"Welcome to python programmming\"\n",
    "String2=\"\"\"Welcome to python programming, let's exploreit, and fuilfil your goal\"\"\"\n",
    "\n",
    "#String Spliting: Split():\n",
    "\n",
    "print(String1.split())\n",
    "print(String2.split(','))"
   ]
  },
  {
   "cell_type": "code",
   "execution_count": null,
   "id": "6ca6b697",
   "metadata": {},
   "outputs": [],
   "source": [
    "##Build in methods in String\n",
    "\n",
    "#upper()\n",
    "#lower()\n",
    "#replace()\n",
    "#find()\n",
    "#rstrip()\n",
    "#split()\n",
    "#startswith()\n",
    "#index()"
   ]
  },
  {
   "cell_type": "code",
   "execution_count": 2,
   "id": "199b7bbb",
   "metadata": {},
   "outputs": [
    {
     "name": "stdout",
     "output_type": "stream",
     "text": [
      "WELCOME TO PYTHON PROGRAMMMING\n",
      "welcome to python programmming\n",
      "Hello to python programmming\n"
     ]
    }
   ],
   "source": [
    "print(String1.upper())\n",
    "print(String1.lower())\n",
    "r=String1.replace(\"Welcome\",\"Hello\")\n",
    "print(r)\n",
    "\n"
   ]
  },
  {
   "cell_type": "code",
   "execution_count": 3,
   "id": "bee08930",
   "metadata": {},
   "outputs": [
    {
     "name": "stdout",
     "output_type": "stream",
     "text": [
      "0\n",
      "8\n",
      "-1\n"
     ]
    }
   ],
   "source": [
    "#find()\n",
    "\n",
    "x=String2.find(\"Welcome\") #First index return korbe\n",
    "print(x)\n",
    "z=String2.find(\"to\") #First index return korbe\n",
    "print(z)\n",
    "z=String2.find(\"my\")  #Na thakle -1 return korbe\n",
    "print(z)"
   ]
  },
  {
   "cell_type": "code",
   "execution_count": 4,
   "id": "13777375",
   "metadata": {},
   "outputs": [
    {
     "name": "stdout",
     "output_type": "stream",
     "text": [
      "Welcome to python programmming \n"
     ]
    }
   ],
   "source": [
    "#rstrip \n",
    "String1=\"Welcome to python programmming !\"\n",
    "print(String1.rstrip(\"!\"))   # last theke remove hobe"
   ]
  },
  {
   "cell_type": "code",
   "execution_count": 5,
   "id": "e8db4a1f",
   "metadata": {},
   "outputs": [
    {
     "name": "stdout",
     "output_type": "stream",
     "text": [
      "False\n",
      "True\n"
     ]
    }
   ],
   "source": [
    "#StartsWith()\n",
    "\n",
    "String1=\"Welcome to python programmming !\"\n",
    "print(String1.startswith(\"!\")) \n",
    "print(String1.startswith(\"Welcome\"))"
   ]
  },
  {
   "cell_type": "code",
   "execution_count": null,
   "id": "ef4a5d68",
   "metadata": {},
   "outputs": [],
   "source": [
    "print(String1.index(\"!\"))"
   ]
  },
  {
   "cell_type": "code",
   "execution_count": 6,
   "id": "134d7ecf",
   "metadata": {
    "scrolled": true
   },
   "outputs": [
    {
     "name": "stdout",
     "output_type": "stream",
     "text": [
      "List2 is:  [97, 98, 99, 100, 'Apple', 'App', 'Asc', 'de', 'fe']\n",
      "New List2 is:  ['Apple', 'App', 'Asc', 'de', 'fe']\n",
      "List3 is:  ['a', 'b', 'c', 'd']\n"
     ]
    }
   ],
   "source": [
    "#Problem my\n",
    "\n",
    "List1=['Apple','App','cat','Asc','de','fe']\n",
    "List2=[97,98,99,100]\n",
    "for i in List1[:]:\n",
    "    if i.startswith(\"A\") or i.endswith(\"e\"):\n",
    "        List2.append(i)\n",
    "\n",
    "print(\"List2 is: \",List2) \n",
    "List3=[]\n",
    "for i in List2[:]:\n",
    "    if type(i)==int:\n",
    "        List2.remove(i)\n",
    "        List3.append(chr(i))\n",
    "        \n",
    "print(\"New List2 is: \",List2)\n",
    "print(\"List3 is: \",List3)"
   ]
  },
  {
   "cell_type": "code",
   "execution_count": 7,
   "id": "fac34fd2",
   "metadata": {},
   "outputs": [
    {
     "name": "stdout",
     "output_type": "stream",
     "text": [
      "prog\n",
      "programm321ng\n"
     ]
    }
   ],
   "source": [
    "\n",
    "N=\"programming\"\n",
    "a=N[0:4]\n",
    "print(a)\n",
    "for i in range(1,4):\n",
    "    rep=N.replace(\"i\",\"321\")\n",
    "print(rep)"
   ]
  },
  {
   "cell_type": "code",
   "execution_count": 8,
   "id": "26645fc8",
   "metadata": {},
   "outputs": [
    {
     "name": "stdout",
     "output_type": "stream",
     "text": [
      "321GRAMM#!@\n",
      "ing\n"
     ]
    }
   ],
   "source": [
    "N=\"programming\"\n",
    "rep=N.replace(\"pro\",\"321\")\n",
    "rep=rep.replace(\"ing\",\"#!@\")\n",
    "rep=rep.upper()\n",
    "print(rep)\n",
    "\n",
    "\n",
    "print(N[-3:])\n"
   ]
  },
  {
   "cell_type": "code",
   "execution_count": 15,
   "id": "e6e9bac0",
   "metadata": {},
   "outputs": [
    {
     "ename": "IndentationError",
     "evalue": "unindent does not match any outer indentation level (<tokenize>, line 10)",
     "output_type": "error",
     "traceback": [
      "\u001b[0;36m  File \u001b[0;32m<tokenize>:10\u001b[0;36m\u001b[0m\n\u001b[0;31m    x=rep.upper()\u001b[0m\n\u001b[0m    ^\u001b[0m\n\u001b[0;31mIndentationError\u001b[0m\u001b[0;31m:\u001b[0m unindent does not match any outer indentation level\n"
     ]
    }
   ],
   "source": [
    "#problem 2\n",
    "\n",
    "N=input(\"Enter :\")\n",
    "for i in N:\n",
    "    if len(N)>=8:\n",
    "        m=N[0:3]\n",
    "        rep=N.replace(m,\"123\")\n",
    "        n=N[-3:]\n",
    "        rep=rep.replace(n,\"#!@\")\n",
    "       x=rep.upper()\n",
    "print(x)        \n"
   ]
  },
  {
   "cell_type": "code",
   "execution_count": null,
   "id": "7cab8c00",
   "metadata": {},
   "outputs": [],
   "source": [
    "sss"
   ]
  },
  {
   "cell_type": "code",
   "execution_count": 9,
   "id": "7caefb70",
   "metadata": {
    "scrolled": true
   },
   "outputs": [
    {
     "ename": "SyntaxError",
     "evalue": "invalid syntax (1344767154.py, line 2)",
     "output_type": "error",
     "traceback": [
      "\u001b[0;36m  Cell \u001b[0;32mIn[9], line 2\u001b[0;36m\u001b[0m\n\u001b[0;31m    list1=[n]sss\u001b[0m\n\u001b[0m             ^\u001b[0m\n\u001b[0;31mSyntaxError\u001b[0m\u001b[0;31m:\u001b[0m invalid syntax\n"
     ]
    }
   ],
   "source": [
    "n=map(input().split)\n",
    "list1=[n]sss\n",
    "list2=[n]\n",
    "list3=[]\n",
    "list3.append(list1)\n",
    "list3.appand(list2)\n",
    "print(list3)\n"
   ]
  },
  {
   "cell_type": "code",
   "execution_count": 10,
   "id": "c0948c3a",
   "metadata": {},
   "outputs": [
    {
     "name": "stdout",
     "output_type": "stream",
     "text": [
      "Enter the value:2 3 4\n",
      "[['2', '3', '4']]\n",
      "Enter the value:3 4 5\n",
      "[]\n"
     ]
    },
    {
     "ename": "TypeError",
     "evalue": "list.append() takes exactly one argument (2 given)",
     "output_type": "error",
     "traceback": [
      "\u001b[0;31m---------------------------------------------------------------------------\u001b[0m",
      "\u001b[0;31mTypeError\u001b[0m                                 Traceback (most recent call last)",
      "Cell \u001b[0;32mIn[10], line 12\u001b[0m\n\u001b[1;32m      9\u001b[0m \u001b[38;5;28mprint\u001b[39m(list2)\n\u001b[1;32m     11\u001b[0m list3\u001b[38;5;241m=\u001b[39m[]\n\u001b[0;32m---> 12\u001b[0m list3\u001b[38;5;241m.\u001b[39mappend(list1,list2)\n\u001b[1;32m     13\u001b[0m list3\u001b[38;5;241m.\u001b[39mappend(list2)\n\u001b[1;32m     14\u001b[0m \u001b[38;5;28mprint\u001b[39m(list3)\n",
      "\u001b[0;31mTypeError\u001b[0m: list.append() takes exactly one argument (2 given)"
     ]
    }
   ],
   "source": [
    "list1=[]\n",
    "n=input(\"Enter the value:\").split()\n",
    "list1.append(n)\n",
    "print(list1)\n",
    "\n",
    "list2=[]\n",
    "m=input(\"Enter the value:\").split()\n",
    "list1.append(m)\n",
    "print(list2)\n",
    "\n",
    "list3=[]\n",
    "list3.append(list1,list2)\n",
    "list3.append(list2)\n",
    "print(list3)"
   ]
  },
  {
   "cell_type": "code",
   "execution_count": 11,
   "id": "c93eb589",
   "metadata": {},
   "outputs": [
    {
     "name": "stdout",
     "output_type": "stream",
     "text": [
      "Enter the value:4 5 6\n",
      "List1 is: [4, 5, 6]\n",
      "Enter the value:3 4 6\n",
      "List2 is:  [3, 4, 6]\n",
      "List 3 is:  [[4, 5, 6], [3, 4, 6]]\n"
     ]
    }
   ],
   "source": [
    "list1=list(map(int,input(\"Enter the value:\").split()))\n",
    "print(\"List1 is:\",list1)\n",
    "list2=list(map(int,input(\"Enter the value:\").split()))\n",
    "print(\"List2 is: \",list2)\n",
    "list3=[]\n",
    "list3.append(list1)\n",
    "list3.append(list2)\n",
    "print(\"List 3 is: \",list3)"
   ]
  },
  {
   "cell_type": "markdown",
   "id": "69cb44cb",
   "metadata": {},
   "source": []
  },
  {
   "cell_type": "code",
   "execution_count": null,
   "id": "0103584e",
   "metadata": {},
   "outputs": [],
   "source": []
  }
 ],
 "metadata": {
  "kernelspec": {
   "display_name": "Python 3 (ipykernel)",
   "language": "python",
   "name": "python3"
  },
  "language_info": {
   "codemirror_mode": {
    "name": "ipython",
    "version": 3
   },
   "file_extension": ".py",
   "mimetype": "text/x-python",
   "name": "python",
   "nbconvert_exporter": "python",
   "pygments_lexer": "ipython3",
   "version": "3.11.5"
  }
 },
 "nbformat": 4,
 "nbformat_minor": 5
}
