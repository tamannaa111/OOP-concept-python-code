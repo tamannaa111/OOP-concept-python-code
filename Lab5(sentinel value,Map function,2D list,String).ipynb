{
 "cells": [
  {
   "cell_type": "code",
   "execution_count": null,
   "id": "be8192f5",
   "metadata": {},
   "outputs": [],
   "source": [
    "#sentinel value\n",
    "sum=0\n",
    "i=0\n",
    "print(\"Enter yout value\")\n",
    "data=int(input())\n",
    "\n",
    "while data!=0:\n",
    "    \n",
    "    sum=sum+data\n",
    "    i=i+1\n",
    "    print(\"Enter Zero(0) to exit form loop:\")\n",
    "print(sum)    "
   ]
  },
  {
   "cell_type": "code",
   "execution_count": null,
   "id": "9b2c1a5e",
   "metadata": {},
   "outputs": [],
   "source": [
    "#Map function\n",
    "\n",
    "def sum(n):\n",
    "\n",
    "    sum=0\n",
    "\n",
    "    for i in range(len(n)):\n",
    "        sum=sum+n[i]\n",
    "    print(sum)\n",
    "    List=[1,2,3,4,5,6]      \n",
    "list(map(sum,[List]))  # # single value return korle bracket use  korte hobe"
   ]
  },
  {
   "cell_type": "code",
   "execution_count": 1,
   "id": "d75f2e11",
   "metadata": {},
   "outputs": [
    {
     "ename": "NameError",
     "evalue": "name 'List' is not defined",
     "output_type": "error",
     "traceback": [
      "\u001b[0;31m---------------------------------------------------------------------------\u001b[0m",
      "\u001b[0;31mNameError\u001b[0m                                 Traceback (most recent call last)",
      "Cell \u001b[0;32mIn[1], line 11\u001b[0m\n\u001b[1;32m      9\u001b[0m     \u001b[38;5;28mprint\u001b[39m(\u001b[38;5;28msum\u001b[39m)\n\u001b[1;32m     10\u001b[0m     List\u001b[38;5;241m=\u001b[39m[\u001b[38;5;241m1\u001b[39m,\u001b[38;5;241m2\u001b[39m,\u001b[38;5;241m3\u001b[39m,\u001b[38;5;241m4\u001b[39m,\u001b[38;5;241m5\u001b[39m,\u001b[38;5;241m6\u001b[39m]      \n\u001b[0;32m---> 11\u001b[0m \u001b[38;5;28mlist\u001b[39m(\u001b[38;5;28mmap\u001b[39m(\u001b[38;5;28msum\u001b[39m,[List]))\n",
      "\u001b[0;31mNameError\u001b[0m: name 'List' is not defined"
     ]
    }
   ],
   "source": [
    "#Map function\n",
    "\n",
    "def sum(n):\n",
    "\n",
    "    sum=0\n",
    "\n",
    "    for i in n:\n",
    "        sum=sum+i\n",
    "    print(sum)\n",
    "    List=[1,2,3,4,5,6]      \n",
    "list(map(sum,[List]))   # single value return korle brecket korte hobe"
   ]
  },
  {
   "cell_type": "code",
   "execution_count": 2,
   "id": "4d83f3d4",
   "metadata": {},
   "outputs": [
    {
     "name": "stdout",
     "output_type": "stream",
     "text": [
      "Odd\n",
      "Odd\n",
      "Even\n",
      "Odd\n",
      "Odd\n",
      "Even\n",
      "Odd\n",
      "Even\n"
     ]
    },
    {
     "data": {
      "text/plain": [
       "[None, None, None, None, None, None, None, None]"
      ]
     },
     "execution_count": 2,
     "metadata": {},
     "output_type": "execute_result"
    }
   ],
   "source": [
    "#Map function\n",
    "\n",
    "def check(n):\n",
    "    if n%2==0:\n",
    "        print(\"Even\")\n",
    "    else:\n",
    "        print(\"Odd\")\n",
    "num=[1,3,4,5,3,4,5,6]\n",
    "list(map(check,num))"
   ]
  },
  {
   "cell_type": "code",
   "execution_count": 6,
   "id": "64df9a15",
   "metadata": {
    "scrolled": false
   },
   "outputs": [
    {
     "name": "stdout",
     "output_type": "stream",
     "text": [
      "[[1, 2, 3, 4, 5], [2, 6, 3, 4, 5, 6]]\n"
     ]
    }
   ],
   "source": [
    "#2D list\n",
    "Two_D=[[1,2,3,4,5],[2,6,3,4,5,6]]\n",
    "print(Two_D)"
   ]
  },
  {
   "cell_type": "code",
   "execution_count": 5,
   "id": "a34b4027",
   "metadata": {},
   "outputs": [
    {
     "name": "stdout",
     "output_type": "stream",
     "text": [
      "4\n",
      "4\n"
     ]
    }
   ],
   "source": [
    "TwoD=[[1,2,3,4,5],[2,6,3,4,5,6]]\n",
    "print(TwoD[1][3])\n",
    "print(TwoD[0][3])"
   ]
  },
  {
   "cell_type": "code",
   "execution_count": 3,
   "id": "66a78568",
   "metadata": {},
   "outputs": [
    {
     "name": "stdout",
     "output_type": "stream",
     "text": [
      "[1, 2, 3, 4, 5]\n",
      "[2, 6, 3, 4, 5, 6]\n"
     ]
    }
   ],
   "source": [
    "TwoD=[[1,2,3,4,5],[2,6,3,4,5,6]]\n",
    "for i in TwoD:\n",
    "    print(i)\n",
    "    "
   ]
  },
  {
   "cell_type": "code",
   "execution_count": 2,
   "id": "7ac15213",
   "metadata": {},
   "outputs": [
    {
     "name": "stdout",
     "output_type": "stream",
     "text": [
      "[1, 2, 3, 4, 5]\n",
      "[2, 6, 3, 4, 5, 6]\n"
     ]
    }
   ],
   "source": [
    "#or\n",
    "TwoD=[[1,2,3,4,5],[2,6,3,4,5,6]]\n",
    "for i in range(len(TwoD)):\n",
    "    print(TwoD[i])\n",
    "\n"
   ]
  },
  {
   "cell_type": "code",
   "execution_count": 4,
   "id": "7896cc90",
   "metadata": {},
   "outputs": [
    {
     "name": "stdout",
     "output_type": "stream",
     "text": [
      "[[[1, 2, 3, 4], [2, 3, 4, 5], [4, 5, 6, 6]]]\n",
      "[[1, 2, 3, 4], [2, 3, 4, 5], [4, 5, 6, 6]]\n",
      "[[1, 2, 3, 4], [2, 3, 4, 5], [4, 5, 6, 6]]\n"
     ]
    }
   ],
   "source": [
    "##3D\n",
    "\n",
    "ThreeD=[[[1,2,3,4],[2,3,4,5],[4,5,6,6]]]\n",
    "print(ThreeD)\n",
    "\n",
    "for i in ThreeD:\n",
    "    print(i)\n",
    "for i in range(len(ThreeD)):\n",
    "    print(ThreeD[i])"
   ]
  },
  {
   "cell_type": "code",
   "execution_count": null,
   "id": "4fb7db0f",
   "metadata": {},
   "outputs": [],
   "source": [
    "#Addition of 2D list\n",
    "\n",
    "TwoD=[[1,2,3,4,5],[2,6,3,4,5]]\n",
    "sum=0\n",
    "for i in TwoD:\n",
    "    for j in i:\n",
    "        sum=sum+j\n",
    "print(sum)    "
   ]
  },
  {
   "cell_type": "code",
   "execution_count": null,
   "id": "2e47244a",
   "metadata": {},
   "outputs": [],
   "source": [
    "#Mutiplication\n",
    "A=1\n",
    "D=[[1,2,3,4,5],[2,6,3,4,5]]\n",
    "for i in range(len(D)):\n",
    "    for j in range(len(D[i])):\n",
    "       A=A*D[i][j]\n",
    "print(A)"
   ]
  },
  {
   "cell_type": "code",
   "execution_count": null,
   "id": "60977a36",
   "metadata": {},
   "outputs": [],
   "source": [
    "#Mutiplication\n",
    "\n",
    "number=[[1,3,4,7],[2,8,5,6]]\n",
    "A=1\n",
    "for i in range(len(number)):\n",
    "    for j in  range(len(number[i])):\n",
    "        A=A*number[i][j]\n",
    "print(A)"
   ]
  },
  {
   "cell_type": "code",
   "execution_count": 1,
   "id": "f89ae798",
   "metadata": {},
   "outputs": [
    {
     "name": "stdout",
     "output_type": "stream",
     "text": [
      "2160000\n"
     ]
    }
   ],
   "source": [
    "#Mutiplication\n",
    "\n",
    "TwoD=[[1,2,3,4,5],[2,6,3,5,5,4,5]]\n",
    "sum=1\n",
    "for i in TwoD:\n",
    "    for j in i:\n",
    "        sum=sum*j\n",
    "print(sum) "
   ]
  },
  {
   "cell_type": "code",
   "execution_count": 16,
   "id": "63e08681",
   "metadata": {},
   "outputs": [
    {
     "ename": "TypeError",
     "evalue": "unsupported operand type(s) for +: 'int' and 'list'",
     "output_type": "error",
     "traceback": [
      "\u001b[0;31m---------------------------------------------------------------------------\u001b[0m",
      "\u001b[0;31mTypeError\u001b[0m                                 Traceback (most recent call last)",
      "Cell \u001b[0;32mIn[16], line 5\u001b[0m\n\u001b[1;32m      3\u001b[0m \u001b[38;5;28;01mfor\u001b[39;00m i \u001b[38;5;129;01min\u001b[39;00m ThreeD:\n\u001b[1;32m      4\u001b[0m     \u001b[38;5;28;01mfor\u001b[39;00m j \u001b[38;5;129;01min\u001b[39;00m i:\n\u001b[0;32m----> 5\u001b[0m         \u001b[38;5;28msum\u001b[39m\u001b[38;5;241m=\u001b[39m\u001b[38;5;28msum\u001b[39m\u001b[38;5;241m+\u001b[39mj\n\u001b[1;32m      6\u001b[0m \u001b[38;5;28mprint\u001b[39m(\u001b[38;5;28msum\u001b[39m)\n",
      "\u001b[0;31mTypeError\u001b[0m: unsupported operand type(s) for +: 'int' and 'list'"
     ]
    }
   ],
   "source": [
    "ThreeD=[[[1,2,3,4],[2,3,4,5],[4,5,6,6]]]\n",
    "sum=1\n",
    "for i in ThreeD:\n",
    "    for j in i:\n",
    "        sum=sum*j\n",
    "print(sum) "
   ]
  },
  {
   "cell_type": "markdown",
   "id": "70348d21",
   "metadata": {},
   "source": [
    "# String####\n",
    "\n"
   ]
  },
  {
   "cell_type": "code",
   "execution_count": 10,
   "id": "200b76ef",
   "metadata": {},
   "outputs": [
    {
     "name": "stdout",
     "output_type": "stream",
     "text": [
      "lco\n"
     ]
    }
   ],
   "source": [
    "String1='welcome to python programming'\n",
    "\n",
    "String2=\"\"\" Welcome to python programming. let's explore it\"\"\" ##Multiple line\n",
    "\n",
    "print(String1[2:5])"
   ]
  },
  {
   "cell_type": "code",
   "execution_count": 11,
   "id": "74ba61c9",
   "metadata": {},
   "outputs": [
    {
     "name": "stdout",
     "output_type": "stream",
     "text": [
      "welcome to python programming Welcome to python programming. let's explore it\n"
     ]
    }
   ],
   "source": [
    "#concatention(+)\n",
    "\n",
    "String3='python is very simple language'\n",
    "print(String1+String2)\n",
    "\n"
   ]
  },
  {
   "cell_type": "code",
   "execution_count": 12,
   "id": "aef24b20",
   "metadata": {},
   "outputs": [
    {
     "name": "stdout",
     "output_type": "stream",
     "text": [
      "False\n"
     ]
    }
   ],
   "source": [
    "#Comparison(==)\n",
    "\n",
    "print(String1==String2)\n"
   ]
  },
  {
   "cell_type": "code",
   "execution_count": 14,
   "id": "0a7a039e",
   "metadata": {},
   "outputs": [
    {
     "name": "stdout",
     "output_type": "stream",
     "text": [
      "welcome to python programming\n",
      "lcome to python programming\n",
      "welco\n",
      "lco\n",
      "ammi\n",
      "loe\n",
      "wl\n",
      "grammi\n",
      "welcome to python programming\n"
     ]
    }
   ],
   "source": [
    "#String Sclicing(:)\n",
    "\n",
    "print(String1[:])\n",
    "print(String1[2:])\n",
    "print(String1[:5])\n",
    "print(String1[2:5])\n",
    "print(String1[-6:-2])\n",
    "print(String1[2:8:2])\n",
    "print(String1[:4:2])\n",
    "print(String1[-8:-2:1])\n",
    "print(String1[:])\n"
   ]
  },
  {
   "cell_type": "code",
   "execution_count": null,
   "id": "68dedc6b",
   "metadata": {},
   "outputs": [],
   "source": []
  }
 ],
 "metadata": {
  "kernelspec": {
   "display_name": "Python 3 (ipykernel)",
   "language": "python",
   "name": "python3"
  },
  "language_info": {
   "codemirror_mode": {
    "name": "ipython",
    "version": 3
   },
   "file_extension": ".py",
   "mimetype": "text/x-python",
   "name": "python",
   "nbconvert_exporter": "python",
   "pygments_lexer": "ipython3",
   "version": "3.11.5"
  }
 },
 "nbformat": 4,
 "nbformat_minor": 5
}
