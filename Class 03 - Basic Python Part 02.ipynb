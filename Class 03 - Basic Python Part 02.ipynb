{
 "cells": [
  {
   "cell_type": "markdown",
   "id": "50af509d",
   "metadata": {},
   "source": [
    "# Python Learning Resources\n",
    "\n",
    "## Official Python Tutorial\n",
    "The official Python documentation tutorial. It's a great place to start learning Python from scratch, covering all the basics and more.  \n",
    "[Official Python Tutorial](https://docs.python.org/3/tutorial/index.html)\n",
    "\n",
    "## 60 Days of Python - YouTube Playlist\n",
    "A comprehensive YouTube playlist designed to teach you Python in 60 days, covering various topics and projects to build your skills.  \n",
    "[60 Days of Python - YouTube Playlist](https://www.youtube.com/playlist?list=PLKdU0fuY4OFf7qj4eoBtvALAB_Ml2rN0V)\n",
    "\n",
    "## 60 Days of Python - GitHub Repository\n",
    "The GitHub repository for the 60 Days of Python series. It includes all the code and resources used in the YouTube playlist.  \n",
    "[60 Days of Python - GitHub Repository](https://github.com/rashakil-ds/60-Days-of-Python-by-Study-Mart-AI-QUEST)\n",
    "\n",
    "## Python Notes for Professionals - PDF\n",
    "A free PDF book that offers a wide range of Python notes for professionals. It's a useful reference guide for both beginners and advanced users.  \n",
    "[Python Notes for Professionals - PDF](https://github.com/rashakil-ds/Top-Data-Science-AI-Book-Collection/blob/main/Books/Python%20Notes%20For%20Professionals.pdf)\n"
   ]
  },
  {
   "cell_type": "code",
   "execution_count": null,
   "id": "ad01ad89",
   "metadata": {},
   "outputs": [],
   "source": []
  },
  {
   "cell_type": "markdown",
   "id": "8b8f2b2e",
   "metadata": {},
   "source": [
    "# Break and Continue Statements in Python\n",
    "\n",
    "## Break Statement\n",
    "\n",
    "The `break` statement is used to exit a loop prematurely when a certain condition is met.\n",
    "\n",
    "### Example of Break Statement\n",
    "```python\n",
    "for i in range(10):\n",
    "    if i == 5:\n",
    "        break\n",
    "    print(i)\n"
   ]
  },
  {
   "cell_type": "code",
   "execution_count": 1,
   "id": "fc8c7ef6",
   "metadata": {},
   "outputs": [
    {
     "name": "stdout",
     "output_type": "stream",
     "text": [
      "0\n",
      "1\n",
      "2\n",
      "3\n",
      "4\n"
     ]
    }
   ],
   "source": [
    "for i in range(10):\n",
    "    if i == 5:\n",
    "        break\n",
    "    print(i)"
   ]
  },
  {
   "cell_type": "code",
   "execution_count": 4,
   "id": "3b67e399",
   "metadata": {},
   "outputs": [
    {
     "name": "stdout",
     "output_type": "stream",
     "text": [
      "a\n",
      "b\n"
     ]
    }
   ],
   "source": [
    "data = ['a','b','c','d']\n",
    "for i in data:\n",
    "    if i =='c':\n",
    "        break\n",
    "    print(i)"
   ]
  },
  {
   "cell_type": "code",
   "execution_count": null,
   "id": "3622fe40",
   "metadata": {},
   "outputs": [],
   "source": []
  },
  {
   "cell_type": "markdown",
   "id": "c7d99c31",
   "metadata": {},
   "source": [
    "# Continue Statement in Python\n",
    "\n",
    "The `continue` statement in Python is used to skip the current iteration of a loop and proceed to the next iteration. This can be useful when you want to skip certain values or conditions within a loop without terminating the entire loop.\n",
    "\n",
    "## Syntax\n",
    "\n",
    "The syntax of the `continue` statement is simple:\n",
    "\n",
    "```python\n",
    "continue\n",
    "\n",
    "#### Example:-\n",
    "for i in range(10):\n",
    "    if i % 2 == 0:\n",
    "        continue\n",
    "    print(i)\n"
   ]
  },
  {
   "cell_type": "code",
   "execution_count": 5,
   "id": "1c21d0df",
   "metadata": {},
   "outputs": [
    {
     "name": "stdout",
     "output_type": "stream",
     "text": [
      "a\n",
      "b\n",
      "d\n"
     ]
    }
   ],
   "source": [
    "data = ['a','b','c','d']\n",
    "for i in data:\n",
    "    if i =='c': # except c\n",
    "        continue\n",
    "    print(i)"
   ]
  },
  {
   "cell_type": "code",
   "execution_count": 6,
   "id": "482cb942",
   "metadata": {},
   "outputs": [
    {
     "name": "stdout",
     "output_type": "stream",
     "text": [
      "1\n",
      "3\n",
      "5\n",
      "7\n",
      "9\n"
     ]
    }
   ],
   "source": [
    "for i in range(10):\n",
    "    if i % 2 == 0: #true hole skip -> odd\n",
    "        continue\n",
    "    print(i)"
   ]
  },
  {
   "cell_type": "markdown",
   "id": "b304e8f4",
   "metadata": {},
   "source": [
    "break -> stop <br>\n",
    "continue -> skip"
   ]
  },
  {
   "cell_type": "markdown",
   "id": "6f91ce42",
   "metadata": {},
   "source": [
    "# Data Structures in Python\n",
    "\n",
    "Python provides several `built-in` data structures to store and manage data efficiently. These data structures include lists, tuples, dictionaries, sets, and more. Each data structure has unique properties and methods, making them suitable for different types of applications.\n"
   ]
  },
  {
   "cell_type": "markdown",
   "id": "8e17df05",
   "metadata": {},
   "source": [
    "### Type of Data Structures in Python\n",
    "\n",
    "- String\n",
    "- List\n",
    "- Tuple\n",
    "- Set\n",
    "- Dictionary"
   ]
  },
  {
   "cell_type": "markdown",
   "id": "8d4f34e4",
   "metadata": {},
   "source": [
    "# 1. Lists in Python\n",
    "\n",
    "A list is an ordered, changeable, mutable collection of elements. It also allowed duplicates. Lists can contain elements of different types.\n",
    "\n",
    "### Example:\n",
    "```python\n",
    "dept = [\"ai\", \"ds\", \"da\", \"nlp\"]\n",
    "print(dept)\n"
   ]
  },
  {
   "cell_type": "code",
   "execution_count": 7,
   "id": "bbc677e3",
   "metadata": {},
   "outputs": [
    {
     "name": "stdout",
     "output_type": "stream",
     "text": [
      "['ai', 'ds', 'da', 'nlp']\n"
     ]
    }
   ],
   "source": [
    "dept = [\"ai\", \"ds\", \"da\", \"nlp\"] #list()\n",
    "print(dept)"
   ]
  },
  {
   "cell_type": "code",
   "execution_count": 9,
   "id": "1e063c5f",
   "metadata": {},
   "outputs": [
    {
     "data": {
      "text/plain": [
       "list"
      ]
     },
     "execution_count": 9,
     "metadata": {},
     "output_type": "execute_result"
    }
   ],
   "source": [
    "type(dept)"
   ]
  },
  {
   "cell_type": "code",
   "execution_count": 10,
   "id": "909f9f93",
   "metadata": {},
   "outputs": [
    {
     "data": {
      "text/plain": [
       "'ai'"
      ]
     },
     "execution_count": 10,
     "metadata": {},
     "output_type": "execute_result"
    }
   ],
   "source": [
    "dept[0]"
   ]
  },
  {
   "cell_type": "code",
   "execution_count": 11,
   "id": "c15f2f05",
   "metadata": {},
   "outputs": [
    {
     "data": {
      "text/plain": [
       "'nlp'"
      ]
     },
     "execution_count": 11,
     "metadata": {},
     "output_type": "execute_result"
    }
   ],
   "source": [
    "dept[3]"
   ]
  },
  {
   "cell_type": "code",
   "execution_count": 12,
   "id": "401fb487",
   "metadata": {},
   "outputs": [
    {
     "data": {
      "text/plain": [
       "'nlp'"
      ]
     },
     "execution_count": 12,
     "metadata": {},
     "output_type": "execute_result"
    }
   ],
   "source": [
    "dept[-1]"
   ]
  },
  {
   "cell_type": "code",
   "execution_count": 13,
   "id": "922db6eb",
   "metadata": {},
   "outputs": [
    {
     "data": {
      "text/plain": [
       "['ds', 'da']"
      ]
     },
     "execution_count": 13,
     "metadata": {},
     "output_type": "execute_result"
    }
   ],
   "source": [
    "dept[1:3] # indexing is always n = n-1"
   ]
  },
  {
   "cell_type": "code",
   "execution_count": 14,
   "id": "1abae50c",
   "metadata": {},
   "outputs": [],
   "source": [
    "x = [\"ai\", \"ds\", \"da\", \"nlp\", 1,2,3,4,True, False,[1,2,3],{1,2,3}]"
   ]
  },
  {
   "cell_type": "code",
   "execution_count": 15,
   "id": "0d1c6617",
   "metadata": {},
   "outputs": [
    {
     "data": {
      "text/plain": [
       "['ai', 'ds', 'da', 'nlp', 1, 2, 3, 4, True, False, [1, 2, 3], {1, 2, 3}]"
      ]
     },
     "execution_count": 15,
     "metadata": {},
     "output_type": "execute_result"
    }
   ],
   "source": [
    "x"
   ]
  },
  {
   "cell_type": "code",
   "execution_count": 16,
   "id": "96dbdef9",
   "metadata": {},
   "outputs": [
    {
     "data": {
      "text/plain": [
       "[1, 2, 3, 4, True, False, [1, 2, 3], {1, 2, 3}]"
      ]
     },
     "execution_count": 16,
     "metadata": {},
     "output_type": "execute_result"
    }
   ],
   "source": [
    "x[4:]"
   ]
  },
  {
   "cell_type": "code",
   "execution_count": 17,
   "id": "7dc9a563",
   "metadata": {},
   "outputs": [
    {
     "data": {
      "text/plain": [
       "['ai', 'ds', 'da']"
      ]
     },
     "execution_count": 17,
     "metadata": {},
     "output_type": "execute_result"
    }
   ],
   "source": [
    "x[:3]"
   ]
  },
  {
   "cell_type": "code",
   "execution_count": 19,
   "id": "e6509063",
   "metadata": {},
   "outputs": [
    {
     "data": {
      "text/plain": [
       "[1, 2, 3]"
      ]
     },
     "execution_count": 19,
     "metadata": {},
     "output_type": "execute_result"
    }
   ],
   "source": [
    "x[10]"
   ]
  },
  {
   "cell_type": "code",
   "execution_count": 20,
   "id": "3914d760",
   "metadata": {},
   "outputs": [
    {
     "data": {
      "text/plain": [
       "1"
      ]
     },
     "execution_count": 20,
     "metadata": {},
     "output_type": "execute_result"
    }
   ],
   "source": [
    "x[10][0]"
   ]
  },
  {
   "cell_type": "code",
   "execution_count": 21,
   "id": "b22a5531",
   "metadata": {},
   "outputs": [
    {
     "data": {
      "text/plain": [
       "152"
      ]
     },
     "execution_count": 21,
     "metadata": {},
     "output_type": "execute_result"
    }
   ],
   "source": [
    "import sys\n",
    "sys.getsizeof(x)"
   ]
  },
  {
   "cell_type": "code",
   "execution_count": 22,
   "id": "ec34375d",
   "metadata": {},
   "outputs": [
    {
     "data": {
      "text/plain": [
       "136"
      ]
     },
     "execution_count": 22,
     "metadata": {},
     "output_type": "execute_result"
    }
   ],
   "source": [
    "import sys\n",
    "sys.getsizeof(tuple(x))"
   ]
  },
  {
   "cell_type": "code",
   "execution_count": 23,
   "id": "2e0bc255",
   "metadata": {},
   "outputs": [
    {
     "data": {
      "text/plain": [
       "['ai', 'ds', 'da', 'nlp', 1, 2, 3, 4, True, False]"
      ]
     },
     "execution_count": 23,
     "metadata": {},
     "output_type": "execute_result"
    }
   ],
   "source": [
    "x[:10]"
   ]
  },
  {
   "cell_type": "markdown",
   "id": "2cacbd90",
   "metadata": {},
   "source": [
    "# Common List Methods in Python\n",
    "\n",
    "In Python, lists are versatile and come with a variety of built-in methods to manipulate and manage the elements they contain. Below are some common list methods illustrated with the example list `dept = [\"ai\", \"ds\", \"da\", \"nlp\"]`.\n",
    "\n",
    "```python\n",
    "dept = [\"ai\", \"ds\", \"da\", \"nlp\"]\n",
    "print(dept)"
   ]
  },
  {
   "cell_type": "markdown",
   "id": "05ba7381",
   "metadata": {},
   "source": [
    "### Common List Methods:\n",
    "\n",
    "- `append()`\n",
    "- `insert()`\n",
    "- `remove()`\n",
    "- `pop()`\n",
    "- `clear()`\n",
    "- `index()`\n",
    "- `count()`\n",
    "- `sort()`\n",
    "- `reverse()`\n",
    "- `copy()`\n"
   ]
  },
  {
   "cell_type": "markdown",
   "id": "53db1aea",
   "metadata": {},
   "source": [
    "dept = [\"ai\", \"ds\", \"da\", \"nlp\"] <br>\n",
    "print(dept) <br>\n",
    "Output: ['ai', 'ds', 'da', 'nlp']\n",
    "\n",
    "# Append\n",
    "dept.append(\"cv\") <br>\n",
    "print(dept) <br> \n",
    "Output: ['ai', 'ds', 'da', 'nlp', 'cv']\n",
    "\n",
    "# Insert\n",
    "dept.insert(1, \"ml\") <br>\n",
    "print(dept)  <br>\n",
    "Output: ['ai', 'ml', 'ds', 'da', 'nlp', 'cv']\n",
    "\n",
    "# Remove\n",
    "dept.remove(\"ds\") <br>\n",
    "print(dept)  <br>\n",
    "Output: ['ai', 'ml', 'da', 'nlp', 'cv']\n",
    "\n",
    "# Pop\n",
    "removed_element = dept.pop(2) <br>\n",
    "print(removed_element)  <br>\n",
    "Output: 'da' <br>\n",
    "print(dept)  <br>\n",
    "Output: ['ai', 'ml', 'nlp', 'cv']\n",
    "\n",
    "# Clear\n",
    "dept.clear() <br>\n",
    "print(dept)  <br>\n",
    "Output: []\n",
    "\n",
    "# Reinitialize\n",
    "dept = [\"ai\", \"ds\", \"da\", \"nlp\"]\n",
    "\n",
    "# Index\n",
    "index_ds = dept.index(\"ds\") <br>\n",
    "print(index_ds)  <br>\n",
    "Output: 1\n",
    "\n",
    "# Count\n",
    "count_ai = dept.count(\"ai\") <br>\n",
    "print(count_ai)  <br>\n",
    "Output: 1\n",
    "\n",
    "# Sort\n",
    "dept.sort() <br>\n",
    "print(dept)  <br>\n",
    "Output: ['ai', 'da', 'ds', 'nlp']\n",
    "\n",
    "# Reverse\n",
    "dept.reverse() <br>\n",
    "print(dept)  <br>\n",
    "Output: ['nlp', 'ds', 'da', 'ai']\n",
    "\n",
    "# Copy\n",
    "dept_copy = dept.copy() <br>\n",
    "print(dept_copy)  <br>\n",
    "Output: ['nlp', 'ds', 'da', 'ai']"
   ]
  },
  {
   "cell_type": "markdown",
   "id": "f752279d",
   "metadata": {},
   "source": [
    "# Let's practice list methods"
   ]
  },
  {
   "cell_type": "code",
   "execution_count": 24,
   "id": "7ba307e0",
   "metadata": {},
   "outputs": [
    {
     "data": {
      "text/plain": [
       "['ai', 'ds', 'da', 'nlp', 1, 2, 3, 4, True, False, [1, 2, 3], {1, 2, 3}]"
      ]
     },
     "execution_count": 24,
     "metadata": {},
     "output_type": "execute_result"
    }
   ],
   "source": [
    "x"
   ]
  },
  {
   "cell_type": "code",
   "execution_count": 25,
   "id": "e7844013",
   "metadata": {},
   "outputs": [],
   "source": [
    "x.append('ai')"
   ]
  },
  {
   "cell_type": "code",
   "execution_count": 26,
   "id": "eaf7e8ee",
   "metadata": {},
   "outputs": [
    {
     "data": {
      "text/plain": [
       "['ai', 'ds', 'da', 'nlp', 1, 2, 3, 4, True, False, [1, 2, 3], {1, 2, 3}, 'ai']"
      ]
     },
     "execution_count": 26,
     "metadata": {},
     "output_type": "execute_result"
    }
   ],
   "source": [
    "x"
   ]
  },
  {
   "cell_type": "code",
   "execution_count": 27,
   "id": "ff7a7064",
   "metadata": {},
   "outputs": [],
   "source": [
    "x.insert(0,'pa') #shift+tab"
   ]
  },
  {
   "cell_type": "code",
   "execution_count": 28,
   "id": "415cf9e1",
   "metadata": {},
   "outputs": [
    {
     "data": {
      "text/plain": [
       "['pa',\n",
       " 'ai',\n",
       " 'ds',\n",
       " 'da',\n",
       " 'nlp',\n",
       " 1,\n",
       " 2,\n",
       " 3,\n",
       " 4,\n",
       " True,\n",
       " False,\n",
       " [1, 2, 3],\n",
       " {1, 2, 3},\n",
       " 'ai']"
      ]
     },
     "execution_count": 28,
     "metadata": {},
     "output_type": "execute_result"
    }
   ],
   "source": [
    "x"
   ]
  },
  {
   "cell_type": "code",
   "execution_count": 29,
   "id": "d7055bf9",
   "metadata": {},
   "outputs": [],
   "source": [
    "x.remove('pa')"
   ]
  },
  {
   "cell_type": "code",
   "execution_count": 30,
   "id": "4fb42852",
   "metadata": {},
   "outputs": [
    {
     "data": {
      "text/plain": [
       "['ai', 'ds', 'da', 'nlp', 1, 2, 3, 4, True, False, [1, 2, 3], {1, 2, 3}, 'ai']"
      ]
     },
     "execution_count": 30,
     "metadata": {},
     "output_type": "execute_result"
    }
   ],
   "source": [
    "x"
   ]
  },
  {
   "cell_type": "code",
   "execution_count": 31,
   "id": "75cbf855",
   "metadata": {},
   "outputs": [
    {
     "data": {
      "text/plain": [
       "[1, 2, 3]"
      ]
     },
     "execution_count": 31,
     "metadata": {},
     "output_type": "execute_result"
    }
   ],
   "source": [
    "x.pop(10)"
   ]
  },
  {
   "cell_type": "code",
   "execution_count": 32,
   "id": "627f90cf",
   "metadata": {},
   "outputs": [
    {
     "data": {
      "text/plain": [
       "['ai', 'ds', 'da', 'nlp', 1, 2, 3, 4, True, False, {1, 2, 3}, 'ai']"
      ]
     },
     "execution_count": 32,
     "metadata": {},
     "output_type": "execute_result"
    }
   ],
   "source": [
    "x"
   ]
  },
  {
   "cell_type": "code",
   "execution_count": 33,
   "id": "ed17cb85",
   "metadata": {},
   "outputs": [],
   "source": [
    "del x[11]"
   ]
  },
  {
   "cell_type": "code",
   "execution_count": 34,
   "id": "89c6a3df",
   "metadata": {},
   "outputs": [
    {
     "data": {
      "text/plain": [
       "['ai', 'ds', 'da', 'nlp', 1, 2, 3, 4, True, False, {1, 2, 3}]"
      ]
     },
     "execution_count": 34,
     "metadata": {},
     "output_type": "execute_result"
    }
   ],
   "source": [
    "x"
   ]
  },
  {
   "cell_type": "code",
   "execution_count": 35,
   "id": "8af083c3",
   "metadata": {},
   "outputs": [],
   "source": [
    "del x[-1]"
   ]
  },
  {
   "cell_type": "code",
   "execution_count": 36,
   "id": "b31a4c50",
   "metadata": {},
   "outputs": [],
   "source": [
    "del x[-1]"
   ]
  },
  {
   "cell_type": "code",
   "execution_count": 41,
   "id": "34f109f4",
   "metadata": {},
   "outputs": [],
   "source": [
    "x = ['ai', 'ds', 'da', 'nlp', 1, 2, 3, 4, True, False, [1, 2, 3], {1, 2, 3}]\n",
    "del x[-2][-1]"
   ]
  },
  {
   "cell_type": "code",
   "execution_count": 42,
   "id": "c9953836",
   "metadata": {},
   "outputs": [
    {
     "data": {
      "text/plain": [
       "['ai', 'ds', 'da', 'nlp', 1, 2, 3, 4, True, False, [1, 2], {1, 2, 3}]"
      ]
     },
     "execution_count": 42,
     "metadata": {},
     "output_type": "execute_result"
    }
   ],
   "source": [
    "x"
   ]
  },
  {
   "cell_type": "code",
   "execution_count": 43,
   "id": "a0984c40",
   "metadata": {},
   "outputs": [],
   "source": [
    "x.reverse()"
   ]
  },
  {
   "cell_type": "code",
   "execution_count": 44,
   "id": "486b0084",
   "metadata": {},
   "outputs": [
    {
     "data": {
      "text/plain": [
       "[{1, 2, 3}, [1, 2], False, True, 4, 3, 2, 1, 'nlp', 'da', 'ds', 'ai']"
      ]
     },
     "execution_count": 44,
     "metadata": {},
     "output_type": "execute_result"
    }
   ],
   "source": [
    "x"
   ]
  },
  {
   "cell_type": "code",
   "execution_count": 46,
   "id": "cfc9c353",
   "metadata": {},
   "outputs": [
    {
     "data": {
      "text/plain": [
       "1"
      ]
     },
     "execution_count": 46,
     "metadata": {},
     "output_type": "execute_result"
    }
   ],
   "source": [
    "x.count('ai')"
   ]
  },
  {
   "cell_type": "code",
   "execution_count": null,
   "id": "42d466f6",
   "metadata": {},
   "outputs": [],
   "source": [
    "#x.sort()"
   ]
  },
  {
   "cell_type": "code",
   "execution_count": 47,
   "id": "b512c3e9",
   "metadata": {},
   "outputs": [
    {
     "data": {
      "text/plain": [
       "[{1, 2, 3}, [1, 2], False, True, 4, 3, 2, 1, 'nlp', 'da', 'ds', 'ai']"
      ]
     },
     "execution_count": 47,
     "metadata": {},
     "output_type": "execute_result"
    }
   ],
   "source": [
    "x"
   ]
  },
  {
   "cell_type": "code",
   "execution_count": 48,
   "id": "69224c49",
   "metadata": {},
   "outputs": [
    {
     "data": {
      "text/plain": [
       "[100, [1, 2], False, True, 4, 3, 2, 1, 'nlp', 'da', 'ds', 'ai']"
      ]
     },
     "execution_count": 48,
     "metadata": {},
     "output_type": "execute_result"
    }
   ],
   "source": [
    "x[0] = 100\n",
    "x"
   ]
  },
  {
   "cell_type": "code",
   "execution_count": null,
   "id": "56f91b1c",
   "metadata": {},
   "outputs": [],
   "source": []
  },
  {
   "cell_type": "code",
   "execution_count": null,
   "id": "3d3a1742",
   "metadata": {},
   "outputs": [],
   "source": []
  },
  {
   "cell_type": "code",
   "execution_count": null,
   "id": "22c11272",
   "metadata": {},
   "outputs": [],
   "source": []
  },
  {
   "cell_type": "markdown",
   "id": "d0082f38",
   "metadata": {},
   "source": [
    "# 2. Tuples in Python\n",
    "\n",
    "A tuple is an ordered, immutable collection of elements in Python. Tuples can contain elements of different types and are often used to group related data. Once a tuple is created, its elements cannot be changed.\n",
    "\n",
    "## Creating Tuples\n",
    "\n",
    "Tuples can be created by placing a comma-separated sequence of elements inside parentheses.\n",
    "\n",
    "### Example:\n",
    "```python\n",
    "# Creating a tuple\n",
    "coordinates = (10.0, 20.0)\n",
    "print(coordinates)  # Output: (10.0, 20.0)\n",
    "\n",
    "# Creating a tuple without parentheses (not recommended but valid)\n",
    "coordinates = 10.0, 20.0\n",
    "print(coordinates)  # Output: (10.0, 20.0)\n"
   ]
  },
  {
   "cell_type": "code",
   "execution_count": 49,
   "id": "309b8cdd",
   "metadata": {},
   "outputs": [
    {
     "data": {
      "text/plain": [
       "[100, [1, 2], False, True, 4, 3, 2, 1, 'nlp', 'da', 'ds', 'ai']"
      ]
     },
     "execution_count": 49,
     "metadata": {},
     "output_type": "execute_result"
    }
   ],
   "source": [
    "x"
   ]
  },
  {
   "cell_type": "code",
   "execution_count": 50,
   "id": "3e4edc79",
   "metadata": {},
   "outputs": [],
   "source": [
    "x = tuple(x)"
   ]
  },
  {
   "cell_type": "code",
   "execution_count": 51,
   "id": "f9787659",
   "metadata": {},
   "outputs": [
    {
     "data": {
      "text/plain": [
       "tuple"
      ]
     },
     "execution_count": 51,
     "metadata": {},
     "output_type": "execute_result"
    }
   ],
   "source": [
    "type(x)"
   ]
  },
  {
   "cell_type": "code",
   "execution_count": 54,
   "id": "2f2d5fcd",
   "metadata": {},
   "outputs": [],
   "source": [
    "#x[0] = 10 ; TypeError: 'tuple' object does not support item assignment"
   ]
  },
  {
   "cell_type": "code",
   "execution_count": 55,
   "id": "f6204555",
   "metadata": {},
   "outputs": [],
   "source": [
    "x = list(x)\n",
    "x[0] = 10\n",
    "x = tuple(x)"
   ]
  },
  {
   "cell_type": "code",
   "execution_count": 56,
   "id": "f0352f76",
   "metadata": {},
   "outputs": [
    {
     "data": {
      "text/plain": [
       "(10, [1, 2], False, True, 4, 3, 2, 1, 'nlp', 'da', 'ds', 'ai')"
      ]
     },
     "execution_count": 56,
     "metadata": {},
     "output_type": "execute_result"
    }
   ],
   "source": [
    "x"
   ]
  },
  {
   "cell_type": "code",
   "execution_count": 57,
   "id": "4661b477",
   "metadata": {
    "scrolled": true
   },
   "outputs": [
    {
     "data": {
      "text/plain": [
       "1"
      ]
     },
     "execution_count": 57,
     "metadata": {},
     "output_type": "execute_result"
    }
   ],
   "source": [
    "x.count('ai')"
   ]
  },
  {
   "cell_type": "code",
   "execution_count": 58,
   "id": "905aa3d5",
   "metadata": {},
   "outputs": [
    {
     "data": {
      "text/plain": [
       "8"
      ]
     },
     "execution_count": 58,
     "metadata": {},
     "output_type": "execute_result"
    }
   ],
   "source": [
    "x.index('nlp')"
   ]
  },
  {
   "cell_type": "code",
   "execution_count": 59,
   "id": "e5712d75",
   "metadata": {},
   "outputs": [
    {
     "data": {
      "text/plain": [
       "10"
      ]
     },
     "execution_count": 59,
     "metadata": {},
     "output_type": "execute_result"
    }
   ],
   "source": [
    "x[0]"
   ]
  },
  {
   "cell_type": "code",
   "execution_count": null,
   "id": "b46a5d4d",
   "metadata": {},
   "outputs": [],
   "source": []
  },
  {
   "cell_type": "code",
   "execution_count": null,
   "id": "62a86ea3",
   "metadata": {},
   "outputs": [],
   "source": []
  },
  {
   "cell_type": "code",
   "execution_count": null,
   "id": "f2b86250",
   "metadata": {},
   "outputs": [],
   "source": []
  },
  {
   "cell_type": "markdown",
   "id": "17b4865d",
   "metadata": {},
   "source": [
    "# Tuple Slicing in Python\n",
    "\n",
    "Tuples in Python are immutable sequences, typically used to store collections of heterogeneous data. Slicing is a technique used to retrieve a subset of elements from a tuple. It is similar to slicing in lists and strings.\n",
    "\n",
    "## Basic Syntax\n",
    "\n",
    "The syntax for slicing a tuple is as follows:\n",
    "\n",
    "```python\n",
    "tuple[start:stop:step]\n"
   ]
  },
  {
   "cell_type": "code",
   "execution_count": 60,
   "id": "1ac32050",
   "metadata": {},
   "outputs": [
    {
     "data": {
      "text/plain": [
       "([1, 2], True)"
      ]
     },
     "execution_count": 60,
     "metadata": {},
     "output_type": "execute_result"
    }
   ],
   "source": [
    "x[1:5:2]"
   ]
  },
  {
   "cell_type": "code",
   "execution_count": 61,
   "id": "76475d44",
   "metadata": {},
   "outputs": [
    {
     "data": {
      "text/plain": [
       "(10, [1, 2], False, True, 4, 3, 2, 1, 'nlp', 'da', 'ds', 'ai')"
      ]
     },
     "execution_count": 61,
     "metadata": {},
     "output_type": "execute_result"
    }
   ],
   "source": [
    "x"
   ]
  },
  {
   "cell_type": "code",
   "execution_count": 62,
   "id": "8e9bd18a",
   "metadata": {},
   "outputs": [
    {
     "data": {
      "text/plain": [
       "(10, [1, 2], False)"
      ]
     },
     "execution_count": 62,
     "metadata": {},
     "output_type": "execute_result"
    }
   ],
   "source": [
    "x[0:3]"
   ]
  },
  {
   "cell_type": "code",
   "execution_count": 63,
   "id": "ef1024cb",
   "metadata": {},
   "outputs": [
    {
     "data": {
      "text/plain": [
       "(4, 3, 2, 1, 'nlp', 'da', 'ds', 'ai')"
      ]
     },
     "execution_count": 63,
     "metadata": {},
     "output_type": "execute_result"
    }
   ],
   "source": [
    "x[4:]"
   ]
  },
  {
   "cell_type": "code",
   "execution_count": 64,
   "id": "c1c3f383",
   "metadata": {},
   "outputs": [
    {
     "data": {
      "text/plain": [
       "(10, [1, 2], False, 4, 3, 2, 1, 'nlp', 'da', 'ds', 'ai')"
      ]
     },
     "execution_count": 64,
     "metadata": {},
     "output_type": "execute_result"
    }
   ],
   "source": [
    "x[0:3] + x[4:] #join"
   ]
  },
  {
   "cell_type": "code",
   "execution_count": null,
   "id": "37f3f775",
   "metadata": {},
   "outputs": [],
   "source": []
  },
  {
   "cell_type": "markdown",
   "id": "e6891f2a",
   "metadata": {},
   "source": [
    "# 3. Sets in Python\n",
    "\n",
    "A set is an unordered collection of unique elements in Python. Sets are mutable, meaning you can add or remove elements, but they do not allow duplicate values.\n",
    "\n",
    "## Creating Sets\n",
    "\n",
    "Sets can be created using curly braces `{}` or the `set()` function.\n",
    "\n",
    "### Example:\n",
    "```python\n",
    "# Creating a set with curly braces\n",
    "dep = {\"ai\", \"ml\", \"ds\"}\n",
    "print(dep)  # Output: {\"ai\", \"ml\", \"ds\"}\n",
    "\n",
    "# Creating a set with the set() function\n",
    "numbers = set([1, 2, 3, 4, 5])\n",
    "print(numbers)  # Output: {1, 2, 3, 4, 5}\n",
    "\n",
    "# Creating an empty set\n",
    "empty_set = set()\n",
    "print(empty_set)  # Output: set()\n"
   ]
  },
  {
   "cell_type": "code",
   "execution_count": 65,
   "id": "8c02dc99",
   "metadata": {},
   "outputs": [],
   "source": [
    "s1 = {1,2,3}\n",
    "s2 = {3,4,5}"
   ]
  },
  {
   "cell_type": "code",
   "execution_count": 66,
   "id": "4bb7a9ed",
   "metadata": {},
   "outputs": [
    {
     "data": {
      "text/plain": [
       "{1, 2, 3}"
      ]
     },
     "execution_count": 66,
     "metadata": {},
     "output_type": "execute_result"
    }
   ],
   "source": [
    "s1"
   ]
  },
  {
   "cell_type": "code",
   "execution_count": 68,
   "id": "3ad752d1",
   "metadata": {},
   "outputs": [],
   "source": [
    "#s1[0] ; TypeError: 'set' object is not subscriptable"
   ]
  },
  {
   "cell_type": "code",
   "execution_count": 69,
   "id": "ae54d2c8",
   "metadata": {},
   "outputs": [],
   "source": [
    "s1.add(0)"
   ]
  },
  {
   "cell_type": "code",
   "execution_count": 70,
   "id": "ee45dc71",
   "metadata": {},
   "outputs": [
    {
     "data": {
      "text/plain": [
       "{0, 1, 2, 3}"
      ]
     },
     "execution_count": 70,
     "metadata": {},
     "output_type": "execute_result"
    }
   ],
   "source": [
    "s1"
   ]
  },
  {
   "cell_type": "code",
   "execution_count": 71,
   "id": "27539324",
   "metadata": {},
   "outputs": [],
   "source": [
    "s1.remove(0)"
   ]
  },
  {
   "cell_type": "code",
   "execution_count": 72,
   "id": "6bc0adfa",
   "metadata": {
    "scrolled": true
   },
   "outputs": [
    {
     "data": {
      "text/plain": [
       "{1, 2, 3}"
      ]
     },
     "execution_count": 72,
     "metadata": {},
     "output_type": "execute_result"
    }
   ],
   "source": [
    "s1"
   ]
  },
  {
   "cell_type": "code",
   "execution_count": 74,
   "id": "574aeed6",
   "metadata": {},
   "outputs": [],
   "source": [
    "# s1.remove(0) ; KeyError: 0"
   ]
  },
  {
   "cell_type": "code",
   "execution_count": 75,
   "id": "b39cbf70",
   "metadata": {},
   "outputs": [],
   "source": [
    "s1 = {1,2,3,6,6}\n",
    "s2 = {3,4,5}"
   ]
  },
  {
   "cell_type": "code",
   "execution_count": 76,
   "id": "be1828fb",
   "metadata": {},
   "outputs": [
    {
     "data": {
      "text/plain": [
       "{1, 2, 3, 6}"
      ]
     },
     "execution_count": 76,
     "metadata": {},
     "output_type": "execute_result"
    }
   ],
   "source": [
    "s1"
   ]
  },
  {
   "cell_type": "code",
   "execution_count": 77,
   "id": "e6fbe66f",
   "metadata": {},
   "outputs": [],
   "source": [
    "s1.discard(6)"
   ]
  },
  {
   "cell_type": "code",
   "execution_count": 78,
   "id": "0c2ea9ac",
   "metadata": {},
   "outputs": [
    {
     "data": {
      "text/plain": [
       "{1, 2, 3}"
      ]
     },
     "execution_count": 78,
     "metadata": {},
     "output_type": "execute_result"
    }
   ],
   "source": [
    "s1"
   ]
  },
  {
   "cell_type": "code",
   "execution_count": 79,
   "id": "6f766d56",
   "metadata": {},
   "outputs": [],
   "source": [
    "s1.discard(6)"
   ]
  },
  {
   "cell_type": "code",
   "execution_count": 80,
   "id": "c103d708",
   "metadata": {},
   "outputs": [],
   "source": [
    "s1.discard(6)"
   ]
  },
  {
   "cell_type": "code",
   "execution_count": 81,
   "id": "ee14c833",
   "metadata": {},
   "outputs": [
    {
     "data": {
      "text/plain": [
       "{1, 2, 3, 6}"
      ]
     },
     "execution_count": 81,
     "metadata": {},
     "output_type": "execute_result"
    }
   ],
   "source": [
    "s1.add(6)\n",
    "s1"
   ]
  },
  {
   "cell_type": "code",
   "execution_count": 82,
   "id": "85bb9a66",
   "metadata": {},
   "outputs": [
    {
     "data": {
      "text/plain": [
       "1"
      ]
     },
     "execution_count": 82,
     "metadata": {},
     "output_type": "execute_result"
    }
   ],
   "source": [
    "s1.pop()"
   ]
  },
  {
   "cell_type": "code",
   "execution_count": 83,
   "id": "cf54a8e3",
   "metadata": {},
   "outputs": [
    {
     "data": {
      "text/plain": [
       "{2, 3, 6}"
      ]
     },
     "execution_count": 83,
     "metadata": {},
     "output_type": "execute_result"
    }
   ],
   "source": [
    "s1"
   ]
  },
  {
   "cell_type": "code",
   "execution_count": 84,
   "id": "0f392208",
   "metadata": {},
   "outputs": [
    {
     "data": {
      "text/plain": [
       "{2, 3, 6}"
      ]
     },
     "execution_count": 84,
     "metadata": {},
     "output_type": "execute_result"
    }
   ],
   "source": [
    "s1"
   ]
  },
  {
   "cell_type": "code",
   "execution_count": 85,
   "id": "f54ad884",
   "metadata": {},
   "outputs": [
    {
     "data": {
      "text/plain": [
       "{3, 4, 5}"
      ]
     },
     "execution_count": 85,
     "metadata": {},
     "output_type": "execute_result"
    }
   ],
   "source": [
    "s2"
   ]
  },
  {
   "cell_type": "code",
   "execution_count": 87,
   "id": "a953137d",
   "metadata": {},
   "outputs": [
    {
     "data": {
      "text/plain": [
       "{3}"
      ]
     },
     "execution_count": 87,
     "metadata": {},
     "output_type": "execute_result"
    }
   ],
   "source": [
    "#intersection\n",
    "s1.intersection(s2)"
   ]
  },
  {
   "cell_type": "code",
   "execution_count": 88,
   "id": "5bcb4d90",
   "metadata": {
    "scrolled": false
   },
   "outputs": [
    {
     "data": {
      "text/plain": [
       "{2, 3, 4, 5, 6}"
      ]
     },
     "execution_count": 88,
     "metadata": {},
     "output_type": "execute_result"
    }
   ],
   "source": [
    "s1.union(s2)"
   ]
  },
  {
   "cell_type": "code",
   "execution_count": 89,
   "id": "14b056e1",
   "metadata": {},
   "outputs": [
    {
     "data": {
      "text/plain": [
       "{2, 3, 4, 5, 6}"
      ]
     },
     "execution_count": 89,
     "metadata": {},
     "output_type": "execute_result"
    }
   ],
   "source": [
    "s1 | s2  #union"
   ]
  },
  {
   "cell_type": "code",
   "execution_count": 91,
   "id": "942a3d39",
   "metadata": {},
   "outputs": [
    {
     "data": {
      "text/plain": [
       "{3}"
      ]
     },
     "execution_count": 91,
     "metadata": {},
     "output_type": "execute_result"
    }
   ],
   "source": [
    "s1 & s2 #intersection"
   ]
  },
  {
   "cell_type": "code",
   "execution_count": 94,
   "id": "8b967412",
   "metadata": {},
   "outputs": [
    {
     "name": "stdout",
     "output_type": "stream",
     "text": [
      "{2, 3, 6}\n",
      "{3, 4, 5}\n"
     ]
    }
   ],
   "source": [
    "print(s1)\n",
    "print(s2)"
   ]
  },
  {
   "cell_type": "code",
   "execution_count": 93,
   "id": "3a35c235",
   "metadata": {},
   "outputs": [
    {
     "data": {
      "text/plain": [
       "{2, 6}"
      ]
     },
     "execution_count": 93,
     "metadata": {},
     "output_type": "execute_result"
    }
   ],
   "source": [
    "s1.difference(s2)"
   ]
  },
  {
   "cell_type": "code",
   "execution_count": 95,
   "id": "cf6a9669",
   "metadata": {},
   "outputs": [
    {
     "data": {
      "text/plain": [
       "{4, 5}"
      ]
     },
     "execution_count": 95,
     "metadata": {},
     "output_type": "execute_result"
    }
   ],
   "source": [
    "s2.difference(s1)"
   ]
  },
  {
   "cell_type": "code",
   "execution_count": 96,
   "id": "596e2762",
   "metadata": {},
   "outputs": [
    {
     "data": {
      "text/plain": [
       "{2, 4, 5, 6}"
      ]
     },
     "execution_count": 96,
     "metadata": {},
     "output_type": "execute_result"
    }
   ],
   "source": [
    "s1.symmetric_difference(s2)"
   ]
  },
  {
   "cell_type": "code",
   "execution_count": null,
   "id": "48f93951",
   "metadata": {},
   "outputs": [],
   "source": []
  },
  {
   "cell_type": "markdown",
   "id": "98662c0a",
   "metadata": {},
   "source": [
    "# 4. Frozen Sets in Python\n",
    "\n",
    "A `frozenset` is an `immutable version` of a set. Once created, elements cannot be added or removed from a `frozenset`. This makes `frozenset` hashable and eligible to be used as keys in dictionaries or elements of other sets.\n",
    "\n",
    "## Creating Frozen Sets\n",
    "\n",
    "Frozen sets can be created using the `frozenset()` function.\n",
    "\n",
    "### Example:\n",
    "```python\n",
    "# Creating a frozenset\n",
    "frozen_fruits = frozenset([\"ai\", \"ds\", \"ml\"])\n",
    "print(frozen_fruits)  # Output: frozenset({\"ai\", \"ds\", \"ml\"})\n"
   ]
  },
  {
   "cell_type": "code",
   "execution_count": 97,
   "id": "eefccfc7",
   "metadata": {},
   "outputs": [
    {
     "data": {
      "text/plain": [
       "{2, 3, 6}"
      ]
     },
     "execution_count": 97,
     "metadata": {},
     "output_type": "execute_result"
    }
   ],
   "source": [
    "s1"
   ]
  },
  {
   "cell_type": "code",
   "execution_count": 98,
   "id": "ecb224ef",
   "metadata": {},
   "outputs": [],
   "source": [
    "sf = frozenset(s1)"
   ]
  },
  {
   "cell_type": "code",
   "execution_count": 99,
   "id": "ba03c4fb",
   "metadata": {},
   "outputs": [
    {
     "data": {
      "text/plain": [
       "frozenset({2, 3, 6})"
      ]
     },
     "execution_count": 99,
     "metadata": {},
     "output_type": "execute_result"
    }
   ],
   "source": [
    "sf"
   ]
  },
  {
   "cell_type": "code",
   "execution_count": 100,
   "id": "858b90cd",
   "metadata": {},
   "outputs": [
    {
     "data": {
      "text/plain": [
       "frozenset"
      ]
     },
     "execution_count": 100,
     "metadata": {},
     "output_type": "execute_result"
    }
   ],
   "source": [
    "type(sf)"
   ]
  },
  {
   "cell_type": "code",
   "execution_count": 102,
   "id": "8e2424a8",
   "metadata": {},
   "outputs": [],
   "source": [
    "# sf.add(3) -> AttributeError: 'frozenset' object has no attribute 'add'"
   ]
  },
  {
   "cell_type": "code",
   "execution_count": 104,
   "id": "7a3f2f13",
   "metadata": {},
   "outputs": [],
   "source": [
    "#sf.remove(2) -> AttributeError: 'frozenset' object has no attribute 'add'"
   ]
  },
  {
   "cell_type": "code",
   "execution_count": null,
   "id": "f2a16288",
   "metadata": {},
   "outputs": [],
   "source": []
  },
  {
   "cell_type": "markdown",
   "id": "3ca2cc6f",
   "metadata": {},
   "source": [
    "# 5. Dictionaries in Python\n",
    "\n",
    "A dictionary is an unordered collection of key-value pairs. Keys must be unique and immutable (such as strings, numbers, or tuples), while values can be of any data type.\n",
    "\n",
    "## Creating Dictionaries\n",
    "\n",
    "Dictionaries can be created using curly braces `{}` with key-value pairs or the `dict()` function.\n",
    "\n",
    "### Example:\n",
    "```python\n",
    "# Creating a dictionary using curly braces\n",
    "person = {\n",
    "    \"name\": \"Shakil\",\n",
    "    \"age\": 27,\n",
    "    \"city\": \"Munich\"\n",
    "}\n",
    "print(person)  # Output: {'name': 'Shakil', 'age': 27, 'city': 'Munich'}\n",
    "\n",
    "# Creating a dictionary using the dict() function\n",
    "person = dict(name=\"Shakil\", age=28, city=\"Erlangen\")\n",
    "print(person)  # Output: {'name': 'Shakil', 'age': 28, 'city': 'Erlangen'}\n"
   ]
  },
  {
   "cell_type": "code",
   "execution_count": 105,
   "id": "a70b1c4d",
   "metadata": {},
   "outputs": [],
   "source": [
    "dic = {\n",
    "    \"name\": \"Shakil\",\n",
    "    \"age\": 27,\n",
    "    \"city\": \"Munich\"\n",
    "}"
   ]
  },
  {
   "cell_type": "code",
   "execution_count": 106,
   "id": "34be23ed",
   "metadata": {},
   "outputs": [
    {
     "data": {
      "text/plain": [
       "{'name': 'Shakil', 'age': 27, 'city': 'Munich'}"
      ]
     },
     "execution_count": 106,
     "metadata": {},
     "output_type": "execute_result"
    }
   ],
   "source": [
    "dic"
   ]
  },
  {
   "cell_type": "code",
   "execution_count": 107,
   "id": "1b8d5e55",
   "metadata": {},
   "outputs": [
    {
     "data": {
      "text/plain": [
       "dict"
      ]
     },
     "execution_count": 107,
     "metadata": {},
     "output_type": "execute_result"
    }
   ],
   "source": [
    "type(dic)"
   ]
  },
  {
   "cell_type": "code",
   "execution_count": 109,
   "id": "117c3be4",
   "metadata": {},
   "outputs": [
    {
     "data": {
      "text/plain": [
       "dict_values(['Shakil', 27, 'Munich'])"
      ]
     },
     "execution_count": 109,
     "metadata": {},
     "output_type": "execute_result"
    }
   ],
   "source": [
    "dic.values()"
   ]
  },
  {
   "cell_type": "code",
   "execution_count": 111,
   "id": "1687856d",
   "metadata": {},
   "outputs": [
    {
     "data": {
      "text/plain": [
       "dict_keys(['name', 'age', 'city'])"
      ]
     },
     "execution_count": 111,
     "metadata": {},
     "output_type": "execute_result"
    }
   ],
   "source": [
    "dic.keys()"
   ]
  },
  {
   "cell_type": "code",
   "execution_count": 112,
   "id": "e57264f3",
   "metadata": {},
   "outputs": [
    {
     "data": {
      "text/plain": [
       "'Munich'"
      ]
     },
     "execution_count": 112,
     "metadata": {},
     "output_type": "execute_result"
    }
   ],
   "source": [
    "dic.pop('city')"
   ]
  },
  {
   "cell_type": "code",
   "execution_count": 113,
   "id": "19941a17",
   "metadata": {},
   "outputs": [
    {
     "data": {
      "text/plain": [
       "{'name': 'Shakil', 'age': 27}"
      ]
     },
     "execution_count": 113,
     "metadata": {},
     "output_type": "execute_result"
    }
   ],
   "source": [
    "dic"
   ]
  },
  {
   "cell_type": "code",
   "execution_count": 115,
   "id": "3686280e",
   "metadata": {},
   "outputs": [],
   "source": [
    "del dic['age']"
   ]
  },
  {
   "cell_type": "code",
   "execution_count": 116,
   "id": "425cced3",
   "metadata": {},
   "outputs": [
    {
     "data": {
      "text/plain": [
       "{'name': 'Shakil'}"
      ]
     },
     "execution_count": 116,
     "metadata": {},
     "output_type": "execute_result"
    }
   ],
   "source": [
    "dic"
   ]
  },
  {
   "cell_type": "code",
   "execution_count": 117,
   "id": "d2fb20f2",
   "metadata": {},
   "outputs": [
    {
     "data": {
      "text/plain": [
       "'Shakil'"
      ]
     },
     "execution_count": 117,
     "metadata": {},
     "output_type": "execute_result"
    }
   ],
   "source": [
    "dic['name']"
   ]
  },
  {
   "cell_type": "code",
   "execution_count": 118,
   "id": "003ce326",
   "metadata": {},
   "outputs": [
    {
     "data": {
      "text/plain": [
       "'Shakil'"
      ]
     },
     "execution_count": 118,
     "metadata": {},
     "output_type": "execute_result"
    }
   ],
   "source": [
    "dic.get('name')"
   ]
  },
  {
   "cell_type": "code",
   "execution_count": 119,
   "id": "cd11cf93",
   "metadata": {},
   "outputs": [],
   "source": [
    "dic['varsity'] = 'FAU'"
   ]
  },
  {
   "cell_type": "code",
   "execution_count": 120,
   "id": "65f3638f",
   "metadata": {},
   "outputs": [
    {
     "data": {
      "text/plain": [
       "{'name': 'Shakil', 'varsity': 'FAU'}"
      ]
     },
     "execution_count": 120,
     "metadata": {},
     "output_type": "execute_result"
    }
   ],
   "source": [
    "dic"
   ]
  },
  {
   "cell_type": "code",
   "execution_count": 121,
   "id": "5f7a30b5",
   "metadata": {},
   "outputs": [],
   "source": [
    "dic.update({'varsity': 'ABC'})"
   ]
  },
  {
   "cell_type": "code",
   "execution_count": 122,
   "id": "808345e5",
   "metadata": {},
   "outputs": [
    {
     "data": {
      "text/plain": [
       "{'name': 'Shakil', 'varsity': 'ABC'}"
      ]
     },
     "execution_count": 122,
     "metadata": {},
     "output_type": "execute_result"
    }
   ],
   "source": [
    "dic"
   ]
  },
  {
   "cell_type": "code",
   "execution_count": null,
   "id": "95eb1338",
   "metadata": {},
   "outputs": [],
   "source": []
  },
  {
   "cell_type": "markdown",
   "id": "5233d55c",
   "metadata": {},
   "source": [
    "# Importance of Copy()"
   ]
  },
  {
   "cell_type": "code",
   "execution_count": 123,
   "id": "0d16c6ae",
   "metadata": {},
   "outputs": [],
   "source": [
    "x = [10, 20, 40]"
   ]
  },
  {
   "cell_type": "code",
   "execution_count": 124,
   "id": "502b3006",
   "metadata": {},
   "outputs": [],
   "source": [
    "y = x"
   ]
  },
  {
   "cell_type": "code",
   "execution_count": 125,
   "id": "4a7988c2",
   "metadata": {},
   "outputs": [
    {
     "data": {
      "text/plain": [
       "[10, 20, 40]"
      ]
     },
     "execution_count": 125,
     "metadata": {},
     "output_type": "execute_result"
    }
   ],
   "source": [
    "y"
   ]
  },
  {
   "cell_type": "code",
   "execution_count": 126,
   "id": "ce156e25",
   "metadata": {},
   "outputs": [
    {
     "data": {
      "text/plain": [
       "[100, 20, 40]"
      ]
     },
     "execution_count": 126,
     "metadata": {},
     "output_type": "execute_result"
    }
   ],
   "source": [
    "y[0] = 100\n",
    "y"
   ]
  },
  {
   "cell_type": "code",
   "execution_count": 127,
   "id": "ac524d51",
   "metadata": {},
   "outputs": [
    {
     "data": {
      "text/plain": [
       "[100, 20, 40]"
      ]
     },
     "execution_count": 127,
     "metadata": {},
     "output_type": "execute_result"
    }
   ],
   "source": [
    "x"
   ]
  },
  {
   "cell_type": "code",
   "execution_count": 128,
   "id": "d75d1ada",
   "metadata": {},
   "outputs": [
    {
     "data": {
      "text/plain": [
       "[100, 20, 40]"
      ]
     },
     "execution_count": 128,
     "metadata": {},
     "output_type": "execute_result"
    }
   ],
   "source": [
    "z = x.copy()\n",
    "z"
   ]
  },
  {
   "cell_type": "code",
   "execution_count": 129,
   "id": "2404e969",
   "metadata": {},
   "outputs": [
    {
     "data": {
      "text/plain": [
       "[30, 20, 40]"
      ]
     },
     "execution_count": 129,
     "metadata": {},
     "output_type": "execute_result"
    }
   ],
   "source": [
    "z[0] = 30\n",
    "z"
   ]
  },
  {
   "cell_type": "code",
   "execution_count": 130,
   "id": "78a70e38",
   "metadata": {},
   "outputs": [
    {
     "data": {
      "text/plain": [
       "[100, 20, 40]"
      ]
     },
     "execution_count": 130,
     "metadata": {},
     "output_type": "execute_result"
    }
   ],
   "source": [
    "x"
   ]
  },
  {
   "cell_type": "code",
   "execution_count": null,
   "id": "ac5c49ef",
   "metadata": {},
   "outputs": [],
   "source": []
  },
  {
   "cell_type": "code",
   "execution_count": null,
   "id": "51c021e4",
   "metadata": {},
   "outputs": [],
   "source": []
  },
  {
   "cell_type": "markdown",
   "id": "2e0a57af",
   "metadata": {},
   "source": [
    "# Using `frozenset` as Dictionary Keys and Set Elements\n",
    "\n",
    "Since `frozenset` is immutable, it is hashable and can be used as keys in dictionaries or as elements in other sets. This property makes `frozenset` very useful in scenarios where the uniqueness of collections of items needs to be maintained in a hash-based structure.\n",
    "\n",
    "## Using `frozenset` as Dictionary Keys\n",
    "\n",
    "### Example:\n",
    "```python\n",
    "# Creating frozensets\n",
    "fs1 = frozenset([1, 2, 3])\n",
    "fs2 = frozenset([4, 5, 6])\n",
    "\n",
    "# Using frozensets as dictionary keys\n",
    "frozen_set_dict = {\n",
    "    fs1: \"Group 1\",\n",
    "    fs2: \"Group 2\"\n",
    "}\n",
    "\n",
    "print(frozen_set_dict)\n",
    "# Output: {frozenset({1, 2, 3}): 'Group 1', frozenset({4, 5, 6}): 'Group 2'}\n",
    "\n",
    "# Accessing values using frozenset keys\n",
    "print(frozen_set_dict[fs1])  # Output: Group 1\n",
    "print(frozen_set_dict[fs2])  # Output: Group 2\n"
   ]
  },
  {
   "cell_type": "code",
   "execution_count": 131,
   "id": "7644a203",
   "metadata": {},
   "outputs": [
    {
     "name": "stdout",
     "output_type": "stream",
     "text": [
      "{frozenset({1, 2, 3}): 'Group 1', frozenset({4, 5, 6}): 'Group 2'}\n",
      "Group 1\n",
      "Group 2\n"
     ]
    }
   ],
   "source": [
    "# Creating frozensets\n",
    "fs1 = frozenset([1, 2, 3])\n",
    "fs2 = frozenset([4, 5, 6])\n",
    "\n",
    "# Using frozensets as dictionary keys\n",
    "frozen_set_dict = {\n",
    "    fs1: \"Group 1\",\n",
    "    fs2: \"Group 2\"\n",
    "}\n",
    "\n",
    "print(frozen_set_dict)\n",
    "# Output: {frozenset({1, 2, 3}): 'Group 1', frozenset({4, 5, 6}): 'Group 2'}\n",
    "\n",
    "# Accessing values using frozenset keys\n",
    "print(frozen_set_dict[fs1])  # Output: Group 1\n",
    "print(frozen_set_dict[fs2])  # Output: Group 2"
   ]
  },
  {
   "cell_type": "code",
   "execution_count": null,
   "id": "25397762",
   "metadata": {},
   "outputs": [],
   "source": []
  },
  {
   "cell_type": "markdown",
   "id": "2b8a499b",
   "metadata": {},
   "source": [
    "# List Comprehension: Elegant Way to Create Lists\n",
    "\n",
    "List comprehension provides a concise way to create lists in Python. It consists of brackets containing an expression followed by a `for` clause, and optionally `if` clauses. List comprehensions are a more compact and readable alternative to using loops for creating lists.\n",
    "\n",
    "## Basic Syntax\n",
    "\n",
    "```python\n",
    "[expression for item in iterable if condition]\n"
   ]
  },
  {
   "cell_type": "markdown",
   "id": "cbe83051",
   "metadata": {},
   "source": [
    "## Components\n",
    "1. expression: The expression is the value or operation that is applied to each element. <br>\n",
    "2. item: The variable that takes the value of the item inside the iterable. <br>\n",
    "3. iterable: A collection of elements (e.g., list, tuple, string) to iterate over. <br>\n",
    "4. condition (optional): A condition to filter items from the iterable."
   ]
  },
  {
   "cell_type": "markdown",
   "id": "b07614ed",
   "metadata": {},
   "source": [
    "squares = [x**2 for x in range(10)] <br>\n",
    "print(squares) <br>\n",
    "Output: [0, 1, 4, 9, 16, 25, 36, 49, 64, 81]"
   ]
  },
  {
   "cell_type": "code",
   "execution_count": 133,
   "id": "f7f7ea51",
   "metadata": {},
   "outputs": [
    {
     "name": "stdout",
     "output_type": "stream",
     "text": [
      "0\n",
      "1\n",
      "2\n",
      "3\n",
      "4\n",
      "5\n",
      "6\n",
      "7\n",
      "8\n",
      "9\n"
     ]
    }
   ],
   "source": [
    "for i in range(10):\n",
    "    print(i)"
   ]
  },
  {
   "cell_type": "code",
   "execution_count": 136,
   "id": "17b8c770",
   "metadata": {},
   "outputs": [
    {
     "data": {
      "text/plain": [
       "[0, 4, 16, 36, 64]"
      ]
     },
     "execution_count": 136,
     "metadata": {},
     "output_type": "execute_result"
    }
   ],
   "source": [
    "[i**2 for i in range(10) if i%2==0]"
   ]
  },
  {
   "cell_type": "markdown",
   "id": "75307c7b",
   "metadata": {},
   "source": [
    "# Tuple Comprehension in Python\n",
    "\n",
    "Although Python does not support tuple comprehensions directly, you can achieve similar functionality using generator expressions or by converting a list comprehension to a tuple.\n",
    "\n",
    "## Generator\n",
    "A generator in Python is a special type of `iterable` that allows you to iterate over a sequence of values. Unlike lists, which store all values in memory, a generator computes each value on the fly and yields it one at a time, which makes it more memory efficient, especially for large datasets. <br>\n",
    "\n",
    "#Generator expression to generate squares of even numbers from 0 to 9 <br>\n",
    "even_squares = (x**2 for x in range(10) if x % 2 == 0)\n",
    "\n",
    "## Using Generator Expressions\n",
    "\n",
    "A generator expression is similar to a list comprehension, but it uses parentheses `()` instead of square brackets `[]`. It generates items one by one and is more memory efficient than a list comprehension.\n",
    "\n",
    "### Example:\n",
    "```python\n",
    "# Generator expression\n",
    "gen_expr = (x**2 for x in range(10))\n",
    "\n",
    "# Converting generator expression to tuple\n",
    "tuple_from_gen_expr = tuple(gen_expr)\n",
    "print(tuple_from_gen_expr)\n",
    "# Output: (0, 1, 4, 9, 16, 25, 36, 49, 64, 81)\n"
   ]
  },
  {
   "cell_type": "code",
   "execution_count": 140,
   "id": "59029690",
   "metadata": {},
   "outputs": [
    {
     "name": "stdout",
     "output_type": "stream",
     "text": [
      "(0, 4, 16, 36, 64)\n"
     ]
    }
   ],
   "source": [
    "print(tuple((i**2 for i in range(10) if i%2==0)))"
   ]
  },
  {
   "cell_type": "code",
   "execution_count": 141,
   "id": "ceb0549a",
   "metadata": {},
   "outputs": [
    {
     "data": {
      "text/plain": [
       "[0, 4, 16, 36, 64]"
      ]
     },
     "execution_count": 141,
     "metadata": {},
     "output_type": "execute_result"
    }
   ],
   "source": [
    "li = [i**2 for i in range(10) if i%2==0]\n",
    "li"
   ]
  },
  {
   "cell_type": "code",
   "execution_count": 142,
   "id": "8c4613aa",
   "metadata": {},
   "outputs": [],
   "source": [
    "gen = (i**2 for i in range(10) if i%2==0)\n",
    "tp = tuple(gen)"
   ]
  },
  {
   "cell_type": "code",
   "execution_count": 143,
   "id": "b3d0fbe5",
   "metadata": {},
   "outputs": [
    {
     "data": {
      "text/plain": [
       "(0, 4, 16, 36, 64)"
      ]
     },
     "execution_count": 143,
     "metadata": {},
     "output_type": "execute_result"
    }
   ],
   "source": [
    "tp"
   ]
  },
  {
   "cell_type": "markdown",
   "id": "64e895a2",
   "metadata": {},
   "source": [
    "# Memory Comparison"
   ]
  },
  {
   "cell_type": "code",
   "execution_count": 145,
   "id": "ebbf5555",
   "metadata": {},
   "outputs": [
    {
     "name": "stdout",
     "output_type": "stream",
     "text": [
      "120\n",
      "80\n"
     ]
    }
   ],
   "source": [
    "import sys\n",
    "print(sys.getsizeof(li))\n",
    "print(sys.getsizeof(tp))"
   ]
  },
  {
   "cell_type": "code",
   "execution_count": 146,
   "id": "73f50a9c",
   "metadata": {},
   "outputs": [
    {
     "data": {
      "text/plain": [
       "{'name': 'Shakil', 'varsity': 'ABC'}"
      ]
     },
     "execution_count": 146,
     "metadata": {},
     "output_type": "execute_result"
    }
   ],
   "source": [
    "dic"
   ]
  },
  {
   "cell_type": "markdown",
   "id": "ee630fea",
   "metadata": {},
   "source": [
    "# Working with Pandas DataFrame\n",
    "\n",
    "In this example, we will create a Pandas DataFrame using the dictionary:\n",
    "```python\n",
    "person = {\n",
    "    \"name\": \"Shakil\",\n",
    "    \"age\": 27,\n",
    "    \"city\": \"Munich\"\n",
    "}\n"
   ]
  },
  {
   "cell_type": "markdown",
   "id": "c1c64737",
   "metadata": {},
   "source": [
    "#!pip install library_name <br>\n",
    "#!pip install pandas"
   ]
  },
  {
   "cell_type": "code",
   "execution_count": 148,
   "id": "99fbcc14",
   "metadata": {},
   "outputs": [],
   "source": [
    "#!pip install pandas"
   ]
  },
  {
   "cell_type": "code",
   "execution_count": 152,
   "id": "2df73cdd",
   "metadata": {},
   "outputs": [],
   "source": [
    "import pandas as pd"
   ]
  },
  {
   "cell_type": "code",
   "execution_count": 153,
   "id": "4585931d",
   "metadata": {},
   "outputs": [],
   "source": [
    "people = [\n",
    "    [\"Shakil\", 27, \"Munich\"],\n",
    "    [\"ABC\", 25, \"Berlin\"],\n",
    "    [\"DEF\", 30, \"Hamburg\"],\n",
    "    [\"JKL\", 35, \"Munich\"]\n",
    "]"
   ]
  },
  {
   "cell_type": "code",
   "execution_count": 154,
   "id": "7e336477",
   "metadata": {},
   "outputs": [
    {
     "data": {
      "text/plain": [
       "[['Shakil', 27, 'Munich'],\n",
       " ['ABC', 25, 'Berlin'],\n",
       " ['DEF', 30, 'Hamburg'],\n",
       " ['JKL', 35, 'Munich']]"
      ]
     },
     "execution_count": 154,
     "metadata": {},
     "output_type": "execute_result"
    }
   ],
   "source": [
    "people"
   ]
  },
  {
   "cell_type": "code",
   "execution_count": 155,
   "id": "0e64d05e",
   "metadata": {},
   "outputs": [
    {
     "data": {
      "text/html": [
       "<div>\n",
       "<style scoped>\n",
       "    .dataframe tbody tr th:only-of-type {\n",
       "        vertical-align: middle;\n",
       "    }\n",
       "\n",
       "    .dataframe tbody tr th {\n",
       "        vertical-align: top;\n",
       "    }\n",
       "\n",
       "    .dataframe thead th {\n",
       "        text-align: right;\n",
       "    }\n",
       "</style>\n",
       "<table border=\"1\" class=\"dataframe\">\n",
       "  <thead>\n",
       "    <tr style=\"text-align: right;\">\n",
       "      <th></th>\n",
       "      <th>0</th>\n",
       "      <th>1</th>\n",
       "      <th>2</th>\n",
       "    </tr>\n",
       "  </thead>\n",
       "  <tbody>\n",
       "    <tr>\n",
       "      <th>0</th>\n",
       "      <td>Shakil</td>\n",
       "      <td>27</td>\n",
       "      <td>Munich</td>\n",
       "    </tr>\n",
       "    <tr>\n",
       "      <th>1</th>\n",
       "      <td>ABC</td>\n",
       "      <td>25</td>\n",
       "      <td>Berlin</td>\n",
       "    </tr>\n",
       "    <tr>\n",
       "      <th>2</th>\n",
       "      <td>DEF</td>\n",
       "      <td>30</td>\n",
       "      <td>Hamburg</td>\n",
       "    </tr>\n",
       "    <tr>\n",
       "      <th>3</th>\n",
       "      <td>JKL</td>\n",
       "      <td>35</td>\n",
       "      <td>Munich</td>\n",
       "    </tr>\n",
       "  </tbody>\n",
       "</table>\n",
       "</div>"
      ],
      "text/plain": [
       "        0   1        2\n",
       "0  Shakil  27   Munich\n",
       "1     ABC  25   Berlin\n",
       "2     DEF  30  Hamburg\n",
       "3     JKL  35   Munich"
      ]
     },
     "execution_count": 155,
     "metadata": {},
     "output_type": "execute_result"
    }
   ],
   "source": [
    "d1 = pd.DataFrame(people)\n",
    "d1"
   ]
  },
  {
   "cell_type": "code",
   "execution_count": 156,
   "id": "04c51222",
   "metadata": {},
   "outputs": [
    {
     "data": {
      "text/html": [
       "<div>\n",
       "<style scoped>\n",
       "    .dataframe tbody tr th:only-of-type {\n",
       "        vertical-align: middle;\n",
       "    }\n",
       "\n",
       "    .dataframe tbody tr th {\n",
       "        vertical-align: top;\n",
       "    }\n",
       "\n",
       "    .dataframe thead th {\n",
       "        text-align: right;\n",
       "    }\n",
       "</style>\n",
       "<table border=\"1\" class=\"dataframe\">\n",
       "  <thead>\n",
       "    <tr style=\"text-align: right;\">\n",
       "      <th></th>\n",
       "      <th>name</th>\n",
       "      <th>age</th>\n",
       "      <th>city</th>\n",
       "    </tr>\n",
       "  </thead>\n",
       "  <tbody>\n",
       "    <tr>\n",
       "      <th>0</th>\n",
       "      <td>Shakil</td>\n",
       "      <td>27</td>\n",
       "      <td>Munich</td>\n",
       "    </tr>\n",
       "    <tr>\n",
       "      <th>1</th>\n",
       "      <td>ABC</td>\n",
       "      <td>25</td>\n",
       "      <td>Berlin</td>\n",
       "    </tr>\n",
       "    <tr>\n",
       "      <th>2</th>\n",
       "      <td>DEF</td>\n",
       "      <td>30</td>\n",
       "      <td>Hamburg</td>\n",
       "    </tr>\n",
       "    <tr>\n",
       "      <th>3</th>\n",
       "      <td>JKL</td>\n",
       "      <td>35</td>\n",
       "      <td>Munich</td>\n",
       "    </tr>\n",
       "  </tbody>\n",
       "</table>\n",
       "</div>"
      ],
      "text/plain": [
       "     name  age     city\n",
       "0  Shakil   27   Munich\n",
       "1     ABC   25   Berlin\n",
       "2     DEF   30  Hamburg\n",
       "3     JKL   35   Munich"
      ]
     },
     "execution_count": 156,
     "metadata": {},
     "output_type": "execute_result"
    }
   ],
   "source": [
    "d1 = pd.DataFrame(people, columns=['name','age','city'])\n",
    "d1"
   ]
  },
  {
   "cell_type": "code",
   "execution_count": 157,
   "id": "5ece1d7d",
   "metadata": {},
   "outputs": [
    {
     "data": {
      "text/html": [
       "<div>\n",
       "<style scoped>\n",
       "    .dataframe tbody tr th:only-of-type {\n",
       "        vertical-align: middle;\n",
       "    }\n",
       "\n",
       "    .dataframe tbody tr th {\n",
       "        vertical-align: top;\n",
       "    }\n",
       "\n",
       "    .dataframe thead th {\n",
       "        text-align: right;\n",
       "    }\n",
       "</style>\n",
       "<table border=\"1\" class=\"dataframe\">\n",
       "  <thead>\n",
       "    <tr style=\"text-align: right;\">\n",
       "      <th></th>\n",
       "      <th>name</th>\n",
       "      <th>age</th>\n",
       "      <th>city</th>\n",
       "    </tr>\n",
       "  </thead>\n",
       "  <tbody>\n",
       "    <tr>\n",
       "      <th>a</th>\n",
       "      <td>Shakil</td>\n",
       "      <td>27</td>\n",
       "      <td>Munich</td>\n",
       "    </tr>\n",
       "    <tr>\n",
       "      <th>b</th>\n",
       "      <td>ABC</td>\n",
       "      <td>25</td>\n",
       "      <td>Berlin</td>\n",
       "    </tr>\n",
       "    <tr>\n",
       "      <th>c</th>\n",
       "      <td>DEF</td>\n",
       "      <td>30</td>\n",
       "      <td>Hamburg</td>\n",
       "    </tr>\n",
       "    <tr>\n",
       "      <th>d</th>\n",
       "      <td>JKL</td>\n",
       "      <td>35</td>\n",
       "      <td>Munich</td>\n",
       "    </tr>\n",
       "  </tbody>\n",
       "</table>\n",
       "</div>"
      ],
      "text/plain": [
       "     name  age     city\n",
       "a  Shakil   27   Munich\n",
       "b     ABC   25   Berlin\n",
       "c     DEF   30  Hamburg\n",
       "d     JKL   35   Munich"
      ]
     },
     "execution_count": 157,
     "metadata": {},
     "output_type": "execute_result"
    }
   ],
   "source": [
    "d1 = pd.DataFrame(people, columns=['name','age','city'], index=['a','b','c','d'])\n",
    "d1"
   ]
  },
  {
   "cell_type": "code",
   "execution_count": 159,
   "id": "0b203813",
   "metadata": {},
   "outputs": [
    {
     "data": {
      "text/plain": [
       "a    Shakil\n",
       "b       ABC\n",
       "c       DEF\n",
       "d       JKL\n",
       "Name: name, dtype: object"
      ]
     },
     "execution_count": 159,
     "metadata": {},
     "output_type": "execute_result"
    }
   ],
   "source": [
    "d1.name"
   ]
  },
  {
   "cell_type": "code",
   "execution_count": 160,
   "id": "4358271b",
   "metadata": {},
   "outputs": [
    {
     "data": {
      "text/plain": [
       "a     Munich\n",
       "b     Berlin\n",
       "c    Hamburg\n",
       "d     Munich\n",
       "Name: city, dtype: object"
      ]
     },
     "execution_count": 160,
     "metadata": {},
     "output_type": "execute_result"
    }
   ],
   "source": [
    "d1.city"
   ]
  },
  {
   "cell_type": "code",
   "execution_count": 162,
   "id": "568c7d9d",
   "metadata": {},
   "outputs": [
    {
     "data": {
      "text/html": [
       "<div>\n",
       "<style scoped>\n",
       "    .dataframe tbody tr th:only-of-type {\n",
       "        vertical-align: middle;\n",
       "    }\n",
       "\n",
       "    .dataframe tbody tr th {\n",
       "        vertical-align: top;\n",
       "    }\n",
       "\n",
       "    .dataframe thead th {\n",
       "        text-align: right;\n",
       "    }\n",
       "</style>\n",
       "<table border=\"1\" class=\"dataframe\">\n",
       "  <thead>\n",
       "    <tr style=\"text-align: right;\">\n",
       "      <th></th>\n",
       "      <th>city</th>\n",
       "    </tr>\n",
       "  </thead>\n",
       "  <tbody>\n",
       "    <tr>\n",
       "      <th>a</th>\n",
       "      <td>Munich</td>\n",
       "    </tr>\n",
       "    <tr>\n",
       "      <th>b</th>\n",
       "      <td>Berlin</td>\n",
       "    </tr>\n",
       "    <tr>\n",
       "      <th>c</th>\n",
       "      <td>Hamburg</td>\n",
       "    </tr>\n",
       "    <tr>\n",
       "      <th>d</th>\n",
       "      <td>Munich</td>\n",
       "    </tr>\n",
       "  </tbody>\n",
       "</table>\n",
       "</div>"
      ],
      "text/plain": [
       "      city\n",
       "a   Munich\n",
       "b   Berlin\n",
       "c  Hamburg\n",
       "d   Munich"
      ]
     },
     "execution_count": 162,
     "metadata": {},
     "output_type": "execute_result"
    }
   ],
   "source": [
    "d1[['city']]"
   ]
  },
  {
   "cell_type": "code",
   "execution_count": 163,
   "id": "0be0fe64",
   "metadata": {},
   "outputs": [
    {
     "data": {
      "text/html": [
       "<div>\n",
       "<style scoped>\n",
       "    .dataframe tbody tr th:only-of-type {\n",
       "        vertical-align: middle;\n",
       "    }\n",
       "\n",
       "    .dataframe tbody tr th {\n",
       "        vertical-align: top;\n",
       "    }\n",
       "\n",
       "    .dataframe thead th {\n",
       "        text-align: right;\n",
       "    }\n",
       "</style>\n",
       "<table border=\"1\" class=\"dataframe\">\n",
       "  <thead>\n",
       "    <tr style=\"text-align: right;\">\n",
       "      <th></th>\n",
       "      <th>name</th>\n",
       "      <th>age</th>\n",
       "      <th>city</th>\n",
       "    </tr>\n",
       "  </thead>\n",
       "  <tbody>\n",
       "    <tr>\n",
       "      <th>a</th>\n",
       "      <td>Shakil</td>\n",
       "      <td>27</td>\n",
       "      <td>Munich</td>\n",
       "    </tr>\n",
       "    <tr>\n",
       "      <th>b</th>\n",
       "      <td>ABC</td>\n",
       "      <td>25</td>\n",
       "      <td>Berlin</td>\n",
       "    </tr>\n",
       "  </tbody>\n",
       "</table>\n",
       "</div>"
      ],
      "text/plain": [
       "     name  age    city\n",
       "a  Shakil   27  Munich\n",
       "b     ABC   25  Berlin"
      ]
     },
     "execution_count": 163,
     "metadata": {},
     "output_type": "execute_result"
    }
   ],
   "source": [
    "d1.head(2)"
   ]
  },
  {
   "cell_type": "code",
   "execution_count": 167,
   "id": "3e32838e",
   "metadata": {},
   "outputs": [
    {
     "data": {
      "text/html": [
       "<div>\n",
       "<style scoped>\n",
       "    .dataframe tbody tr th:only-of-type {\n",
       "        vertical-align: middle;\n",
       "    }\n",
       "\n",
       "    .dataframe tbody tr th {\n",
       "        vertical-align: top;\n",
       "    }\n",
       "\n",
       "    .dataframe thead th {\n",
       "        text-align: right;\n",
       "    }\n",
       "</style>\n",
       "<table border=\"1\" class=\"dataframe\">\n",
       "  <thead>\n",
       "    <tr style=\"text-align: right;\">\n",
       "      <th></th>\n",
       "      <th>name</th>\n",
       "      <th>age</th>\n",
       "    </tr>\n",
       "  </thead>\n",
       "  <tbody>\n",
       "    <tr>\n",
       "      <th>a</th>\n",
       "      <td>Shakil</td>\n",
       "      <td>27</td>\n",
       "    </tr>\n",
       "    <tr>\n",
       "      <th>b</th>\n",
       "      <td>ABC</td>\n",
       "      <td>25</td>\n",
       "    </tr>\n",
       "    <tr>\n",
       "      <th>c</th>\n",
       "      <td>DEF</td>\n",
       "      <td>30</td>\n",
       "    </tr>\n",
       "    <tr>\n",
       "      <th>d</th>\n",
       "      <td>JKL</td>\n",
       "      <td>35</td>\n",
       "    </tr>\n",
       "  </tbody>\n",
       "</table>\n",
       "</div>"
      ],
      "text/plain": [
       "     name  age\n",
       "a  Shakil   27\n",
       "b     ABC   25\n",
       "c     DEF   30\n",
       "d     JKL   35"
      ]
     },
     "execution_count": 167,
     "metadata": {},
     "output_type": "execute_result"
    }
   ],
   "source": [
    "d1.drop(['city'], axis = 1)"
   ]
  },
  {
   "cell_type": "code",
   "execution_count": null,
   "id": "5a77525d",
   "metadata": {},
   "outputs": [],
   "source": []
  }
 ],
 "metadata": {
  "kernelspec": {
   "display_name": "Python 3 (ipykernel)",
   "language": "python",
   "name": "python3"
  },
  "language_info": {
   "codemirror_mode": {
    "name": "ipython",
    "version": 3
   },
   "file_extension": ".py",
   "mimetype": "text/x-python",
   "name": "python",
   "nbconvert_exporter": "python",
   "pygments_lexer": "ipython3",
   "version": "3.9.13"
  }
 },
 "nbformat": 4,
 "nbformat_minor": 5
}
