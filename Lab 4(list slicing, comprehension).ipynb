{
 "cells": [
  {
   "cell_type": "code",
   "execution_count": 3,
   "id": "076c2362",
   "metadata": {},
   "outputs": [
    {
     "name": "stdout",
     "output_type": "stream",
     "text": [
      "[14, 21, 35, 42, 16, 24, 40, 48, 4, 6, 10, 12]\n"
     ]
    }
   ],
   "source": [
    "#3 \n",
    "n1=[2,3,5,6]\n",
    "n2=[7,8,2]\n",
    "Multiplication=[]\n",
    "for i in range(len(n2)):\n",
    "    for j in range(len(n1)):\n",
    "        multi=n1[j]*n2[i]\n",
    "        Multiplication.append(multi)\n",
    "print(Multiplication)        "
   ]
  },
  {
   "cell_type": "code",
   "execution_count": 4,
   "id": "5526d72b",
   "metadata": {},
   "outputs": [
    {
     "name": "stdout",
     "output_type": "stream",
     "text": [
      "[14, 21, 35, 16, 24, 40, 4, 6, 10]\n"
     ]
    }
   ],
   "source": [
    "n1=[2,3,5,6]\n",
    "n2=[7,8,2]\n",
    "Multiplication=[]\n",
    "for i in range(len(n2)):\n",
    "    \n",
    "        multi1=n1[0]*n2[i]\n",
    "        Multiplication.append(multi1)\n",
    "        multi2=n1[1]*n2[i]\n",
    "        Multiplication.append(multi2)\n",
    "        multi3=n1[2]*n2[i]\n",
    "        Multiplication.append(multi3)\n",
    "print(Multiplication)  "
   ]
  },
  {
   "cell_type": "code",
   "execution_count": 6,
   "id": "b19928df",
   "metadata": {},
   "outputs": [
    {
     "name": "stdout",
     "output_type": "stream",
     "text": [
      "[1, 2, 3, 4.5, 'python']\n",
      "[3, 4.5, 'python']\n",
      "[3, 4.5, 'python']\n",
      "[1, 2, 3, 4.5, 'python']\n",
      "[1, 2, 3]\n",
      "[1, 2, 3, 4.5, 'python']\n",
      "[1, 2, 3]\n",
      "[1, 2, 3, 4.5, 'python']\n"
     ]
    }
   ],
   "source": [
    "#list slicing\n",
    "n=[1,2,3,4.5,\"python\"]\n",
    "n[:]     #single slice\n",
    "n[2:5]   #2 to 4\n",
    "n[:5]    #0 to 4\n",
    "n[2:]    #2 to last\n",
    "print(n[:])\n",
    "print(n[2:5])\n",
    "print(n[2:])\n",
    "print(n[:5])\n",
    "print(n[-5:-2])\n",
    "print(n[-5:])\n",
    "print(n[:-2])\n",
    "print(n[:])"
   ]
  },
  {
   "cell_type": "code",
   "execution_count": 18,
   "id": "ba53705a",
   "metadata": {},
   "outputs": [
    {
     "name": "stdout",
     "output_type": "stream",
     "text": [
      "[3, 4, 5, 6]\n",
      "[1, 2, 3, 4, 5, 6, 7, 8]\n",
      "[1, 2, 3, 4]\n",
      "[4, 5, 6, 7, 8]\n"
     ]
    }
   ],
   "source": [
    "# 3 ta parameter \n",
    "n=[1,2,3,4,5,6,7,8]\n",
    "print(n[2:6:1])\n",
    "print(n[::1])\n",
    "print(n[:4:1])\n",
    "print(n[3::1])"
   ]
  },
  {
   "cell_type": "code",
   "execution_count": 21,
   "id": "a62cb44e",
   "metadata": {},
   "outputs": [
    {
     "name": "stdout",
     "output_type": "stream",
     "text": [
      "[1, 4, 9, 16]\n"
     ]
    }
   ],
   "source": [
    "#square\n",
    "\n",
    "n=[1,2,3,4]\n",
    "Squarelist=[]\n",
    "for i in range(len(n)):\n",
    "    Squarelist.append(n[i]*n[i])\n",
    "print(Squarelist)    \n",
    "\n"
   ]
  },
  {
   "cell_type": "code",
   "execution_count": 22,
   "id": "d7d26cf1",
   "metadata": {},
   "outputs": [
    {
     "name": "stdout",
     "output_type": "stream",
     "text": [
      "[1, 4, 9, 16]\n"
     ]
    }
   ],
   "source": [
    "#square\n",
    "\n",
    "n=[1,2,3,4]\n",
    "Squarelist=[]\n",
    "for i in range(len(n)):\n",
    "    Squarelist.append(n[i]**2)\n",
    "print(Squarelist)    \n",
    "\n"
   ]
  },
  {
   "cell_type": "code",
   "execution_count": 24,
   "id": "aec73e11",
   "metadata": {},
   "outputs": [
    {
     "name": "stdout",
     "output_type": "stream",
     "text": [
      "[1.0, 1.4142135623730951, 1.7320508075688772, 2.0]\n"
     ]
    }
   ],
   "source": [
    "#root\n",
    "\n",
    "from math import sqrt\n",
    "n=[1,2,3,4]\n",
    "li=[]\n",
    "for i in range(len(n)):\n",
    "    s=sqrt(n[i])\n",
    "    li.append(s)\n",
    "print(li)    "
   ]
  },
  {
   "cell_type": "code",
   "execution_count": null,
   "id": "6ab0c479",
   "metadata": {},
   "outputs": [],
   "source": [
    "#Syntex\n",
    "\n",
    "# Newlist=[expression(Element) for element in oldlist if condition]"
   ]
  },
  {
   "cell_type": "code",
   "execution_count": 26,
   "id": "2ed663e7",
   "metadata": {},
   "outputs": [
    {
     "name": "stdout",
     "output_type": "stream",
     "text": [
      "[1, 4, 9, 16, 25]\n"
     ]
    }
   ],
   "source": [
    "###list comprehension(simplify kora ba sohoj kora)\n",
    "\n",
    "#list to list\n",
    "n=[1,2,3,4,5]\n",
    "squareValue=[n[x]**2 for x in range(len(n))]\n",
    "print(squareValue)\n"
   ]
  },
  {
   "cell_type": "code",
   "execution_count": 27,
   "id": "ea934a99",
   "metadata": {},
   "outputs": [
    {
     "name": "stdout",
     "output_type": "stream",
     "text": [
      "[1, 4, 9, 16, 25]\n"
     ]
    }
   ],
   "source": [
    "###list comprehension(simplify kora ba sohoj kora)\n",
    "\n",
    "#list to list\n",
    "#use condition\n",
    "\n",
    "n=[1,2,3,4,5]\n",
    "squareValue=[n[x]**2 for x in range(len(n)) if len(n)>0]\n",
    "print(squareValue)\n",
    "\n"
   ]
  },
  {
   "cell_type": "code",
   "execution_count": 36,
   "id": "6e40268b",
   "metadata": {},
   "outputs": [
    {
     "name": "stdout",
     "output_type": "stream",
     "text": [
      "[4, 16, 16, 36]\n"
     ]
    }
   ],
   "source": [
    "###list comprehension(simplify kora ba sohoj kora)\n",
    "\n",
    "#list to list\n",
    "#use condition\n",
    "\n",
    "n=[1,2,3,4,5,3,4,5,6,7,89]\n",
    "squareValue=[n[x]**2 for x in range(len(n)) if (n[x]%2==0)]\n",
    "print(squareValue)\n",
    "\n",
    "\n"
   ]
  },
  {
   "cell_type": "code",
   "execution_count": null,
   "id": "00d01f4f",
   "metadata": {},
   "outputs": [],
   "source": []
  }
 ],
 "metadata": {
  "kernelspec": {
   "display_name": "Python 3 (ipykernel)",
   "language": "python",
   "name": "python3"
  },
  "language_info": {
   "codemirror_mode": {
    "name": "ipython",
    "version": 3
   },
   "file_extension": ".py",
   "mimetype": "text/x-python",
   "name": "python",
   "nbconvert_exporter": "python",
   "pygments_lexer": "ipython3",
   "version": "3.11.5"
  }
 },
 "nbformat": 4,
 "nbformat_minor": 5
}
