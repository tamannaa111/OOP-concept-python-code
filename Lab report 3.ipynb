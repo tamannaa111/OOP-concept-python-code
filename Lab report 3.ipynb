{
 "cells": [
  {
   "cell_type": "raw",
   "id": "aa8c389f",
   "metadata": {},
   "source": [
    "# 1. String Reverse: Write a Python function to reverse a given string and return the reversed string."
   ]
  },
  {
   "cell_type": "code",
   "execution_count": 1,
   "id": "4a06991e",
   "metadata": {},
   "outputs": [
    {
     "name": "stdout",
     "output_type": "stream",
     "text": [
      "Tamanna\n",
      "Tamanna\n",
      "annamaT\n"
     ]
    }
   ],
   "source": [
    "def reverse(s):\n",
    "    str=''\n",
    "   \n",
    "    for i in s:\n",
    "        str=i+str\n",
    "    return str\n",
    "s=input()\n",
    "print(s)\n",
    "print(reverse(s))"
   ]
  },
  {
   "cell_type": "markdown",
   "id": "56572770",
   "metadata": {},
   "source": [
    "2. Type Conversion: Given a list of integers, write a Python program to convert each element of the list to a string."
   ]
  },
  {
   "cell_type": "code",
   "execution_count": 2,
   "id": "79207462",
   "metadata": {},
   "outputs": [
    {
     "name": "stdout",
     "output_type": "stream",
     "text": [
      "['1', '2', '2', '3', '33', '4', '5', '6', '7']\n"
     ]
    }
   ],
   "source": [
    "a=[1,2,2,3,33,4,5,6,7]\n",
    "B=map(str,a)\n",
    "print(list(B))"
   ]
  },
  {
   "cell_type": "markdown",
   "id": "6d6c23df",
   "metadata": {},
   "source": [
    "3. Temperature Converter: Write a Python program that converts a temperature in Celsius to Fahrenheit. Take the Celsius temperature as input from the user."
   ]
  },
  {
   "cell_type": "code",
   "execution_count": 3,
   "id": "51bd6d3e",
   "metadata": {},
   "outputs": [
    {
     "name": "stdout",
     "output_type": "stream",
     "text": [
      "Enter your calsius value:33\n",
      "Fahenheit value of 33 is: 91.4\n"
     ]
    }
   ],
   "source": [
    "C=int(input(\"Enter your calsius value:\"))\n",
    "\n",
    "F = (9/5 * C) + 32\n",
    "print(f\"Fahenheit value of {C} is:\",F)"
   ]
  },
  {
   "cell_type": "markdown",
   "id": "e8b1d361",
   "metadata": {},
   "source": [
    "4.String Palindrome: Write a Python function to check if a given string is a palindrome or not."
   ]
  },
  {
   "cell_type": "code",
   "execution_count": 4,
   "id": "7c7240d8",
   "metadata": {},
   "outputs": [
    {
     "name": "stdout",
     "output_type": "stream",
     "text": [
      "Enter:level\n",
      "level is palindrom\n"
     ]
    }
   ],
   "source": [
    "\n",
    "    s=input(\"Enter:\")\n",
    "    n=s[::-1]\n",
    "    if n==s:\n",
    "        print(f'{s} is palindrom')\n",
    "    else:\n",
    "        print(f'{s} is not palindrom')\n",
    "\n"
   ]
  },
  {
   "cell_type": "code",
   "execution_count": 5,
   "id": "0fab4ae6",
   "metadata": {},
   "outputs": [
    {
     "name": "stdout",
     "output_type": "stream",
     "text": [
      "lelel\n",
      "lelel is palindrom\n"
     ]
    }
   ],
   "source": [
    "a=input()\n",
    "b=\"\"\n",
    "for i in a:\n",
    "    b=i+b\n",
    "if a==b:\n",
    "    print(f\"{a} is palindrom\")\n",
    "else:\n",
    "    print(f'{a} is not palindrom')\n",
    "    "
   ]
  },
  {
   "cell_type": "markdown",
   "id": "a4873c20",
   "metadata": {},
   "source": [
    "5. String Reversal with Slicing: Write a Python function to reverse a given string using slicing."
   ]
  },
  {
   "cell_type": "code",
   "execution_count": 6,
   "id": "a00fab4f",
   "metadata": {},
   "outputs": [
    {
     "name": "stdout",
     "output_type": "stream",
     "text": [
      "annamaT\n"
     ]
    }
   ],
   "source": [
    "\n",
    "str='Tamanna'[::-1]\n",
    "print(str)"
   ]
  },
  {
   "cell_type": "code",
   "execution_count": 7,
   "id": "5c2a6ea9",
   "metadata": {},
   "outputs": [
    {
     "name": "stdout",
     "output_type": "stream",
     "text": [
      "Tamanna\n",
      "annamaT\n"
     ]
    }
   ],
   "source": [
    "a=input()\n",
    "str=a[::-1]\n",
    "print(str)"
   ]
  },
  {
   "cell_type": "markdown",
   "id": "17f67cf8",
   "metadata": {},
   "source": [
    "6. Grades Classification: Write a Python program that takes a student’s percentage as input and prints their corresponding grade according to the following criteria: – 90% or above: A+ – 80-89%: A – 70-79%: B – 60-69%: C – Below 60%: Fail."
   ]
  },
  {
   "cell_type": "code",
   "execution_count": 8,
   "id": "5e39477d",
   "metadata": {},
   "outputs": [
    {
     "name": "stdout",
     "output_type": "stream",
     "text": [
      "Enter your marks33\n",
      "Fail\n"
     ]
    }
   ],
   "source": [
    "n=int(input(\"Enter your marks\"))\n",
    "if n>=90:\n",
    "    print('A+')\n",
    "elif n<90 & n>=80:\n",
    "    print('A')\n",
    "elif n<80 & n>=70:\n",
    "    print(\"B\")\n",
    "elif n<70 & n>=60:\n",
    "    print(\"C\")\n",
    "else :\n",
    "    print(\"Fail\")   "
   ]
  },
  {
   "cell_type": "code",
   "execution_count": 9,
   "id": "320e8ccb",
   "metadata": {},
   "outputs": [
    {
     "name": "stdout",
     "output_type": "stream",
     "text": [
      "Enter your marks: 80\n",
      "A\n"
     ]
    }
   ],
   "source": [
    "n = int(input(\"Enter your marks: \"))\n",
    "\n",
    "if n >= 90:\n",
    "    print('A+')\n",
    "elif n < 90 and n >= 80:\n",
    "    print('A')\n",
    "elif n < 80 and n >= 70:\n",
    "    print(\"B\")\n",
    "elif n < 70 and n >= 60:\n",
    "    print(\"C\")\n",
    "else:\n",
    "    print(\"Fail\")\n"
   ]
  },
  {
   "cell_type": "markdown",
   "id": "5c5342a4",
   "metadata": {},
   "source": [
    "7.Table of a Number: Write a Python program using a for loop to print the multiplication table of a given number N."
   ]
  },
  {
   "cell_type": "code",
   "execution_count": 10,
   "id": "eca9c70f",
   "metadata": {},
   "outputs": [
    {
     "name": "stdout",
     "output_type": "stream",
     "text": [
      "5 x 1 = 5\n",
      "5 x 2 = 10\n",
      "5 x 3 = 15\n",
      "5 x 4 = 20\n",
      "5 x 5 = 25\n",
      "5 x 6 = 30\n",
      "5 x 7 = 35\n",
      "5 x 8 = 40\n",
      "5 x 9 = 45\n",
      "5 x 10 = 50\n"
     ]
    }
   ],
   "source": [
    "n=5\n",
    "for i in range(1,11):\n",
    "    a=n*i\n",
    "    print(f\"{n} x {i} = {n * i}\")"
   ]
  },
  {
   "cell_type": "code",
   "execution_count": 11,
   "id": "375460a8",
   "metadata": {},
   "outputs": [
    {
     "name": "stdout",
     "output_type": "stream",
     "text": [
      "5 x 1 = 5\n",
      "5 x 2 = 10\n",
      "5 x 3 = 15\n",
      "5 x 4 = 20\n",
      "5 x 5 = 25\n",
      "5 x 6 = 30\n",
      "5 x 7 = 35\n",
      "5 x 8 = 40\n",
      "5 x 9 = 45\n",
      "5 x 10 = 50\n"
     ]
    }
   ],
   "source": [
    "n=5\n",
    "for i in range(1,11):\n",
    "    a=n*i\n",
    "    print(f\"{n} x {i} = {a}\")"
   ]
  },
  {
   "cell_type": "markdown",
   "id": "a078d3ce",
   "metadata": {},
   "source": [
    "8.Count Digits in a Number: Write a Python program using a while loop to count the number of digits in a given integer N."
   ]
  },
  {
   "cell_type": "code",
   "execution_count": 12,
   "id": "d3da2160",
   "metadata": {},
   "outputs": [
    {
     "name": "stdout",
     "output_type": "stream",
     "text": [
      "Enter number:44\n",
      "Number of digits: 2\n"
     ]
    }
   ],
   "source": [
    "n=int(input(\"Enter number:\"))\n",
    "count=0\n",
    "\n",
    "if n==0:\n",
    "    count+=1\n",
    "else:\n",
    "    while n!=0:\n",
    "        count+=1\n",
    "        n=n//10\n",
    "print(\"Number of digits:\",count)        \n"
   ]
  },
  {
   "cell_type": "code",
   "execution_count": 13,
   "id": "bb8063f6",
   "metadata": {},
   "outputs": [
    {
     "name": "stdout",
     "output_type": "stream",
     "text": [
      "Enter number:33\n",
      "Number of digits: 2\n"
     ]
    }
   ],
   "source": [
    "n=int(input(\"Enter number:\"))\n",
    "count=0\n",
    "while n!=0:\n",
    "        count+=1\n",
    "        n=n//10\n",
    "print(\"Number of digits:\",count)"
   ]
  },
  {
   "cell_type": "markdown",
   "id": "1473c055",
   "metadata": {},
   "source": [
    "9. Fibonacci Sequence: Write a Python program using a for loop to generate the Fibonacci sequence up to a given limit N."
   ]
  },
  {
   "cell_type": "code",
   "execution_count": 14,
   "id": "a317d4ae",
   "metadata": {},
   "outputs": [
    {
     "name": "stdout",
     "output_type": "stream",
     "text": [
      "6\n",
      "fibonacci ssequence:\n",
      "0 1 1 2 3 5 "
     ]
    }
   ],
   "source": [
    "def fibo(n):\n",
    " \n",
    "    if n==0:\n",
    "        print(\"incorrect input\")\n",
    "    elif n==1:\n",
    "        return 0 \n",
    "    elif n==2:\n",
    "        return 1\n",
    "    else:\n",
    "         return fibo(n - 1) + fibo(n - 2)\n",
    "    \n",
    "n=int(input())\n",
    "print(\"fibonacci ssequence:\")\n",
    "for i in range(1,n+1):\n",
    "    print(fibo(i) ,end=\" \")"
   ]
  },
  {
   "cell_type": "markdown",
   "id": "e2edbea9",
   "metadata": {},
   "source": [
    "10. Sum of Even Numbers: Write a Python program using a while loop to calculate the sum of all even numbers between 1 and N, where N is taken as input from the user."
   ]
  },
  {
   "cell_type": "code",
   "execution_count": 15,
   "id": "929fc9f3",
   "metadata": {},
   "outputs": [
    {
     "name": "stdout",
     "output_type": "stream",
     "text": [
      "23\n",
      "sum of even numbers between 1 and  23 is 30\n"
     ]
    }
   ],
   "source": [
    "n=int(input())\n",
    "i=2\n",
    "s=0\n",
    "\n",
    "while s<=n:\n",
    "    s=s+i\n",
    "    i=i+2\n",
    "    \n",
    "print(\"sum of even numbers between 1 and \",n, \"is\",s)    "
   ]
  },
  {
   "cell_type": "markdown",
   "id": "aa5fe8a1",
   "metadata": {},
   "source": [
    "11. Print Patterns: Write a Python program using nested for loops to print various patterns, such as a right-angled triangle, an inverted right-angled triangle, and so on."
   ]
  },
  {
   "cell_type": "code",
   "execution_count": 16,
   "id": "489b6941",
   "metadata": {},
   "outputs": [
    {
     "name": "stdout",
     "output_type": "stream",
     "text": [
      "Enter the size of patterns: 5\n",
      "Right-angled triangle:\n",
      "*\n",
      "**\n",
      "***\n",
      "****\n",
      "*****\n",
      "\n",
      "Inverted right-angled triangle:\n",
      "*****\n",
      "****\n",
      "***\n",
      "**\n",
      "*\n",
      "\n",
      "Pyramid:\n",
      "    *\n",
      "   ***\n",
      "  *****\n",
      " *******\n",
      "*********\n"
     ]
    }
   ],
   "source": [
    "# Right-angled triangle pattern\n",
    "def right_angle_triangle(n):\n",
    "    for i in range(1, n + 1):\n",
    "        print(\"*\" * i)\n",
    "\n",
    "# Inverted right-angled triangle pattern\n",
    "def inverted_right_angle_triangle(n):\n",
    "    for i in range(n, 0, -1):\n",
    "        print(\"*\" * i)\n",
    "\n",
    "# Pyramid pattern\n",
    "def pyramid(n):\n",
    "    for i in range(1, n + 1):\n",
    "        print(\" \" * (n - i) + \"*\" * (2 * i - 1))\n",
    "\n",
    "# Take input from the user for the size of patterns\n",
    "size = int(input(\"Enter the size of patterns: \"))\n",
    "\n",
    "print(\"Right-angled triangle:\")\n",
    "right_angle_triangle(size)\n",
    "\n",
    "print(\"\\nInverted right-angled triangle:\")\n",
    "inverted_right_angle_triangle(size)\n",
    "\n",
    "print(\"\\nPyramid:\")\n",
    "pyramid(size)\n"
   ]
  },
  {
   "cell_type": "code",
   "execution_count": 17,
   "id": "e63e6471",
   "metadata": {},
   "outputs": [
    {
     "name": "stdout",
     "output_type": "stream",
     "text": [
      "5\n",
      "\n",
      "*\n",
      "**\n",
      "***\n",
      "****\n",
      "*****\n",
      "*****\n",
      "****\n",
      "***\n",
      "**\n",
      "*\n",
      "    *\n",
      "    *\n",
      "   ***\n",
      "   ***\n",
      "  *****\n",
      "  *****\n",
      " *******\n",
      " *******\n",
      "*********\n",
      "*********\n"
     ]
    }
   ],
   "source": [
    "def t(n):\n",
    "    for i in range(0,n+1):\n",
    "        print(\"*\" * i)\n",
    "def l(n): \n",
    "    for j in range(n,0,-1):\n",
    "        print(\"*\" * j)\n",
    "def p(n):\n",
    "    for i in range(1,n+1):\n",
    "        print(\" \" * (n - i) + \"*\" * (2 * i - 1))\n",
    "        print(' '*(n-i)+ '*' * (2*i-1))\n",
    "n=int(input())\n",
    "t(n)\n",
    "l(n)\n",
    "p(n)"
   ]
  },
  {
   "cell_type": "markdown",
   "id": "c8913414",
   "metadata": {},
   "source": [
    "12. Prime Number Checker: Write a Python program using a while loop to check if a given number N is prime or not."
   ]
  },
  {
   "cell_type": "code",
   "execution_count": 18,
   "id": "92db342d",
   "metadata": {},
   "outputs": [
    {
     "name": "stdout",
     "output_type": "stream",
     "text": [
      "4  is not prime number\n"
     ]
    }
   ],
   "source": [
    "n=4\n",
    "if n>1:\n",
    "    for i in range(2,int(n/2)+1):\n",
    "        if n%2==0:\n",
    "            print(n,\" is not prime number\")\n",
    "            break\n",
    "        else:\n",
    "            print(n,\"is a prime number \")\n",
    "           "
   ]
  },
  {
   "cell_type": "markdown",
   "id": "8a4fe0e7",
   "metadata": {},
   "source": [
    " 13. List Manipulation: Given a list of integers, write a Python program using a for loop to find the sum, average, maximum, and minimum values in the list."
   ]
  },
  {
   "cell_type": "code",
   "execution_count": 19,
   "id": "52f415c8",
   "metadata": {},
   "outputs": [
    {
     "name": "stdout",
     "output_type": "stream",
     "text": [
      "21\n",
      "3.5\n",
      "6\n",
      "1\n"
     ]
    }
   ],
   "source": [
    "list=[1,2,3,4,5,6]\n",
    "sum=0\n",
    "for i in range(len(list)):\n",
    "    sum=sum+list[i]\n",
    "    avg=sum/len(list)\n",
    "    m=max(list)\n",
    "    minn=min(list)\n",
    "print(sum)\n",
    "print(avg)\n",
    "print(m)\n",
    "print(minn)"
   ]
  },
  {
   "cell_type": "markdown",
   "id": "3cb3bb9e",
   "metadata": {},
   "source": [
    "14. Reverse String: Write a Python program using a while loop to reverse a given string."
   ]
  },
  {
   "cell_type": "code",
   "execution_count": 20,
   "id": "7c33d0ac",
   "metadata": {},
   "outputs": [
    {
     "name": "stdout",
     "output_type": "stream",
     "text": [
      "annamaT\n"
     ]
    }
   ],
   "source": [
    "a=\"Tamanna\"[::-1]\n",
    "print(a)"
   ]
  },
  {
   "cell_type": "code",
   "execution_count": 21,
   "id": "9093aa83",
   "metadata": {},
   "outputs": [
    {
     "name": "stdout",
     "output_type": "stream",
     "text": [
      "Enter a string: Tamnnn\n",
      "Reversed string: nnnmaT\n"
     ]
    }
   ],
   "source": [
    "\n",
    "a = input(\"Enter a string: \")\n",
    "\n",
    "b = \"\"\n",
    "index = len(a) - 1\n",
    "\n",
    "while index >= 0:\n",
    "    b += a[index]\n",
    "    index -= 1\n",
    "\n",
    "print(\"Reversed string:\",b)\n"
   ]
  },
  {
   "cell_type": "markdown",
   "id": "2b192bc6",
   "metadata": {},
   "source": [
    "15. List Sum: Write a Python program to find the sum of all elements in a given list of integers."
   ]
  },
  {
   "cell_type": "code",
   "execution_count": 5,
   "id": "c23595ca",
   "metadata": {},
   "outputs": [
    {
     "name": "stdout",
     "output_type": "stream",
     "text": [
      "21\n"
     ]
    }
   ],
   "source": [
    "list=[1,2,3,4,5,6]\n",
    "print(sum(list))"
   ]
  },
  {
   "cell_type": "code",
   "execution_count": 4,
   "id": "6c563926",
   "metadata": {},
   "outputs": [
    {
     "name": "stdout",
     "output_type": "stream",
     "text": [
      "21\n"
     ]
    }
   ],
   "source": [
    "list=[1,2,3,4,5,6]\n",
    "s=sum(list)\n",
    "print(s)"
   ]
  },
  {
   "cell_type": "markdown",
   "id": "34c1bd04",
   "metadata": {},
   "source": [
    "16. List Average: Write a Python program to calculate the average of all elements in a given list of integers."
   ]
  },
  {
   "cell_type": "code",
   "execution_count": 3,
   "id": "36d7c661",
   "metadata": {},
   "outputs": [
    {
     "name": "stdout",
     "output_type": "stream",
     "text": [
      "avg:  3.5\n"
     ]
    }
   ],
   "source": [
    "list=[1,2,3,4,5,6]\n",
    "print(\"avg: \",sum(list)/len(list))"
   ]
  },
  {
   "cell_type": "markdown",
   "id": "ceb9b088",
   "metadata": {},
   "source": [
    "17. List Max and Min: Write a Python program to find the maximum and minimum values in a given list of integers."
   ]
  },
  {
   "cell_type": "code",
   "execution_count": 27,
   "id": "deed74b7",
   "metadata": {},
   "outputs": [
    {
     "name": "stdout",
     "output_type": "stream",
     "text": [
      "max= 6 min= 1\n"
     ]
    }
   ],
   "source": [
    "list=[1,2,3,4,5,6]\n",
    "print(\"max=\", max(list),'min=' ,min(list))"
   ]
  },
  {
   "cell_type": "markdown",
   "id": "7e724256",
   "metadata": {},
   "source": [
    "18. List Sorting: Write a Python program to sort a list of integers in ascending order."
   ]
  },
  {
   "cell_type": "code",
   "execution_count": 28,
   "id": "6cd86ea0",
   "metadata": {},
   "outputs": [
    {
     "name": "stdout",
     "output_type": "stream",
     "text": [
      "[0, 1, 2, 4, 5, 5, 6, 14]\n"
     ]
    }
   ],
   "source": [
    "list=[2,4,14,5,1,5,6,0]\n",
    "print(sorted(list))"
   ]
  },
  {
   "cell_type": "code",
   "execution_count": null,
   "id": "840bbcbe",
   "metadata": {},
   "outputs": [],
   "source": []
  },
  {
   "cell_type": "markdown",
   "id": "adebeb48",
   "metadata": {},
   "source": [
    "19. List Filtering: Given a list of integers, write a Python program to create a new list that contains only the even numbers from the original list."
   ]
  },
  {
   "cell_type": "code",
   "execution_count": 29,
   "id": "c6e55dc4",
   "metadata": {},
   "outputs": [
    {
     "name": "stdout",
     "output_type": "stream",
     "text": [
      "[2, 4, 14, 6, 0]\n"
     ]
    }
   ],
   "source": [
    "list=[2,4,14,5,1,5,6,0]\n",
    "newlist=[x for x in list if x%2==0 ]\n",
    "print(newlist)"
   ]
  },
  {
   "cell_type": "code",
   "execution_count": 30,
   "id": "9548df26",
   "metadata": {},
   "outputs": [
    {
     "name": "stdout",
     "output_type": "stream",
     "text": [
      "[2, 4, 14, 6, 0]\n"
     ]
    }
   ],
   "source": [
    "list=[2,4,14,5,1,5,6,0]\n",
    "lis=[]\n",
    "for i in list:\n",
    "    if i%2==0:\n",
    "        lis.append(i)\n",
    "print(lis)        "
   ]
  },
  {
   "cell_type": "markdown",
   "id": "1f72992b",
   "metadata": {},
   "source": [
    "20. List Reversal: Write a Python program to reverse a given list without using any built-in functions."
   ]
  },
  {
   "cell_type": "code",
   "execution_count": 31,
   "id": "3df4b930",
   "metadata": {},
   "outputs": [
    {
     "name": "stdout",
     "output_type": "stream",
     "text": [
      "[2, 4, 14, 6, 0]\n"
     ]
    }
   ],
   "source": [
    "def reverse(lis):\n",
    "    lis=list[::-1]\n",
    "    return lis\n",
    "\n",
    "list=[1,2,3,4,5,6,7,8,'rr',9]\n",
    "print(lis)"
   ]
  },
  {
   "cell_type": "code",
   "execution_count": 32,
   "id": "29e18819",
   "metadata": {},
   "outputs": [
    {
     "name": "stdout",
     "output_type": "stream",
     "text": [
      "[9, 'rr', 8, 7, 6, 5, 4, 3, 2, 1]\n"
     ]
    }
   ],
   "source": [
    "list=[1,2,3,4,5,6,7,8,'rr',9]\n",
    "list.reverse()\n",
    "print(list)"
   ]
  },
  {
   "cell_type": "code",
   "execution_count": 33,
   "id": "75e0a422",
   "metadata": {},
   "outputs": [
    {
     "name": "stdout",
     "output_type": "stream",
     "text": [
      "[9, 'rr', 8, 7, 6, 5, 4, 3, 2, 1]\n"
     ]
    }
   ],
   "source": [
    "list=[1,2,3,4,5,6,7,8,'rr',9]\n",
    "lis=list[::-1]\n",
    "print(lis)\n",
    "    "
   ]
  },
  {
   "cell_type": "code",
   "execution_count": 34,
   "id": "c5d8253c",
   "metadata": {},
   "outputs": [
    {
     "name": "stdout",
     "output_type": "stream",
     "text": [
      "[[9, 'rr', 8, 7, 6, 5, 4, 3, 2, 1]]\n"
     ]
    }
   ],
   "source": [
    "list=[1,2,3,4,5,6,7,8,'rr',9]\n",
    "lis=[]\n",
    "lis.append(list[::-1])\n",
    "print(lis)"
   ]
  },
  {
   "cell_type": "code",
   "execution_count": 35,
   "id": "89ddd533",
   "metadata": {},
   "outputs": [
    {
     "name": "stdout",
     "output_type": "stream",
     "text": [
      "[9, 'rr', 8, 7, 6, 5, 4, 3, 2, 1]\n"
     ]
    }
   ],
   "source": [
    "list=[1,2,3,4,5,6,7,8,'rr',9]\n",
    "list=list[::-1]\n",
    "print(list)"
   ]
  },
  {
   "cell_type": "markdown",
   "id": "0e3409e6",
   "metadata": {},
   "source": [
    "21. List Manipulation: Given two lists of integers, write a Python program to create a new list that contains elements common to both lists"
   ]
  },
  {
   "cell_type": "code",
   "execution_count": 36,
   "id": "992e9e11",
   "metadata": {},
   "outputs": [
    {
     "name": "stdout",
     "output_type": "stream",
     "text": [
      "[2, 1, 3, 5]\n"
     ]
    }
   ],
   "source": [
    "list1=[2,1,3,4,5]\n",
    "list2=[1,2,34,5,6,3]\n",
    "list=[]\n",
    "for i in list1:\n",
    "    for j in list2:\n",
    "        if i==j:\n",
    "            list.append(i)\n",
    "print(list)            "
   ]
  },
  {
   "cell_type": "markdown",
   "id": "ae3fd522",
   "metadata": {},
   "source": [
    "22. List Element Count: Write a Python program to count the occurrences of a specific element in a given list."
   ]
  },
  {
   "cell_type": "code",
   "execution_count": 37,
   "id": "7369f435",
   "metadata": {},
   "outputs": [
    {
     "name": "stdout",
     "output_type": "stream",
     "text": [
      "7 is 2 times\n"
     ]
    }
   ],
   "source": [
    "list=[1,2,3,3,4,5,2,6,7,7,4,88,3,4,5]\n",
    "\n",
    "count=0\n",
    "x=7\n",
    "for i in list:\n",
    "    if i==x:\n",
    "        count+=1\n",
    "print(x,'is', count,'times')        "
   ]
  },
  {
   "cell_type": "markdown",
   "id": "586420a7",
   "metadata": {},
   "source": [
    "23. List Duplicates Removal: Write a Python program to remove duplicates from a given list while preserving the order of the elements."
   ]
  },
  {
   "cell_type": "code",
   "execution_count": 2,
   "id": "c256855a",
   "metadata": {},
   "outputs": [
    {
     "name": "stdout",
     "output_type": "stream",
     "text": [
      "[1, 2, 3, 4, 5, 6, 7, 88]\n"
     ]
    }
   ],
   "source": [
    "list1=[1,2,3,3,4,5,2,6,7,7,4,88,3,4,5]\n",
    "print(list(set(list1)))"
   ]
  },
  {
   "cell_type": "markdown",
   "id": "25c02c1e",
   "metadata": {},
   "source": [
    "24. List Comprehension: Given a list of integers, write a Python program to create a new list that contains the squares of the elements using list comprehension."
   ]
  },
  {
   "cell_type": "code",
   "execution_count": 39,
   "id": "706e5a23",
   "metadata": {},
   "outputs": [
    {
     "name": "stdout",
     "output_type": "stream",
     "text": [
      "[1, 4, 9, 9, 16, 25, 9, 16, 25]\n"
     ]
    }
   ],
   "source": [
    "list1=[1,2,3,3,4,5,3,4,5]\n",
    "list=[i**2 for i in list1]\n",
    "print(list)"
   ]
  },
  {
   "cell_type": "code",
   "execution_count": 1,
   "id": "4941da04",
   "metadata": {},
   "outputs": [
    {
     "name": "stdout",
     "output_type": "stream",
     "text": [
      "[1, 2, 3, 4, 5, 6, 7, 88]\n"
     ]
    }
   ],
   "source": [
    "list1=[1,2,3,3,4,5,2,6,7,7,4,88,3,4,5]\n",
    "print(list(set(list1)))"
   ]
  },
  {
   "cell_type": "code",
   "execution_count": null,
   "id": "8bcb44b1",
   "metadata": {},
   "outputs": [],
   "source": []
  },
  {
   "cell_type": "code",
   "execution_count": null,
   "id": "0aa27847",
   "metadata": {},
   "outputs": [],
   "source": []
  }
 ],
 "metadata": {
  "kernelspec": {
   "display_name": "Python 3 (ipykernel)",
   "language": "python",
   "name": "python3"
  },
  "language_info": {
   "codemirror_mode": {
    "name": "ipython",
    "version": 3
   },
   "file_extension": ".py",
   "mimetype": "text/x-python",
   "name": "python",
   "nbconvert_exporter": "python",
   "pygments_lexer": "ipython3",
   "version": "3.11.5"
  }
 },
 "nbformat": 4,
 "nbformat_minor": 5
}
