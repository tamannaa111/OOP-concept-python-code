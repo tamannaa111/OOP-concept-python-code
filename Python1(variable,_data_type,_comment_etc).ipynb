{
  "nbformat": 4,
  "nbformat_minor": 0,
  "metadata": {
    "colab": {
      "provenance": []
    },
    "kernelspec": {
      "name": "python3",
      "display_name": "Python 3"
    },
    "language_info": {
      "name": "python"
    }
  },
  "cells": [
    {
      "cell_type": "code",
      "execution_count": null,
      "metadata": {
        "colab": {
          "base_uri": "https://localhost:8080/"
        },
        "id": "fzMVbBB-yluu",
        "outputId": "d1b1b2cc-4f4d-4b1a-9ffb-7fc610de8429"
      },
      "outputs": [
        {
          "output_type": "stream",
          "name": "stdout",
          "text": [
            "Tamanna Welcome to colab\n"
          ]
        }
      ],
      "source": [
        "print(\"Tamanna Welcome to colab\")"
      ]
    },
    {
      "cell_type": "code",
      "source": [
        "print(\"Hello World!\")"
      ],
      "metadata": {
        "colab": {
          "base_uri": "https://localhost:8080/"
        },
        "id": "HGQaj_nr8gbn",
        "outputId": "478f8c5f-0df8-4747-818e-c3da48aa8a07"
      },
      "execution_count": null,
      "outputs": [
        {
          "output_type": "stream",
          "name": "stdout",
          "text": [
            "Hello World!\n"
          ]
        }
      ]
    },
    {
      "cell_type": "code",
      "source": [
        "#comment here\n",
        "print(55)"
      ],
      "metadata": {
        "colab": {
          "base_uri": "https://localhost:8080/"
        },
        "id": "t4hVVJBxy0U3",
        "outputId": "daee4a6d-c4e4-44fc-ffd6-9967003db04e"
      },
      "execution_count": null,
      "outputs": [
        {
          "output_type": "stream",
          "name": "stdout",
          "text": [
            "55\n"
          ]
        }
      ]
    },
    {
      "cell_type": "code",
      "source": [
        "\"' multiple comment'\"\n",
        "print('hello dear')\n"
      ],
      "metadata": {
        "colab": {
          "base_uri": "https://localhost:8080/"
        },
        "id": "wCGO5kpnzAfA",
        "outputId": "9640f593-3667-45e8-8307-526c4cf8877b"
      },
      "execution_count": null,
      "outputs": [
        {
          "output_type": "stream",
          "name": "stdout",
          "text": [
            "hello dear\n"
          ]
        }
      ]
    },
    {
      "cell_type": "code",
      "source": [
        "#variable\n",
        "\n",
        "Tamanna='oh fine!'\n",
        "Delowar= \"Nice\"\n",
        "\n",
        "print(Delowar)"
      ],
      "metadata": {
        "colab": {
          "base_uri": "https://localhost:8080/"
        },
        "id": "S_o1WCQnz8sS",
        "outputId": "edb06749-963f-4591-dca9-0e0ade717f79"
      },
      "execution_count": null,
      "outputs": [
        {
          "output_type": "stream",
          "name": "stdout",
          "text": [
            "Nice\n"
          ]
        }
      ]
    },
    {
      "cell_type": "code",
      "source": [
        "print(Tamanna)"
      ],
      "metadata": {
        "colab": {
          "base_uri": "https://localhost:8080/"
        },
        "id": "05kDq6lTz8wW",
        "outputId": "3a21b4f8-af75-4e81-e2f3-4f27f0f59050"
      },
      "execution_count": null,
      "outputs": [
        {
          "output_type": "stream",
          "name": "stdout",
          "text": [
            "oh fine!\n"
          ]
        }
      ]
    },
    {
      "cell_type": "code",
      "source": [
        "print('Tamanna')"
      ],
      "metadata": {
        "colab": {
          "base_uri": "https://localhost:8080/"
        },
        "id": "McI8dchfz8z_",
        "outputId": "24d2d319-af03-4ef1-ee1c-3c41d6bc2fa7"
      },
      "execution_count": null,
      "outputs": [
        {
          "output_type": "stream",
          "name": "stdout",
          "text": [
            "Tamanna\n"
          ]
        }
      ]
    },
    {
      "cell_type": "code",
      "source": [
        "#dataType\n",
        "#string type\n",
        "\n",
        "hablu='computer mama'\n",
        "habla=\"laptop\"\n",
        "print(hablu,habla)\n"
      ],
      "metadata": {
        "colab": {
          "base_uri": "https://localhost:8080/"
        },
        "id": "CamVIRSbz83X",
        "outputId": "bbc5a796-f24f-4dca-b844-7eb072a50a21"
      },
      "execution_count": null,
      "outputs": [
        {
          "output_type": "stream",
          "name": "stdout",
          "text": [
            "computer mama laptop\n"
          ]
        }
      ]
    },
    {
      "cell_type": "code",
      "source": [
        "#Number type data\n",
        "#int\n",
        "a=10\n",
        "#float\n",
        "b=10.5\n",
        "print(a)\n",
        "#for checking data type\n",
        "print(type(a))"
      ],
      "metadata": {
        "colab": {
          "base_uri": "https://localhost:8080/"
        },
        "id": "ELeTWV7m3spq",
        "outputId": "feccb842-e1b7-481a-df51-0da753c1d398"
      },
      "execution_count": null,
      "outputs": [
        {
          "output_type": "stream",
          "name": "stdout",
          "text": [
            "10\n",
            "<class 'int'>\n"
          ]
        }
      ]
    },
    {
      "cell_type": "code",
      "source": [
        "m"
      ],
      "metadata": {
        "id": "I4sgBhfV6oti"
      },
      "execution_count": null,
      "outputs": []
    },
    {
      "cell_type": "code",
      "source": [
        "#complex type data (NOT Valid i (j means complex )\n",
        "kudu=420j\n",
        "print(kudu)\n",
        "print(type(kudu))"
      ],
      "metadata": {
        "colab": {
          "base_uri": "https://localhost:8080/"
        },
        "id": "3h_K_cWU3swl",
        "outputId": "3091f883-89b5-43c5-848d-c1ac3c363c26"
      },
      "execution_count": null,
      "outputs": [
        {
          "output_type": "stream",
          "name": "stdout",
          "text": [
            "420j\n",
            "<class 'complex'>\n"
          ]
        }
      ]
    },
    {
      "cell_type": "code",
      "source": [
        "#string type data\n",
        "Your_name='Delowar'\n",
        "My_name= \"Tamanna\"\n",
        "print(Your_name + My_name)\n",
        "b=\"\"\n",
        "print(b)\n",
        "print(type(b))\n",
        "\n",
        "print(\"The name is\"+My_name )\n",
        "print(\"The name is\" + '   ' +My_name )\n",
        "print(\"The name is\" + ' *** ' +My_name )\n"
      ],
      "metadata": {
        "colab": {
          "base_uri": "https://localhost:8080/"
        },
        "id": "bYBWMh5N3s0N",
        "outputId": "e29f7c0d-36f4-423e-e659-f28d52ca0634"
      },
      "execution_count": null,
      "outputs": [
        {
          "output_type": "stream",
          "name": "stdout",
          "text": [
            "DelowarTamanna\n",
            "\n",
            "<class 'str'>\n",
            "The name isTamanna\n",
            "The name is   Tamanna\n",
            "The name is *** Tamanna\n"
          ]
        }
      ]
    },
    {
      "cell_type": "code",
      "source": [
        "#Boolean data type(True or False)\n",
        "\n",
        "\n",
        "hablu = 'True'\n",
        "habla='False'\n",
        "hablu = True\n",
        "habla=False\n",
        "print(hablu)\n",
        "\n",
        "x=10\n",
        "y=10\n",
        "print(x==y)\n",
        "print(x<y)\n",
        "print(x>=y)\n",
        "print(type(hablu))\n",
        "print(type(y))\n",
        "\n"
      ],
      "metadata": {
        "colab": {
          "base_uri": "https://localhost:8080/"
        },
        "id": "GKPOhEdM3s3m",
        "outputId": "12d34cbe-ec43-424d-9674-a0bbc13ce4ad"
      },
      "execution_count": null,
      "outputs": [
        {
          "output_type": "stream",
          "name": "stdout",
          "text": [
            "True\n",
            "True\n",
            "False\n",
            "True\n",
            "<class 'bool'>\n",
            "<class 'int'>\n"
          ]
        }
      ]
    },
    {
      "cell_type": "code",
      "source": [
        "from os import name\n",
        "#string formating(string er upor opration-,+,....)\n",
        "#keyword f\n",
        "x=10\n",
        "y=22\n",
        "print(\"The super number is {x+y}\")\n",
        "print(f\"The super number is {x+y}\")\n",
        "print(\"The super number is \", x+y)\n",
        "Number_size= 'smaller than'\n",
        "print(f\"The super number is {Number_size}\", x+y)\n",
        "\n",
        "name='Tamanna'\n",
        "roll=1\n",
        "print(f\"My Name is {name} &  My Class roll is {roll}\")\n",
        "print(\"My Name is {name} &  My Class roll is {roll}\")\n",
        "\n",
        "\n"
      ],
      "metadata": {
        "colab": {
          "base_uri": "https://localhost:8080/"
        },
        "id": "oieD_GIjz86g",
        "outputId": "96fc3a96-fe1b-4e13-ee18-03e84fe8815a"
      },
      "execution_count": null,
      "outputs": [
        {
          "output_type": "stream",
          "name": "stdout",
          "text": [
            "The super number is {x+y}\n",
            "The super number is 32\n",
            "The super number is  32\n",
            "The super number is smaller than 32\n",
            "My Name is Tamanna &  My Class roll is 1\n",
            "My Name is {name} &  My Class roll is {roll}\n"
          ]
        }
      ]
    },
    {
      "cell_type": "code",
      "source": [
        "#Binary type data\n",
        "#bytes holo immutable (mane data cgange kora jayna)\n",
        "#bytearray holo mutable, (mane data cgange kora jay)\n",
        "\n",
        "arry1=[1,2,3,4,5,6,7,8,9]\n",
        "\n",
        "p=bytes(arry1)\n",
        "print(type(p))\n",
        "\n",
        "array2=[1,3,4,5,6,7,89,99,88]\n",
        "q=bytearray(array2)\n",
        "\n",
        "\n",
        "print(type(q))\n",
        "\n",
        "q[1]=100\n",
        "print(q[1])\n",
        "\n"
      ],
      "metadata": {
        "colab": {
          "base_uri": "https://localhost:8080/"
        },
        "id": "BecZR0E-bGOn",
        "outputId": "1c0966ff-ab63-416d-c8ed-b95039a2c821"
      },
      "execution_count": null,
      "outputs": [
        {
          "output_type": "stream",
          "name": "stdout",
          "text": [
            "<class 'bytes'>\n",
            "<class 'bytearray'>\n",
            "100\n"
          ]
        }
      ]
    },
    {
      "cell_type": "code",
      "source": [
        "#None type data\n",
        "\n",
        "a=None\n",
        "print(a)\n",
        "print(type(a))"
      ],
      "metadata": {
        "colab": {
          "base_uri": "https://localhost:8080/"
        },
        "id": "eZYfBaxcByaX",
        "outputId": "644002b9-b9ab-4c18-c590-662d6279307d"
      },
      "execution_count": null,
      "outputs": [
        {
          "output_type": "stream",
          "name": "stdout",
          "text": [
            "None\n",
            "<class 'NoneType'>\n"
          ]
        }
      ]
    },
    {
      "cell_type": "code",
      "source": [
        "#Sequence type(list, tuple, range)\n",
        "\n",
        "#tuple holo immutable (mane data cgange kora jayna)\n",
        "#list holo mutable, (mane data cgange kora jay)\n",
        "\n",
        "#list\n",
        "\n",
        "A=[\"tamanna\",'tA',\"tanshin\",\"tanni\",20]\n",
        "print(A)\n",
        "print(type(A))\n",
        "A[0]= \"tannu\"\n",
        "print(A)\n",
        "\n",
        "#tuple\n",
        "\n",
        "B=('delo','vsi',200,30,\"paji\")\n",
        "print(B)\n",
        "print(type(B))\n",
        "# B[2]= \"Delowar\"(cannot asssign or change value in tuple)\n",
        "print(B)\n",
        "\n",
        "\n"
      ],
      "metadata": {
        "colab": {
          "base_uri": "https://localhost:8080/"
        },
        "id": "6qPIwcJEHGUA",
        "outputId": "048d7462-131b-43ef-fe98-2e93ce14c685"
      },
      "execution_count": null,
      "outputs": [
        {
          "output_type": "stream",
          "name": "stdout",
          "text": [
            "['tamanna', 'tA', 'tanshin', 'tanni', 20]\n",
            "<class 'list'>\n",
            "['tannu', 'tA', 'tanshin', 'tanni', 20]\n",
            "('delo', 'vsi', 200, 30, 'paji')\n",
            "<class 'tuple'>\n",
            "('delo', 'vsi', 200, 30, 'paji')\n"
          ]
        }
      ]
    },
    {
      "cell_type": "code",
      "source": [
        "#Range and loop also\n",
        "ran = range(10)\n",
        "for i in ran:\n",
        "  print(i)"
      ],
      "metadata": {
        "colab": {
          "base_uri": "https://localhost:8080/"
        },
        "id": "Tmi4Ms5ISwrD",
        "outputId": "1db2ce01-0656-46ed-fb0b-8feee322f41b"
      },
      "execution_count": null,
      "outputs": [
        {
          "output_type": "stream",
          "name": "stdout",
          "text": [
            "0\n",
            "1\n",
            "2\n",
            "3\n",
            "4\n",
            "5\n",
            "6\n",
            "7\n",
            "8\n",
            "9\n"
          ]
        }
      ]
    },
    {
      "cell_type": "code",
      "source": [
        "M = range(5)\n",
        "for i in M:\n",
        "  print(i)"
      ],
      "metadata": {
        "colab": {
          "base_uri": "https://localhost:8080/"
        },
        "id": "R6-H374qTD4N",
        "outputId": "ee72908a-4c98-4d5e-9c79-0527fdf56c6e"
      },
      "execution_count": null,
      "outputs": [
        {
          "output_type": "stream",
          "name": "stdout",
          "text": [
            "0\n",
            "1\n",
            "2\n",
            "3\n",
            "4\n"
          ]
        }
      ]
    },
    {
      "cell_type": "code",
      "source": [
        "ran = range(6)\n",
        "for i in ran:\n",
        "    print(i)\n"
      ],
      "metadata": {
        "colab": {
          "base_uri": "https://localhost:8080/"
        },
        "id": "jF4LVs_rPRsq",
        "outputId": "514f1011-f62a-4351-da53-8c50bdfc9166"
      },
      "execution_count": null,
      "outputs": [
        {
          "output_type": "stream",
          "name": "stdout",
          "text": [
            "0\n",
            "1\n",
            "2\n",
            "3\n",
            "4\n",
            "5\n"
          ]
        }
      ]
    }
  ]
}