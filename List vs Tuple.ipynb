{
 "cells": [
  {
   "cell_type": "code",
   "execution_count": null,
   "id": "59201316",
   "metadata": {},
   "outputs": [],
   "source": [
    "# List is mutable ,,Tuple is immutable\n",
    "# list is [] mandatory,, Tuple () are optional\n",
    "# List take more space memory,,, Tuple take less space\n",
    "# List can change values,, Tuple is not changeable\n",
    "# List has comphansion concept,,, Tuple has not\n",
    "# List cannot saperate value ,,,Tupple can\n"
   ]
  },
  {
   "cell_type": "code",
   "execution_count": 4,
   "id": "fdefc531",
   "metadata": {},
   "outputs": [
    {
     "name": "stdout",
     "output_type": "stream",
     "text": [
      "136\n",
      "120\n",
      "120\n"
     ]
    }
   ],
   "source": [
    "#memory size check\n",
    "\n",
    "import sys\n",
    "\n",
    "L=[3,\"t\",7,4,6,7,7,43,2,0]\n",
    "T1=(3,\"t\",7,4,6,7,7,43,2,0)  \n",
    "T2=3,\"t\",7,4,6,7,7,43,2,0\n",
    "\n",
    "print(sys.getsizeof(L))\n",
    "print(sys.getsizeof(T1))\n",
    "print(sys.getsizeof(T2))\n",
    "\n",
    "\n"
   ]
  },
  {
   "cell_type": "code",
   "execution_count": 9,
   "id": "40851c70",
   "metadata": {},
   "outputs": [
    {
     "name": "stdout",
     "output_type": "stream",
     "text": [
      "3\n"
     ]
    }
   ],
   "source": [
    "# List cannot saperate value ,,,Tupple can\n",
    "\n",
    "# lis not support: f,y,u,e,s=[3,\"t\",7,4,6,7,7,43,2,0]\n",
    "\n",
    "a,b,c,d=(3,\"t\",7,4)  #Tuple can unpack\n",
    "print(a)\n"
   ]
  },
  {
   "cell_type": "code",
   "execution_count": null,
   "id": "f202e464",
   "metadata": {},
   "outputs": [],
   "source": []
  }
 ],
 "metadata": {
  "kernelspec": {
   "display_name": "Python 3 (ipykernel)",
   "language": "python",
   "name": "python3"
  },
  "language_info": {
   "codemirror_mode": {
    "name": "ipython",
    "version": 3
   },
   "file_extension": ".py",
   "mimetype": "text/x-python",
   "name": "python",
   "nbconvert_exporter": "python",
   "pygments_lexer": "ipython3",
   "version": "3.11.5"
  }
 },
 "nbformat": 4,
 "nbformat_minor": 5
}
