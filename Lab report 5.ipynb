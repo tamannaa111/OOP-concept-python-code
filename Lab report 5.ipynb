{
 "cells": [
  {
   "cell_type": "raw",
   "id": "e3dba8b0",
   "metadata": {},
   "source": [
    "1. Password Validator: Write a Python program that takes a password as input and checks if it\n",
    "meets the following criteria: at least 8 characters long, contains both uppercase and lowercase letters, and has at least one digit. If the password is valid, print “Password accepted.” If not, use `continue` to prompt the user to enter a valid password.\n"
   ]
  },
  {
   "cell_type": "code",
   "execution_count": 1,
   "id": "123b3510",
   "metadata": {},
   "outputs": [
    {
     "name": "stdout",
     "output_type": "stream",
     "text": [
      "Enter password:tt\n",
      "Invalid Password\n"
     ]
    }
   ],
   "source": [
    "   \n",
    "L, U, p, d = 0, 0, 0, 0\n",
    "N=input(\"Enter password:\")\n",
    "if (len(N) >= 8):\n",
    "    for i in N:\n",
    " \n",
    "     \n",
    "        if (i.islower()):\n",
    "            L=L+1           \n",
    " \n",
    "       \n",
    "        if (i.isupper()):\n",
    "            U+=1           \n",
    " \n",
    "    \n",
    "        if (i.isdigit()):\n",
    "            d+=1           \n",
    " \n",
    "        \n",
    "        if(i=='@'or i=='$' or i=='_' or i=='#' or i=='&' or i=='!'):\n",
    "            p+=1          \n",
    "if (L>=1 and U>=1 and p>=1 and d>=1 and L+p+U+d==len(N)):\n",
    "    print(\"Valid Password\")\n",
    "else:\n",
    "    print(\"Invalid Password\")"
   ]
  },
  {
   "cell_type": "markdown",
   "id": "34bf5507",
   "metadata": {},
   "source": [
    "2. Divisible by 3 or 5: Write a Python program to print all numbers from 1 to 50 that are divisible by either 3 or 5. Use a `for` loop and `continue` to skip numbers that are not divisible by either 3 or 5.\n"
   ]
  },
  {
   "cell_type": "code",
   "execution_count": 2,
   "id": "9b9a734e",
   "metadata": {},
   "outputs": [
    {
     "name": "stdout",
     "output_type": "stream",
     "text": [
      "3\n",
      "5\n",
      "6\n",
      "9\n",
      "10\n",
      "12\n",
      "15\n",
      "18\n",
      "20\n",
      "21\n",
      "24\n",
      "25\n",
      "27\n",
      "30\n",
      "33\n",
      "35\n",
      "36\n",
      "39\n",
      "40\n",
      "42\n",
      "45\n",
      "48\n"
     ]
    }
   ],
   "source": [
    "for i in range(1,50):\n",
    "    if i%3==0 or i%5==0:\n",
    "        print(i)\n",
    "        continue"
   ]
  },
  {
   "cell_type": "markdown",
   "id": "93081c37",
   "metadata": {},
   "source": [
    "3. Write a Python program that takes positive numbers as input until a negative number is entered. Then, calculate and print the sum of all positive numbers entered. Use a `while` loop and `break` to exit the loop when a negative number is encountered.\n"
   ]
  },
  {
   "cell_type": "code",
   "execution_count": 3,
   "id": "28494fca",
   "metadata": {},
   "outputs": [
    {
     "name": "stdout",
     "output_type": "stream",
     "text": [
      "Enter the numbers:5\n",
      "Enter the numbers:-9\n",
      "total:  5\n"
     ]
    }
   ],
   "source": [
    "\n",
    "sum=0\n",
    "\n",
    "while True:\n",
    "    n=int(input(\"Enter the numbers:\"))\n",
    "    if n<0:\n",
    "        break\n",
    "    sum=sum+n    \n",
    "print(\"total: \",sum)    "
   ]
  },
  {
   "cell_type": "markdown",
   "id": "375d333a",
   "metadata": {},
   "source": []
  },
  {
   "cell_type": "code",
   "execution_count": 8,
   "id": "89ca8c33",
   "metadata": {},
   "outputs": [
    {
     "data": {
      "text/plain": [
       "'holyday'"
      ]
     },
     "execution_count": 8,
     "metadata": {},
     "output_type": "execute_result"
    }
   ],
   "source": [
    "def check(day):\n",
    "    if day=='friday':\n",
    "        return \"holyday\"\n",
    "    else:\n",
    "        return \"not holyday\"\n",
    "list=[\"friday\",'saturday']\n",
    "list.insert(1,\"sunday\")\n",
    "check(list[0])"
   ]
  },
  {
   "cell_type": "markdown",
   "id": "6c2e1b89",
   "metadata": {},
   "source": [
    "\n",
    "4. Word Palindrome Checker: Write a Python program that takes a word as input and checks if it is a palindrome (reads the same forwards and backward). Use `continue` to skip checking the word if its length is less than 3 characters.\n"
   ]
  },
  {
   "cell_type": "code",
   "execution_count": 9,
   "id": "6526bc93",
   "metadata": {},
   "outputs": [
    {
     "name": "stdout",
     "output_type": "stream",
     "text": [
      "Enter a word: hhrdegh\n",
      "The word is not a palindrome.\n"
     ]
    }
   ],
   "source": [
    "\n",
    "def is_palindrome(word):\n",
    "    return word == word[::-1]\n",
    "\n",
    "\n",
    "word = input(\"Enter a word: \")\n",
    "\n",
    "\n",
    "if len(word) < 3:\n",
    "    print(\"Word length is less than 3 characters. Skipping.\")\n",
    "    \n",
    "    exit()\n",
    "\n",
    "\n",
    "if is_palindrome(word):\n",
    "    print(\"The word is a palindrome.\")\n",
    "else:\n",
    "    print(\"The word is not a palindrome.\")\n"
   ]
  },
  {
   "cell_type": "markdown",
   "id": "6d578c8b",
   "metadata": {},
   "source": [
    "5. Vowel Counter: Write a Python program that takes a string as input and counts the number of vowels (a, e, i, o, u) in it. Use a `for` loop and `continue` to skip counting non-vowel characters."
   ]
  },
  {
   "cell_type": "code",
   "execution_count": 11,
   "id": "b710b018",
   "metadata": {},
   "outputs": [
    {
     "name": "stdout",
     "output_type": "stream",
     "text": [
      "Enter a string: thj\n",
      "Number of vowels in the string: 0\n"
     ]
    }
   ],
   "source": [
    "\n",
    "def vowels(input_string):\n",
    " \n",
    "    vowel = {'a', 'e', 'i', 'o', 'u'}\n",
    "    \n",
    "\n",
    "    count = 0\n",
    "    \n",
    "    \n",
    "    for char in input_string:\n",
    "       \n",
    "        if char.lower() in vowel:\n",
    "\n",
    "            count += 1\n",
    "            continue  \n",
    "        continue\n",
    "    \n",
    "    return count\n",
    "\n",
    "\n",
    "input_string = input(\"Enter a string: \")\n",
    "\n",
    "\n",
    "vowel = vowels(input_string)\n",
    "print(\"Number of vowels in the string:\", vowel)\n"
   ]
  },
  {
   "cell_type": "markdown",
   "id": "9883b40a",
   "metadata": {},
   "source": [
    "\n",
    "6. Unique Characters: Write a Python program that takes a string as input and checks if it contains all unique characters (no character repeats). Use a `for` loop and `break` when a character repeats. 7.Develop a student information system. Students submit their information & the data has been stored. Print the data they are submitting in this information system.\n",
    "Case 1: Allow students to choose which information they want to submit. Case 2: If age is chosen, it should be submitted as a float number.\n",
    "Case 3: Limit all other information to a maximum of 5 characters."
   ]
  },
  {
   "cell_type": "code",
   "execution_count": 13,
   "id": "f9355ba7",
   "metadata": {},
   "outputs": [
    {
     "name": "stdout",
     "output_type": "stream",
     "text": [
      "Enter a string: ghjfdd\n",
      "The string does not contain all unique characters.\n"
     ]
    }
   ],
   "source": [
    "\n",
    "def has_unique_characters(input_string):\n",
    "    seen_characters = set()\n",
    "    for char in input_string:\n",
    "        if char in seen_characters:\n",
    "            return False\n",
    "        seen_characters.add(char)\n",
    "    return True\n",
    "\n",
    "\n",
    "input_string = input(\"Enter a string: \")\n",
    "\n",
    "\n",
    "if has_unique_characters(input_string):\n",
    "    print(\"The string contains all unique characters.\")\n",
    "else:\n",
    "    print(\"The string does not contain all unique characters.\")\n"
   ]
  },
  {
   "cell_type": "code",
   "execution_count": 12,
   "id": "46e0d339",
   "metadata": {},
   "outputs": [
    {
     "name": "stdout",
     "output_type": "stream",
     "text": [
      "Welcome to the Student Information System\n",
      "Choose which information you want to submit (name/age/address): 7\n",
      "Invalid choice. Please choose name, age, or address.\n"
     ]
    }
   ],
   "source": [
    "\n",
    "def submit_information():\n",
    "    print(\"Submit your information:\")\n",
    "    name = input(\"Name (max 5 characters): \")[:5]\n",
    "    age = float(input(\"Age: \"))\n",
    "    address = input(\"Address (max 5 characters): \")[:5]\n",
    "    print(\"Information submitted successfully:\")\n",
    "    print(\"Name:\", name)\n",
    "    print(\"Age:\", age)\n",
    "    print(\"Address:\", address)\n",
    "\n",
    "\n",
    "print(\"Welcome to the Student Information System\")\n",
    "choice = input(\"Choose which information you want to submit (name/age/address): \")\n",
    "\n",
    "if choice == \"name\":\n",
    "    submit_information()\n",
    "elif choice == \"age\":\n",
    "    submit_information()\n",
    "elif choice == \"address\":\n",
    "    submit_information()\n",
    "else:\n",
    "    print(\"Invalid choice. Please choose name, age, or address.\")\n"
   ]
  },
  {
   "cell_type": "markdown",
   "id": "757cc45e",
   "metadata": {},
   "source": [
    "8. There is a grocery shop which takes regular input from customers. After taking items if they want to add or remove items from their bucket list. We have to generate a program in python.\n"
   ]
  },
  {
   "cell_type": "code",
   "execution_count": 14,
   "id": "ac487ba4",
   "metadata": {},
   "outputs": [
    {
     "name": "stdout",
     "output_type": "stream",
     "text": [
      "\n",
      "Welcome to the Grocery Shop!\n",
      "1. Add item to bucket list\n",
      "2. Remove item from bucket list\n",
      "3. View bucket list\n",
      "4. Exit\n",
      "Enter your choice: 1\n",
      "Enter the item to add: tannn\n",
      "tannn added to your bucket list.\n",
      "\n",
      "Welcome to the Grocery Shop!\n",
      "1. Add item to bucket list\n",
      "2. Remove item from bucket list\n",
      "3. View bucket list\n",
      "4. Exit\n",
      "Enter your choice: 2\n",
      "Enter the item to remove: 3\n",
      "3 is not in your bucket list.\n",
      "\n",
      "Welcome to the Grocery Shop!\n",
      "1. Add item to bucket list\n",
      "2. Remove item from bucket list\n",
      "3. View bucket list\n",
      "4. Exit\n",
      "Enter your choice: 4\n",
      "Thank you for shopping with us!\n"
     ]
    }
   ],
   "source": [
    "class GroceryShop:\n",
    "    def __init__(self):\n",
    "        self.bucket_list = []\n",
    "\n",
    "    def add_item(self, item):\n",
    "        self.bucket_list.append(item)\n",
    "        print(f\"{item} added to your bucket list.\")\n",
    "\n",
    "    def remove_item(self, item):\n",
    "        if item in self.bucket_list:\n",
    "            self.bucket_list.remove(item)\n",
    "            print(f\"{item} removed from your bucket list.\")\n",
    "        else:\n",
    "            print(f\"{item} is not in your bucket list.\")\n",
    "\n",
    "    def print_bucket_list(self):\n",
    "        if self.bucket_list:\n",
    "            print(\"Your bucket list:\")\n",
    "            for item in self.bucket_list:\n",
    "                print(\"-\", item)\n",
    "        else:\n",
    "            print(\"Your bucket list is empty.\")\n",
    "\n",
    "\n",
    "def main():\n",
    "    grocery_shop = GroceryShop()\n",
    "\n",
    "    while True:\n",
    "        print(\"\\nWelcome to the Grocery Shop!\")\n",
    "        print(\"1. Add item to bucket list\")\n",
    "        print(\"2. Remove item from bucket list\")\n",
    "        print(\"3. View bucket list\")\n",
    "        print(\"4. Exit\")\n",
    "\n",
    "        choice = input(\"Enter your choice: \")\n",
    "\n",
    "        if choice == '1':\n",
    "            item = input(\"Enter the item to add: \")\n",
    "            grocery_shop.add_item(item)\n",
    "        elif choice == '2':\n",
    "            item = input(\"Enter the item to remove: \")\n",
    "            grocery_shop.remove_item(item)\n",
    "        elif choice == '3':\n",
    "            grocery_shop.print_bucket_list()\n",
    "        elif choice == '4':\n",
    "            print(\"Thank you for shopping with us!\")\n",
    "            break\n",
    "        else:\n",
    "            print(\"Invalid choice. Please enter a valid option.\")\n",
    "\n",
    "\n",
    "if __name__ == \"__main__\":\n",
    "    main()\n"
   ]
  },
  {
   "cell_type": "markdown",
   "id": "8160b790",
   "metadata": {},
   "source": [
    "9. You are given an integer n, representing the size of a list. Next, you receive n strings from the user. Your task is to create a new list containing all the unique characters from these strings. Additionally, sort the characters in lexicographical order.\n",
    "\n",
    "Example:\n",
    "Input:\n",
    "3\n",
    "Zahid Sani Wakif\n",
    "Output: ['S', 'W', 'Z', 'a', 'd', 'f', 'h', 'i', 'k', 'n']"
   ]
  },
  {
   "cell_type": "code",
   "execution_count": 1,
   "id": "0227a470",
   "metadata": {},
   "outputs": [
    {
     "name": "stdout",
     "output_type": "stream",
     "text": [
      "Enter the size of the list: 2\n",
      "Enter string 1: tann\n",
      "Enter string 2: ttttt\n",
      "Output: ['a', 'n', 't']\n"
     ]
    }
   ],
   "source": [
    "\n",
    "n = int(input(\"Enter the size of the list: \"))\n",
    "\n",
    "\n",
    "strings = [input(\"Enter string {}: \".format(i+1)) for i in range(n)]\n",
    "\n",
    "\n",
    "combined_string = ''.join(strings)\n",
    "\n",
    "\n",
    "unique_characters_set = set(combined_string)\n",
    "\n",
    "\n",
    "unique_characters_list = sorted(list(unique_characters_set))\n",
    "\n",
    "\n",
    "print(\"Output:\", unique_characters_list)\n"
   ]
  },
  {
   "cell_type": "code",
   "execution_count": null,
   "id": "aa580f95",
   "metadata": {},
   "outputs": [],
   "source": []
  },
  {
   "cell_type": "markdown",
   "id": "724a131f",
   "metadata": {},
   "source": [
    "10. Mr Rakib to purchase four product items while minimizing cost . He wants to identify the minimum cost of the buying product in the market . SO the four items are Rice , Salt , Fish , Orange .\n"
   ]
  },
  {
   "cell_type": "code",
   "execution_count": 2,
   "id": "8e767220",
   "metadata": {},
   "outputs": [
    {
     "name": "stdout",
     "output_type": "stream",
     "text": [
      "The minimum cost is 20 Taka for purchasing Salt.\n"
     ]
    }
   ],
   "source": [
    "\n",
    "rice_price = 50  \n",
    "salt_price = 20  \n",
    "fish_price = 100  \n",
    "orange_price = 30  \n",
    "\n",
    "min_cost = min(rice_price, salt_price, fish_price, orange_price)\n",
    "\n",
    "if min_cost == rice_price:\n",
    "    min_item = \"Rice\"\n",
    "elif min_cost == salt_price:\n",
    "    min_item = \"Salt\"\n",
    "elif min_cost == fish_price:\n",
    "    min_item = \"Fish\"\n",
    "else:\n",
    "    min_item = \"Orange\"\n",
    "\n",
    "\n",
    "print(\"The minimum cost is {} Taka for purchasing {}.\".format(min_cost, min_item))\n"
   ]
  },
  {
   "cell_type": "markdown",
   "id": "a458907c",
   "metadata": {},
   "source": [
    "11. A university management is going to make a system to generate a unique student e-mail id of newly admitted students. Suppose you are the programmer is said to be generate to make e-mail by taking a list of student’s name. You have to generate e-mail by adding the length of name and also add the ASCII value of first character after the lower case name. If the name exceed 20 character it ignores that name and proceed to the next activity.\n",
    "\n",
    "Input: The first line contain the single integers N - Numbers of students in the list. The second line contains N Strings of names N1,N2,N3,.......N(i).(String must not exceed 20 character. Output: Print the email list according to the scenario. (Lower case name_lenth of name_ascii value of first character)\n"
   ]
  },
  {
   "cell_type": "code",
   "execution_count": 3,
   "id": "bdc0fe50",
   "metadata": {},
   "outputs": [
    {
     "name": "stdout",
     "output_type": "stream",
     "text": [
      "Enter the number of students: 2\n",
      "Enter name 1: tt\n",
      "Enter name 2: yy\n",
      "Email list:\n",
      "tt_2_116\n",
      "yy_2_121\n"
     ]
    }
   ],
   "source": [
    "\n",
    "N = int(input(\"Enter the number of students: \"))\n",
    "\n",
    "\n",
    "names = [input(\"Enter name {}: \".format(i+1)) for i in range(N)]\n",
    "\n",
    "\n",
    "email_list = []\n",
    "for name in names:\n",
    "    \n",
    "    if len(name) > 20:\n",
    "        continue\n",
    "    \n",
    "   \n",
    "    lowercase_name = name.lower()\n",
    "    name_length = len(name)\n",
    "    ascii_value = ord(name[0])\n",
    "    email = lowercase_name + \"_\" + str(name_length) + \"_\" + str(ascii_value)\n",
    "    email_list.append(email)\n",
    "\n",
    "\n",
    "print(\"Email list:\")\n",
    "for email in email_list:\n",
    "    print(email)\n"
   ]
  },
  {
   "cell_type": "markdown",
   "id": "1612664e",
   "metadata": {},
   "source": [
    "12. Design a Python function that compresses a given string by replacing repeated characters with the number of repetitions followed by the character itself. It takes input from users of how many string users want to input, maximum length of string and show output of compressed string.\n"
   ]
  },
  {
   "cell_type": "code",
   "execution_count": 1,
   "id": "38935f66",
   "metadata": {},
   "outputs": [
    {
     "name": "stdout",
     "output_type": "stream",
     "text": [
      "Enter the number of strings you want to input: 2\n",
      "Enter the maximum length of each string: 5\n",
      "Enter string 1: yfhkj\n",
      "Enter string 2: rhjjj\n",
      "\n",
      "Compressed strings:\n",
      "yfhkj => 1y1f1h1k1j\n",
      "rhjjj => 1r1h3j\n"
     ]
    }
   ],
   "source": [
    "def compress_string(string):\n",
    "    compressed_string = \"\"\n",
    "    count = 1\n",
    "    for i in range(1, len(string)):\n",
    "        if string[i] == string[i - 1]:\n",
    "            count += 1\n",
    "        else:\n",
    "            compressed_string += str(count) + string[i - 1]\n",
    "            count = 1\n",
    "    compressed_string += str(count) + string[-1]  \n",
    "    return compressed_string\n",
    "\n",
    "def main():\n",
    "  \n",
    "    num_strings = int(input(\"Enter the number of strings you want to input: \"))\n",
    "    max_length = int(input(\"Enter the maximum length of each string: \"))\n",
    "\n",
    "   \n",
    "    strings = []\n",
    "    for i in range(num_strings):\n",
    "        string = input(f\"Enter string {i+1}: \")[:max_length] \n",
    "        strings.append(string)\n",
    "\n",
    "    \n",
    "    print(\"\\nCompressed strings:\")\n",
    "    for string in strings:\n",
    "        compressed = compress_string(string)\n",
    "        print(f\"{string} => {compressed}\")\n",
    "\n",
    "if __name__ == \"__main__\":\n",
    "    main()\n"
   ]
  },
  {
   "cell_type": "code",
   "execution_count": null,
   "id": "2225c622",
   "metadata": {},
   "outputs": [],
   "source": []
  },
  {
   "cell_type": "code",
   "execution_count": null,
   "id": "dda5ee35",
   "metadata": {},
   "outputs": [],
   "source": []
  }
 ],
 "metadata": {
  "kernelspec": {
   "display_name": "Python 3 (ipykernel)",
   "language": "python",
   "name": "python3"
  },
  "language_info": {
   "codemirror_mode": {
    "name": "ipython",
    "version": 3
   },
   "file_extension": ".py",
   "mimetype": "text/x-python",
   "name": "python",
   "nbconvert_exporter": "python",
   "pygments_lexer": "ipython3",
   "version": "3.11.5"
  }
 },
 "nbformat": 4,
 "nbformat_minor": 5
}
