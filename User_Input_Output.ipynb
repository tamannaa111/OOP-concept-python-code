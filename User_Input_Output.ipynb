{
  "nbformat": 4,
  "nbformat_minor": 0,
  "metadata": {
    "colab": {
      "provenance": []
    },
    "kernelspec": {
      "name": "python3",
      "display_name": "Python 3"
    },
    "language_info": {
      "name": "python"
    }
  },
  "cells": [
    {
      "cell_type": "code",
      "execution_count": null,
      "metadata": {
        "colab": {
          "base_uri": "https://localhost:8080/"
        },
        "id": "zObV45MwgUHx",
        "outputId": "d90e2d3a-8d7b-413c-8574-5e25ed11cd61"
      },
      "outputs": [
        {
          "output_type": "stream",
          "name": "stdout",
          "text": [
            "Tamanna\n",
            "9933\n",
            "Tamanna\n",
            "9933\n",
            "Enter your Username:Tamanna\n",
            "Tamanna\n",
            "Enter the password:03884\n",
            "03884\n"
          ]
        }
      ],
      "source": [
        "#User input\n",
        "\n",
        "\n",
        "Username = input()\n",
        "\n",
        "Password = input()\n",
        "print(Username)\n",
        "print(Password)\n",
        "\n",
        "\n",
        "Username = input(\"Enter your Username:\")\n",
        "print(Username)\n",
        "Password = input(\"Enter the password:\")\n",
        "print(Password)\n",
        "\n",
        "\n"
      ]
    },
    {
      "cell_type": "code",
      "source": [
        "X = int(input())\n",
        "Y = int(input())\n",
        "\n",
        "print(\"X =\",X+Y)\n"
      ],
      "metadata": {
        "colab": {
          "base_uri": "https://localhost:8080/"
        },
        "id": "H9knvG30b-2w",
        "outputId": "504c8574-2a72-4063-fc22-94b8dec5b5c4"
      },
      "execution_count": null,
      "outputs": [
        {
          "output_type": "stream",
          "name": "stdout",
          "text": [
            "4\n",
            "5\n",
            "X = 9\n"
          ]
        }
      ]
    },
    {
      "cell_type": "code",
      "source": [
        "#To take User input normally , which is always string\n",
        "\n",
        "Num1=input()\n",
        "print(Num1)\n",
        "print(type(Num1))"
      ],
      "metadata": {
        "colab": {
          "base_uri": "https://localhost:8080/"
        },
        "id": "OFTfeZCHly9L",
        "outputId": "5940075f-e11b-4527-f6fe-f196401b7ea3"
      },
      "execution_count": null,
      "outputs": [
        {
          "output_type": "stream",
          "name": "stdout",
          "text": [
            "456578\n",
            "456578\n",
            "<class 'str'>\n"
          ]
        }
      ]
    },
    {
      "cell_type": "code",
      "source": [
        "#Take uder input from user diff data type\n",
        "\n",
        "Num =  (input())\n",
        "print(Num)\n",
        "print(type(Num))\n",
        "\n",
        "Num2=str(input())\n",
        "print(Num2)\n",
        "print(type(Num2))\n",
        "\n",
        "Num3=float(input())\n",
        "print(Num3)\n",
        "print(type(Num3))\n",
        "\n",
        "Num=int(input())\n",
        "print(Num)\n",
        "print(type(Num))"
      ],
      "metadata": {
        "colab": {
          "base_uri": "https://localhost:8080/"
        },
        "id": "5rNjrFHOmiGO",
        "outputId": "9f88fe0c-b88f-47fb-ba18-8eefe8588a1a"
      },
      "execution_count": null,
      "outputs": [
        {
          "output_type": "stream",
          "name": "stdout",
          "text": [
            "5\n",
            "5\n",
            "<class 'int'>\n",
            "Taamanna \n",
            "Taamanna \n",
            "<class 'str'>\n",
            "6.44\n",
            "6.44\n",
            "<class 'int'>\n",
            "33\n",
            "33\n",
            "<class 'int'>\n"
          ]
        }
      ]
    },
    {
      "cell_type": "code",
      "source": [
        "#User frindly\n",
        "\n",
        "Num=int(input(\"Enter your Name:\"))\n",
        "Num1=int(input(\"Enter your Name:\"))\n",
        "C=Num+Num1\n",
        "\n",
        "print(\"Sum is\",C)\n",
        "\n",
        "print(Num)\n",
        "print(type(Num))"
      ],
      "metadata": {
        "id": "OikdJSGXnsRI"
      },
      "execution_count": null,
      "outputs": []
    },
    {
      "cell_type": "code",
      "source": [
        "#Multiple Input From User,,,,Takes String as input\n",
        "\n",
        "a,b= input(\"Enter two values :\").split()\n",
        "print(a,b)\n",
        "print(type(a))\n",
        "print(type(b))\n",
        "\n"
      ],
      "metadata": {
        "id": "nFX6DWZpn914"
      },
      "execution_count": null,
      "outputs": []
    },
    {
      "cell_type": "code",
      "source": [
        "#Multiple input ,,,,, Takes diff data type\n",
        "\n",
        "A,B= map(int,input(\"Enter the values :\").split())\n",
        "print(A,B)\n",
        "print(type(A))\n",
        "print(type(B))\n",
        "\n",
        "A,B= map(str,input(\"Enter the values :\").split())\n",
        "print(A,B)\n",
        "print(type(A))\n",
        "print(type(B))"
      ],
      "metadata": {
        "colab": {
          "base_uri": "https://localhost:8080/"
        },
        "id": "wixJhi6GpI-2",
        "outputId": "1e4e060d-f36c-4a64-8be8-4eb4a67d9131"
      },
      "execution_count": null,
      "outputs": [
        {
          "output_type": "stream",
          "name": "stdout",
          "text": [
            "Enter the values :4 5 \n",
            "4 5\n",
            "<class 'int'>\n",
            "<class 'int'>\n",
            "Enter the values :Tamanna Tanshin\n",
            "Tamanna Tanshin\n",
            "<class 'str'>\n",
            "<class 'str'>\n"
          ]
        }
      ]
    },
    {
      "cell_type": "code",
      "source": [
        "#Different way of printing\n",
        "\n",
        "a=10.4\n",
        "b=20\n",
        "print(\"The sum of\",a,\"and\",b,\"is\",a+b)\n",
        "print(\"the sum of %f and %d is %d\"%(a,b,a+b))\n",
        "print(\"The sum of {0} and {1} is {2}\".format(a,b,a+b))\n",
        "\n"
      ],
      "metadata": {
        "colab": {
          "base_uri": "https://localhost:8080/"
        },
        "id": "lP6XpttpqrvR",
        "outputId": "d18c86dc-09fc-4611-97b7-34bffc692725"
      },
      "execution_count": null,
      "outputs": [
        {
          "output_type": "stream",
          "name": "stdout",
          "text": [
            "The sum of 10.4 and 20 is 30.4\n",
            "the sum of 10.400000 and 20 is 30\n",
            "The sum of 10.4 and 20 is 30.4\n"
          ]
        }
      ]
    },
    {
      "cell_type": "code",
      "source": [
        "#Multiple input output\n",
        "\n",
        "A=52.56\n",
        "B=71.94\n",
        "c=B/A\n",
        "print(c)\n",
        "print(\"%f\"%c)\n",
        "print(\"%.3f\"%c)\n",
        "A=10\n",
        "B=20\n",
        "print(A)\n",
        "print(B)\n",
        "print(A, end='')\n",
        "print(B)\n",
        "\n",
        "\n"
      ],
      "metadata": {
        "colab": {
          "base_uri": "https://localhost:8080/"
        },
        "id": "dS_iEv6es0xy",
        "outputId": "95e77c60-4f31-4fb5-8dc7-1146d09f5910"
      },
      "execution_count": null,
      "outputs": [
        {
          "output_type": "stream",
          "name": "stdout",
          "text": [
            "1.3687214611872145\n",
            "1.368721\n",
            "1.369\n",
            "10\n",
            "20\n",
            "1020\n"
          ]
        }
      ]
    },
    {
      "cell_type": "code",
      "source": [
        "A=71.3\n",
        "B=25.44\n",
        "C= A/B\n",
        "print(C)\n",
        "print(\"%f\"%C)\n",
        "print(\"%.0f\"%C)"
      ],
      "metadata": {
        "colab": {
          "base_uri": "https://localhost:8080/"
        },
        "id": "XnZDO-nXpwI8",
        "outputId": "671b2020-76f6-46f6-bd67-a9711b1630ca"
      },
      "execution_count": null,
      "outputs": [
        {
          "output_type": "stream",
          "name": "stdout",
          "text": [
            "2.8026729559748427\n",
            "2.802673\n",
            "3\n"
          ]
        }
      ]
    }
  ]
}