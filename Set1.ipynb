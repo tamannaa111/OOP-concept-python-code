{
 "cells": [
  {
   "cell_type": "code",
   "execution_count": 7,
   "id": "660565ef",
   "metadata": {},
   "outputs": [
    {
     "name": "stdout",
     "output_type": "stream",
     "text": [
      "{'Tanshin', 3, 4, 5, 'tamanna'}\n",
      "{'Tanshin', 5, 6, 8, 'Tamanna'}\n"
     ]
    }
   ],
   "source": [
    "#create set\n",
    "\n",
    "Album1:{\"tamanna\",\"Tanshin\",3,4,5}\n",
    "print(Album1)    \n",
    "Album2={\"Tamanna\",\"Tanshin\",8,5,5,6}\n",
    "print(Album2)\n",
    "\n"
   ]
  },
  {
   "cell_type": "code",
   "execution_count": 9,
   "id": "5bb7d39d",
   "metadata": {},
   "outputs": [
    {
     "name": "stdout",
     "output_type": "stream",
     "text": [
      "{'Tanshin', 3, 4, 5, 'tamanna', 'Love'}\n"
     ]
    }
   ],
   "source": [
    "#Add into set\n",
    "\n",
    "Album1.add(\"Love\")\n",
    "print(Album1)"
   ]
  },
  {
   "cell_type": "code",
   "execution_count": 10,
   "id": "f6ef4549",
   "metadata": {},
   "outputs": [
    {
     "name": "stdout",
     "output_type": "stream",
     "text": [
      "{'Tanshin', 4, 5, 'tamanna', 'Love'}\n"
     ]
    }
   ],
   "source": [
    "#Remove into set\n",
    "\n",
    "Album1.remove(3)\n",
    "print(Album1)"
   ]
  },
  {
   "cell_type": "code",
   "execution_count": 11,
   "id": "0a41c896",
   "metadata": {},
   "outputs": [
    {
     "data": {
      "text/plain": [
       "{5, 'Tanshin'}"
      ]
     },
     "execution_count": 11,
     "metadata": {},
     "output_type": "execute_result"
    }
   ],
   "source": [
    "#Intersection find\n",
    "\n",
    "Album1 & Album2\n"
   ]
  },
  {
   "cell_type": "code",
   "execution_count": 12,
   "id": "27d459c3",
   "metadata": {},
   "outputs": [
    {
     "data": {
      "text/plain": [
       "{4, 5, 6, 8, 'Love', 'Tamanna', 'Tanshin', 'tamanna'}"
      ]
     },
     "execution_count": 12,
     "metadata": {},
     "output_type": "execute_result"
    }
   ],
   "source": [
    "#Union Find\n",
    "\n",
    "Album1.union(Album2)"
   ]
  },
  {
   "cell_type": "code",
   "execution_count": 13,
   "id": "674113e5",
   "metadata": {},
   "outputs": [
    {
     "data": {
      "text/plain": [
       "False"
      ]
     },
     "execution_count": 13,
     "metadata": {},
     "output_type": "execute_result"
    }
   ],
   "source": [
    "#Subset or not\n",
    "\n",
    "Album2.issubset(Album1)"
   ]
  },
  {
   "cell_type": "code",
   "execution_count": 14,
   "id": "bdd1d275",
   "metadata": {},
   "outputs": [],
   "source": [
    "dict_name = {} #Creates an empty dictionary\n",
    "person = { \"name\": \"John\",  \"age\": 30, \"city\": \"New York\"}"
   ]
  },
  {
   "cell_type": "code",
   "execution_count": null,
   "id": "742be142",
   "metadata": {},
   "outputs": [],
   "source": []
  }
 ],
 "metadata": {
  "kernelspec": {
   "display_name": "Python 3 (ipykernel)",
   "language": "python",
   "name": "python3"
  },
  "language_info": {
   "codemirror_mode": {
    "name": "ipython",
    "version": 3
   },
   "file_extension": ".py",
   "mimetype": "text/x-python",
   "name": "python",
   "nbconvert_exporter": "python",
   "pygments_lexer": "ipython3",
   "version": "3.11.5"
  }
 },
 "nbformat": 4,
 "nbformat_minor": 5
}
