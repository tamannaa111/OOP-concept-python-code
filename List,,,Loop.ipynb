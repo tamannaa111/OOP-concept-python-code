{
 "cells": [
  {
   "cell_type": "markdown",
   "id": "0eb65250",
   "metadata": {},
   "source": [
    "Listintt = [23,4,5,5,6,7]\n",
    "print(Listintt)"
   ]
  },
  {
   "cell_type": "code",
   "execution_count": null,
   "id": "19bf9df7",
   "metadata": {},
   "outputs": [],
   "source": [
    "Listintt[0]=10\n",
    "print(Listintt[0])"
   ]
  },
  {
   "cell_type": "code",
   "execution_count": null,
   "id": "31672159",
   "metadata": {},
   "outputs": [],
   "source": [
    "StringList=[\"Tamanna\",\"Tanshin\",\"Dudu\",\"BuBu\",88,384]\n",
    "print(StringList)"
   ]
  },
  {
   "cell_type": "markdown",
   "id": "db3c034c",
   "metadata": {},
   "source": [
    "list[True,False,True]\n",
    "print(list)"
   ]
  },
  {
   "cell_type": "markdown",
   "id": "984ca559",
   "metadata": {},
   "source": [
    "print(\"Tamanna Akter\")"
   ]
  },
  {
   "cell_type": "markdown",
   "id": "5b90ecd8",
   "metadata": {},
   "source": [
    "#  ADD\n",
    "\n",
    "\n",
    "# append() diye sudhu last e add kora jabe\n",
    "\n",
    "A=[3,4,5,5,6,\"Tamanna\"]\n",
    "A.append(\"Tanshin\")\n",
    "print(A)\n"
   ]
  },
  {
   "cell_type": "markdown",
   "id": "7ce9ad94",
   "metadata": {},
   "source": [
    "# insert() diye jekono jaygay insert kora jabe\n",
    "A=[4,5,\"T\",38]\n",
    "A.insert(0,\"Love\")\n",
    "print(A)"
   ]
  },
  {
   "cell_type": "markdown",
   "id": "602d75a8",
   "metadata": {},
   "source": [
    "# Delete\n",
    "\n",
    "# Delete by remove() ,,,,, sorasori bole dite hobe kake remove korbo\n",
    "\n",
    "B=[2,4 ,6 ,6,\"Tam\",\"thshd\"]\n",
    "\n",
    "B.remove(6)\n",
    "B.remove(\"thshd\")\n",
    "print(B)"
   ]
  },
  {
   "cell_type": "markdown",
   "id": "1e2caa4d",
   "metadata": {},
   "source": [
    "# Delete by pop(),,,,,,,,Index number diye jekonota remove kora jabe\n",
    "\n",
    "C=[98,53,5,6,3,6,7,2]\n",
    "C.pop(4)\n",
    "C.pop(1)\n",
    "C.pop(0)\n",
    "\n",
    "#pop() eivabe rakhle last element delete korbe\n",
    "\n",
    "C.pop()\n",
    "print(C)"
   ]
  },
  {
   "cell_type": "markdown",
   "id": "7f045e59",
   "metadata": {},
   "source": [
    "# Delete by del() ,,,,,,,,Index number diye jekonota remove kora jabe\n",
    "\n",
    "D=[7,4,5,\"Tamana\",6,3,5,3]\n",
    "del D[3]\n",
    "print(D)"
   ]
  },
  {
   "cell_type": "markdown",
   "id": "2aa963dd",
   "metadata": {},
   "source": [
    "# Delete by clear(),,,,,,,,Index shob eksathe delete hobe\n",
    "\n",
    "W=[3,23,4,5,6,6,4,2,3,22,4,4,3,4,3,2]\n",
    "print(\"List is\",W)\n",
    "\n",
    "W.clear()\n",
    "print(\"Lis is\", W)"
   ]
  },
  {
   "cell_type": "markdown",
   "id": "613091a2",
   "metadata": {},
   "source": [
    "## For loop\n",
    "\n",
    "List=['tamanna','Tanshin','Shanri','binota']\n",
    "\n",
    "for love in List:\n",
    "   \n",
    "    print(\"\\n\",love)\n",
    "   \n",
    "print(\"\\n\",List)    "
   ]
  },
  {
   "cell_type": "markdown",
   "id": "52689c26",
   "metadata": {},
   "source": [
    "## For loop\n",
    "\n",
    "List=['tamanna','Tanshin','Shanri','binota']\n",
    "\n",
    "for love in List:\n",
    "   \n",
    "    print(List)\n",
    "   \n",
    "print(\"\\n\",List)    "
   ]
  },
  {
   "cell_type": "markdown",
   "id": "765d8c1e",
   "metadata": {},
   "source": [
    "### Range\n",
    "\n",
    "A=[3,4,5,6,78,9,0]\n",
    "for x in range(len(A)):\n",
    "    print(A)\n"
   ]
  },
  {
   "cell_type": "markdown",
   "id": "1b6a46e0",
   "metadata": {},
   "source": [
    "### Range,,,,,Index print korbe\n",
    "\n",
    "A=[3,4,5,6,78,9,0]\n",
    "for x in range(len(A)):\n",
    "    print(x)\n",
    "\n"
   ]
  },
  {
   "cell_type": "markdown",
   "id": "5ab48cb7",
   "metadata": {},
   "source": [
    "## while loop ,,,, \n",
    "\n",
    "A=[3,5,7,8,9,0]\n",
    "y=0\n",
    "while y < len(A):\n",
    "    print(A[y])\n",
    "    y=y+1\n"
   ]
  },
  {
   "cell_type": "markdown",
   "id": "7b7ca9e7",
   "metadata": {},
   "source": [
    "## while loop ,,,, \n",
    "\n",
    "A=[3,5,7,8,9,0]\n",
    "y=0\n",
    "while y < 4:\n",
    "    print(A[y])\n",
    "    y=y+1\n",
    "\n"
   ]
  },
  {
   "cell_type": "markdown",
   "id": "eab71304",
   "metadata": {},
   "source": [
    "## while loop ,,,, infinity loop,,,jokhn increment na korbo\n",
    "\n",
    "A=[3,5,7,8,9,0]\n",
    "y=0\n",
    "while y < len(A):\n",
    "    print(A[y])\n",
    "    \n",
    "\n"
   ]
  },
  {
   "cell_type": "code",
   "execution_count": null,
   "id": "7823a8aa",
   "metadata": {},
   "outputs": [],
   "source": [
    "##Range\n",
    "\n",
    "for i in range(6):\n",
    "    print(i)"
   ]
  },
  {
   "cell_type": "code",
   "execution_count": null,
   "id": "44279caf",
   "metadata": {},
   "outputs": [],
   "source": [
    "for i in range(6,1,-2):\n",
    "    print(i)\n",
    "    "
   ]
  },
  {
   "cell_type": "code",
   "execution_count": null,
   "id": "05b71216",
   "metadata": {},
   "outputs": [],
   "source": [
    "for i in range(1,6,2):\n",
    "    print(i)"
   ]
  },
  {
   "cell_type": "code",
   "execution_count": null,
   "id": "6f851e24",
   "metadata": {},
   "outputs": [],
   "source": [
    "n=10\n",
    "for i in range(n):\n",
    "    print(i)"
   ]
  },
  {
   "cell_type": "code",
   "execution_count": null,
   "id": "961c26d5",
   "metadata": {},
   "outputs": [],
   "source": [
    "n =10\n",
    "for i in range(n):\n",
    "    print(n)"
   ]
  },
  {
   "cell_type": "code",
   "execution_count": null,
   "id": "ba1dca0b",
   "metadata": {},
   "outputs": [],
   "source": [
    "n=int(input(\"Enter a value:\"))\n",
    "for i in range(n):\n",
    "    print(i)"
   ]
  },
  {
   "cell_type": "code",
   "execution_count": null,
   "id": "6891efb1",
   "metadata": {},
   "outputs": [],
   "source": [
    "name='Tamanna'\n",
    "\n",
    "for i in name:\n",
    "    \n",
    "    print(i,end=\"\")"
   ]
  },
  {
   "cell_type": "code",
   "execution_count": null,
   "id": "04c10afc",
   "metadata": {},
   "outputs": [],
   "source": [
    "name='Tamanna'\n",
    "\n",
    "for i in name:\n",
    "    print(i)"
   ]
  },
  {
   "cell_type": "code",
   "execution_count": null,
   "id": "e1c89993",
   "metadata": {},
   "outputs": [],
   "source": [
    "name=\"Tamanna Akter\"\n",
    "for i in name:\n",
    "    print(name)"
   ]
  },
  {
   "cell_type": "markdown",
   "id": "cb1bd070",
   "metadata": {},
   "source": [
    "# list,,,,,\n",
    "\n",
    "\n",
    "Student_info=[\"Tamanna\",221,\"CSE\"]\n",
    "Students_ID=[100,222,[\"Tamanna\",221,\"CSE\"]]\n",
    "print(len(Student_info))\n",
    "\n",
    "\n",
    " \n"
   ]
  },
  {
   "cell_type": "markdown",
   "id": "4252ae51",
   "metadata": {},
   "source": [
    "# Add append\n",
    "\n",
    "list=[] #Empty list\n",
    "list.append(\"Tamanna\")\n",
    "list.append(\"Tanshin\")\n",
    "print(list)"
   ]
  },
  {
   "cell_type": "markdown",
   "id": "3cf908be",
   "metadata": {},
   "source": [
    "# Add insert\n",
    "\n",
    "List = [477,\"Tamanna\",\"TAnsjkd\",668]\n",
    "List.insert(2,\"Tanshin\")\n",
    "print(List)\n",
    "List.insert(5,\"Dudu\")\n",
    "print(List)\n",
    "List.insert(4,\"Bubu\")\n",
    "print(List)\n",
    "\n",
    "# Delete pop function\n",
    "\n",
    "List.pop(3)\n",
    "print(List)"
   ]
  },
  {
   "cell_type": "markdown",
   "id": "f7c34eac",
   "metadata": {},
   "source": [
    "# Index number  ber kora\n",
    "\n",
    "List=[3,5,6,783,32,23,4]\n",
    "List.index(6)\n",
    "print(List.index(3))\n",
    "\n"
   ]
  },
  {
   "cell_type": "markdown",
   "id": "e7e69caf",
   "metadata": {},
   "source": [
    "# Reverse Function Ultay deowa\n",
    "\n",
    "List=[1,23.4,6.7,8,5,4]\n",
    "List.pop(3)\n",
    "print(List)\n",
    "List.reverse()\n",
    "print(List)\n",
    "\n"
   ]
  },
  {
   "cell_type": "markdown",
   "id": "bd251509",
   "metadata": {},
   "source": [
    "# Sorting list\n",
    "\n",
    "List=[\"n1\",\"n3\",\"n2\",\"n7\"]\n",
    "List.sort()\n",
    "print(List)\n",
    "\n",
    "List=[\"Tamanna\",\"Akbor\",\"n1\",\"n3\",\"Nipa\",\"Babi\",\"n2\",\"n7\"]\n",
    "List.sort()\n",
    "print(List)"
   ]
  },
  {
   "cell_type": "markdown",
   "id": "9012516f",
   "metadata": {},
   "source": [
    "# ### Range\n",
    "\n",
    "A=[3,4,5,6,78,9,0]\n",
    "for x in range(len(A)):\n",
    "    print(A)\n",
    "\n",
    "\n",
    "### Range,,,,,Index print korbe\n",
    "\n",
    "A=[3,4,5,6,78,9,0]\n",
    "for x in range(len(A)):\n",
    "    print(x)\n",
    "\n",
    "\n",
    "\n",
    "## while loop ,,,, \n",
    "\n",
    "A=[3,5,7,8,9,0]\n",
    "y=0\n",
    "while y < len(A):\n",
    "    print(A[y])\n",
    "    y=y+1\n",
    "\n",
    "\n",
    "## while loop ,,,, \n",
    "\n",
    "A=[3,5,7,8,9,0]\n",
    "y=0\n",
    "while y < 4:\n",
    "    print(A[y])\n",
    "    y=y+1\n",
    "\n",
    "\n",
    "\n",
    "## while loop ,,,, infinity loop,,,jokhn increment na korbo\n",
    "\n",
    "A=[3,5,7,8,9,0]\n",
    "y=0\n",
    "while y < len(A):\n",
    "    print(A[y])\n",
    "    \n",
    "\n",
    "\n",
    "\n",
    "for i in range(6):\n",
    "    print(i)\n",
    "\n",
    "for i in range(6,1,-2):\n",
    "    print(i)\n",
    "    \n",
    "\n",
    "for i in range(1,6,2):\n",
    "    print(i)\n",
    "\n",
    "n=10\n",
    "for i in range(n):\n",
    "    print(i)\n",
    "\n",
    "n =10\n",
    "for i in range(n):\n",
    "    print(n)\n",
    "\n",
    "n=int(input(\"Enter a value:\"))\n",
    "for i in range(n):\n",
    "    print(i)\n",
    "\n",
    "name='Tamanna'\n",
    "\n",
    "for i in name:\n",
    "    \n",
    "    print(i,end=\"\")\n",
    "\n",
    "name='Tamanna'\n",
    "\n",
    "for i in name:\n",
    "    print(i)\n",
    "\n",
    "name=\"Tamanna Akter\"\n",
    "for i in name:\n",
    "    print(name)\n",
    "\n",
    "#list,,,,,\n",
    "\n",
    "\n",
    "Student_info=[\"Tamanna\",221,\"CSE\"]\n",
    "Students_ID=[100,222,[\"Tamanna\",221,\"CSE\"]]\n",
    "print(len(Student_info))\n",
    "\n",
    "\n",
    " \n",
    "\n",
    "\n",
    "#Add append\n",
    "\n",
    "list=[] #Empty list\n",
    "list.append(\"Tamanna\")\n",
    "list.append(\"Tanshin\")\n",
    "print(list)\n",
    "\n",
    "#Add insert\n",
    "\n",
    "List = [477,\"Tamanna\",\"TAnsjkd\",668]\n",
    "List.insert(2,\"Tanshin\")\n",
    "print(List)\n",
    "List.insert(5,\"Dudu\")\n",
    "print(List)\n",
    "List.insert(4,\"Bubu\")\n",
    "print(List)\n",
    "\n",
    "# Delete pop function\n",
    "\n",
    "List.pop(3)\n",
    "print(List)\n",
    "\n",
    "# Index number  ber kora\n",
    "\n",
    "List=[3,5,6,783,32,23,4]\n",
    "List.index(6)\n",
    "print(List.index(3))\n",
    "\n",
    "\n",
    "\n",
    "#Reverse Function Ultay deowa\n",
    "\n",
    "List=[1,23.4,6.7,8,5,4]\n",
    "List.pop(3)\n",
    "print(List)\n",
    "List.reverse()\n",
    "print(List)\n",
    "\n",
    "\n",
    "\n",
    "#Sorting list\n",
    "\n",
    "List=[\"n1\",\"n3\",\"n2\",\"n7\"]\n",
    "List.sort()\n",
    "print(List)\n",
    "\n",
    "List=[\"Tamanna\",\"Akbor\",\"n1\",\"n3\",\"Nipa\",\"Babi\",\"n2\",\"n7\"]\n",
    "List.sort()\n",
    "print(List)\n",
    "\n"
   ]
  },
  {
   "cell_type": "markdown",
   "id": "a567fe37",
   "metadata": {},
   "source": [
    "# Extend method,,,,,2 ta list add kora \n",
    "\n",
    "List1=[2,34,5,6,6]\n",
    "List2=[4,56,7,7,3,2]\n",
    "List3=[3.2,3,4,55,5]\n",
    "       \n",
    "List1.extend(List2)\n",
    "\n",
    "print(List1) \n",
    "List3.clear()\n",
    "print(\"List is empty:\",List3)"
   ]
  },
  {
   "cell_type": "markdown",
   "id": "97f76cc7",
   "metadata": {},
   "source": [
    "# count (ekta perticular value ekta list e koto bar ache)\n",
    "List=[2,2,34,5,6,6]\n",
    "print(List.count(2))\n",
    "\n",
    "\n"
   ]
  },
  {
   "cell_type": "markdown",
   "id": "41fd74f5",
   "metadata": {},
   "source": [
    "# Nested list\n",
    "\n",
    "Student=[\"Tamanna\",\"Tanshin\"]\n",
    "Id=[11,2,2,3,4,Student]\n",
    "print(Id)"
   ]
  },
  {
   "cell_type": "code",
   "execution_count": null,
   "id": "6f2cdd2f",
   "metadata": {},
   "outputs": [],
   "source": [
    "Student_Info=[\"Tamanna\",\"Tanana\",\"Tanshin\"]\n",
    "x=int(input(\"Enter the value:\"))\n",
    "Student_Info.append(x)\n",
    "print(Student_Info)\n",
    "\n",
    "\n"
   ]
  },
  {
   "cell_type": "code",
   "execution_count": null,
   "id": "1d8c9285",
   "metadata": {},
   "outputs": [],
   "source": [
    "Student_Info=[\"Tamanna\",\"Tanana\",\"Tanshin\"]\n",
    "i=0\n",
    "while i<5:\n",
    "    x=int(input(\"Enter the value:\"))\n",
    "    i=i+1\n",
    "    Student_Info.append(x)\n",
    "    print(Student_Info)\n",
    "\n",
    "\n",
    "\n"
   ]
  },
  {
   "cell_type": "markdown",
   "id": "1a8319a6",
   "metadata": {},
   "source": [
    "\n",
    "\n",
    "Student_Info=[\"Tamanna\",\"Tanana\",\"Tanshin\"]\n",
    "\n",
    "\n",
    "for i in range(n):\n",
    "    x=int(input(\"Enter the value:\"))\n",
    "    Student_Info.append(x)\n",
    "    print(Student_Info)\n",
    "\n",
    "\n",
    "\n"
   ]
  },
  {
   "cell_type": "code",
   "execution_count": 7,
   "id": "61ecfd15",
   "metadata": {},
   "outputs": [
    {
     "name": "stdout",
     "output_type": "stream",
     "text": [
      "Enter the value:2\n",
      "['Tamanna', 'Tanana', 'Tanshin', 2]\n",
      "Enter the value:3\n",
      "['Tamanna', 'Tanana', 'Tanshin', 2, 3]\n",
      "Enter the value:4\n",
      "['Tamanna', 'Tanana', 'Tanshin', 2, 3, 4]\n",
      "Enter the value:5\n",
      "['Tamanna', 'Tanana', 'Tanshin', 2, 3, 4, 5]\n",
      "Enter the value:6\n",
      "['Tamanna', 'Tanana', 'Tanshin', 2, 3, 4, 5, 6]\n",
      "Enter the value:6\n",
      "['Tamanna', 'Tanana', 'Tanshin', 2, 3, 4, 5, 6, 6]\n"
     ]
    }
   ],
   "source": [
    "Student_Info=[\"Tamanna\",\"Tanana\",\"Tanshin\"]\n",
    "\n",
    "\n",
    "for i in range(6):\n",
    "    x=int(input(\"Enter the value:\"))\n",
    "    Student_Info.append(x)\n",
    "    print(Student_Info)\n",
    "\n",
    "\n"
   ]
  },
  {
   "cell_type": "markdown",
   "id": "9a4fc7ea",
   "metadata": {},
   "source": [
    "###### Student_Info=[\"Tamanna\",\"Tanana\",\"Tanshin\"]\n",
    "i=0\n",
    "while i<3:\n",
    "    x=int(input(\"Enter the value:\"))\n",
    "    i=i+1\n",
    "    Student_Info.append(x)\n",
    "print(Student_Info)\n",
    "\n",
    "\n"
   ]
  },
  {
   "cell_type": "markdown",
   "id": "638da22a",
   "metadata": {},
   "source": [
    "### Copy method\n",
    "\n",
    "Student_Info=[\"Tamanna\",\"Tanana\",\"Tanshin\"]\n",
    "Student_Info=Student_Info.copy()\n",
    "print(\"Student_Info1\",Student_Info)\n",
    "\n",
    "Student_Info=[\"Tamanna\",\"Tanshin\"]\n",
    "\n",
    "Student_Info2=Student_Info.copy()\n",
    "print(\"Student_Info1\",Student_Info2)\n",
    "\n"
   ]
  },
  {
   "cell_type": "markdown",
   "id": "e246ee5c",
   "metadata": {},
   "source": [
    "# Shallo copy\n",
    "\n",
    "Student_Info=[\"Tamanna\",\"Tanan\",\"Tanshin\"]\n",
    "\n",
    "\n",
    "print(\"Student_Info1\",Student_Info)\n",
    "Student_Info=[\"Tamanna\",\"Tanshin\"]\n",
    "\n",
    "Student_Info2=Student_Info.copy()\n",
    "print(\"Student_Info1\",Student_Info2)\n",
    "\n"
   ]
  },
  {
   "cell_type": "markdown",
   "id": "83adc780",
   "metadata": {},
   "source": []
  }
 ],
 "metadata": {
  "kernelspec": {
   "display_name": "Python 3 (ipykernel)",
   "language": "python",
   "name": "python3"
  },
  "language_info": {
   "codemirror_mode": {
    "name": "ipython",
    "version": 3
   },
   "file_extension": ".py",
   "mimetype": "text/x-python",
   "name": "python",
   "nbconvert_exporter": "python",
   "pygments_lexer": "ipython3",
   "version": "3.11.5"
  }
 },
 "nbformat": 4,
 "nbformat_minor": 5
}
