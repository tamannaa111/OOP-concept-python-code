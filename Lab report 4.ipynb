{
 "cells": [
  {
   "cell_type": "markdown",
   "id": "ac1853bf",
   "metadata": {},
   "source": [
    "1. Matrix Addition: Write a Python program to add two matrices represented as nested lists."
   ]
  },
  {
   "cell_type": "code",
   "execution_count": 10,
   "id": "5c86607a",
   "metadata": {},
   "outputs": [
    {
     "name": "stdout",
     "output_type": "stream",
     "text": [
      "Matrix as Nested list: [[10, 10, 10], [10, 10, 10], [10, 10, 10]]\n",
      "Resultant Matrix after addition:\n",
      "[10, 10, 10]\n",
      "[10, 10, 10]\n",
      "[10, 10, 10]\n"
     ]
    }
   ],
   "source": [
    "def add_matrices(matrix1,matrix2):\n",
    "    if len(matrix1)!=len(matrix2):\n",
    "        return None\n",
    "    matrix=[[0,0,0],\n",
    "            [0,0,0],\n",
    "            [0,0,0]]\n",
    "    for i in range(len(matrix1)):\n",
    "        for j in range(len(matrix2)):\n",
    "            matrix[i][j]=matrix1[i][j]+matrix2[i][j]\n",
    "    return matrix\n",
    "matrix1 = [[1, 2, 3],\n",
    "           [4, 5, 6],\n",
    "           [7, 8, 9]]\n",
    "\n",
    "matrix2 = [[9, 8, 7],\n",
    "           [6, 5, 4],\n",
    "           [3, 2, 1]]\n",
    "matrix = add_matrices(matrix1, matrix2)\n",
    "print(\"Matrix as Nested list:\", matrix)\n",
    "\n",
    "if matrix:\n",
    "    print(\"Resultant Matrix after addition:\")\n",
    "    for row in matrix:\n",
    "        print(row)\n",
    "else:\n",
    "    print(\"Matrices cannot be added. Dimensions are different.\")\n",
    "l=[]"
   ]
  },
  {
   "cell_type": "markdown",
   "id": "7859d3eb",
   "metadata": {},
   "source": [
    "2. Flatten Nested List: Write a Python program to flatten a given nested list and convert it into a single-dimensional list."
   ]
  },
  {
   "cell_type": "code",
   "execution_count": 11,
   "id": "b589c63e",
   "metadata": {},
   "outputs": [
    {
     "name": "stdout",
     "output_type": "stream",
     "text": [
      "[11, 22, 33, 44, 55, 66, 77, 88, 99, 100]\n"
     ]
    }
   ],
   "source": [
    "List =[[11, 22, 33, 44], [55, 66, 77], [88, 99, 100]]\n",
    "lis=[]\n",
    "for i in List:\n",
    "    lis.extend(i)\n",
    "print(lis)    "
   ]
  },
  {
   "cell_type": "markdown",
   "id": "d4bc563b",
   "metadata": {},
   "source": [
    "3. List Element Frequency: Given a nested list containing lists of integers, write a Python program to count the frequency of each element in the entire nested list."
   ]
  },
  {
   "cell_type": "code",
   "execution_count": 12,
   "id": "de2ba8a0",
   "metadata": {},
   "outputs": [
    {
     "name": "stdout",
     "output_type": "stream",
     "text": [
      "[4, 3, 3]\n"
     ]
    }
   ],
   "source": [
    "list = [[9, 8, 7,3],[6, 5, 4],[3, 2, 1]]\n",
    "lis=[]\n",
    "\n",
    "for i in list:\n",
    "    count=0\n",
    "    for j in i:\n",
    "        count=count+1\n",
    "    lis.append(count)    \n",
    "print(lis)        "
   ]
  },
  {
   "cell_type": "markdown",
   "id": "8ceb1fd7",
   "metadata": {},
   "source": [
    "4. Transpose Matrix: Write a Python program to transpose a given matrix represented as a nested list."
   ]
  },
  {
   "cell_type": "code",
   "execution_count": 13,
   "id": "3b061ae0",
   "metadata": {},
   "outputs": [
    {
     "name": "stdout",
     "output_type": "stream",
     "text": [
      "[[1, 2, 3], [4, 5, 6]]\n",
      "\n",
      "\n",
      "[[1 4]\n",
      " [2 5]\n",
      " [3 6]]\n"
     ]
    }
   ],
   "source": [
    "import numpy as np\n",
    "matrix = [[1, 2, 3], [4, 5, 6]]\n",
    "print(matrix)\n",
    "print(\"\\n\")\n",
    "print(np.transpose(matrix))\n"
   ]
  },
  {
   "cell_type": "code",
   "execution_count": 14,
   "id": "43ad1819",
   "metadata": {},
   "outputs": [
    {
     "name": "stdout",
     "output_type": "stream",
     "text": [
      "[[2 2 2]\n",
      " [3 3 1]\n",
      " [4 2 4]]\n"
     ]
    }
   ],
   "source": [
    "import numpy\n",
    "matrix=[[2,3,4],[2,3,2],[2,1,4]]\n",
    "print(numpy.transpose(matrix))"
   ]
  },
  {
   "cell_type": "markdown",
   "id": "1dfb68a5",
   "metadata": {},
   "source": [
    "5. List of Lists Concatenation: Given a list of nested lists, write a Python program to concatenate all the sublists into a single flat list."
   ]
  },
  {
   "cell_type": "code",
   "execution_count": 15,
   "id": "48618e47",
   "metadata": {},
   "outputs": [
    {
     "name": "stdout",
     "output_type": "stream",
     "text": [
      "[2, 1, 3, 4, 2, 1, 2, 3, 4]\n"
     ]
    }
   ],
   "source": [
    "list1=[2,1,3,4,2]\n",
    "list2=[1,2,3,4]\n",
    "list=list1+list2\n",
    "print(list)"
   ]
  },
  {
   "cell_type": "code",
   "execution_count": 16,
   "id": "f6bc894e",
   "metadata": {},
   "outputs": [
    {
     "name": "stdout",
     "output_type": "stream",
     "text": [
      "Flat list: [1, 2, 3, 4, 5, 6, 7, 8]\n"
     ]
    }
   ],
   "source": [
    "\n",
    "list = [[1, 2, 3], [4, 5], [6, 7, 8]]\n",
    "\n",
    "list1 = [x for x in list for x in x ]\n",
    "\n",
    "print(\"Flat list:\",list1)\n"
   ]
  },
  {
   "cell_type": "code",
   "execution_count": 17,
   "id": "53060bd6",
   "metadata": {},
   "outputs": [
    {
     "name": "stdout",
     "output_type": "stream",
     "text": [
      "[1, 2, 3, 4, 5, 6, 7, 8]\n"
     ]
    }
   ],
   "source": [
    "list = [[1, 2, 3], [4, 5], [6, 7, 8]]\n",
    "lis=[]\n",
    "\n",
    "for i in list:\n",
    "    lis.extend(i)\n",
    "print(lis)    "
   ]
  },
  {
   "cell_type": "markdown",
   "id": "a7a2e650",
   "metadata": {},
   "source": [
    "6. Tuple Concatenation: Write a Python program to concatenate two tuples and create a new tuple."
   ]
  },
  {
   "cell_type": "code",
   "execution_count": 18,
   "id": "5610b739",
   "metadata": {},
   "outputs": [
    {
     "name": "stdout",
     "output_type": "stream",
     "text": [
      "(1, 2, 3, 4, 2, 3, 1, 2)\n"
     ]
    }
   ],
   "source": [
    "tuple1=(1,2,3,4)\n",
    "tuple2=(2,3,1,2)\n",
    "tuple=tuple1+tuple2\n",
    "print(tuple)"
   ]
  },
  {
   "cell_type": "markdown",
   "id": "2c8e705f",
   "metadata": {},
   "source": [
    "7. Tuple Unpacking: Given a tuple with three elements (x, y, z), write a Python program to unpack the tuple and assign the values to three variables."
   ]
  },
  {
   "cell_type": "code",
   "execution_count": 19,
   "id": "cbfd4f12",
   "metadata": {},
   "outputs": [
    {
     "name": "stdout",
     "output_type": "stream",
     "text": [
      "x: 10\n",
      "y: 20\n",
      "z: 30\n"
     ]
    }
   ],
   "source": [
    "tuple=(10,20,30)\n",
    "x,y,z=tuple\n",
    "print(\"x:\",x)\n",
    "print(\"y:\",y)\n",
    "print(\"z:\",z)\n"
   ]
  },
  {
   "cell_type": "markdown",
   "id": "c6931aad",
   "metadata": {},
   "source": [
    "8. Tuple Sorting: Write a Python program to sort a tuple of integers in ascending order."
   ]
  },
  {
   "cell_type": "code",
   "execution_count": 1,
   "id": "6a99d971",
   "metadata": {},
   "outputs": [
    {
     "name": "stdout",
     "output_type": "stream",
     "text": [
      "(1, 2, 5, 10, 11, 20, 30)\n"
     ]
    }
   ],
   "source": [
    "tuple1=(10,2,1,5,11,20,30)\n",
    "x=sorted(tuple1)\n",
    "print(tuple(x))"
   ]
  },
  {
   "cell_type": "markdown",
   "id": "7adb2c86",
   "metadata": {},
   "source": [
    "9. Tuple Frequency Count: Given a tuple containing various elements, write a Python program to count the frequency of a specific element in the tuple."
   ]
  },
  {
   "cell_type": "code",
   "execution_count": 2,
   "id": "1dbe349e",
   "metadata": {},
   "outputs": [
    {
     "name": "stdout",
     "output_type": "stream",
     "text": [
      "element 1 is 3 times.\n"
     ]
    }
   ],
   "source": [
    "tuple1=(10,2,1,2,1,1,3,5,11,20,30)\n",
    "x=1\n",
    "count=0\n",
    "for i in tuple1:\n",
    "    if i==x:\n",
    "        count=count+1\n",
    "print(\"element\",x,\"is\",count,\"times.\")        "
   ]
  },
  {
   "cell_type": "markdown",
   "id": "a05d5548",
   "metadata": {},
   "source": [
    "10. Tuple to List: Write a Python program to convert a tuple into a list."
   ]
  },
  {
   "cell_type": "code",
   "execution_count": 3,
   "id": "41cf9e73",
   "metadata": {},
   "outputs": [
    {
     "name": "stdout",
     "output_type": "stream",
     "text": [
      "list is: [10, 2, 1, 2, 1, 1, 3, 5, 11, 20, 30]\n"
     ]
    }
   ],
   "source": [
    "tuple1=(10,2,1,2,1,1,3,5,11,20,30)\n",
    "print(\"list is:\",list(tuple1))"
   ]
  },
  {
   "cell_type": "markdown",
   "id": "900b3273",
   "metadata": {},
   "source": [
    "11. Tuple Reversal: Write a Python program to reverse a tuple without using any built-in functions."
   ]
  },
  {
   "cell_type": "code",
   "execution_count": 4,
   "id": "fcbdfc45",
   "metadata": {},
   "outputs": [
    {
     "name": "stdout",
     "output_type": "stream",
     "text": [
      "(30, 20, 11, 5, 3, 1, 1, 2, 1, 2, 10)\n"
     ]
    }
   ],
   "source": [
    "tuple1=(10,2,1,2,1,1,3,5,11,20,30)\n",
    "tupl=tuple1[::-1]\n",
    "print(tupl)"
   ]
  },
  {
   "cell_type": "markdown",
   "id": "e0656c01",
   "metadata": {},
   "source": [
    "12. Tuple Slicing: Given a tuple, write a Python program to extract a slice of elements from it."
   ]
  },
  {
   "cell_type": "code",
   "execution_count": 5,
   "id": "88a1b7a7",
   "metadata": {},
   "outputs": [
    {
     "name": "stdout",
     "output_type": "stream",
     "text": [
      "(10, 2, 1)\n",
      "(2, 1, 2, 1, 1, 3, 5)\n",
      "(10, 2, 1, 2, 1, 1, 3, 5, 11, 20, 30)\n",
      "(3, 5, 11)\n",
      "(30, 20, 11, 5, 3, 1, 1, 2, 1, 2, 10)\n"
     ]
    }
   ],
   "source": [
    "tuple1=(10,2,1,2,1,1,3,5,11,20,30)\n",
    "print(tuple1[:3])\n",
    "print(tuple1[1:8])\n",
    "print(tuple1[-11:])\n",
    "print(tuple1[-5:-2])\n",
    "print(tuple1[::-1])"
   ]
  },
  {
   "cell_type": "markdown",
   "id": "36e54778",
   "metadata": {},
   "source": [
    "13. Duplicate Removal: Write a Python program that takes a list of elements as input and creates a new set containing only the unique elements from the list."
   ]
  },
  {
   "cell_type": "code",
   "execution_count": 6,
   "id": "983b61f3",
   "metadata": {},
   "outputs": [
    {
     "name": "stdout",
     "output_type": "stream",
     "text": [
      "{1, 2, 3, 5, 10, 11, 20, 30}\n"
     ]
    }
   ],
   "source": [
    "set={10,2,1,2,1,1,3,5,11,20,30}\n",
    "print(set)\n"
   ]
  },
  {
   "cell_type": "code",
   "execution_count": 1,
   "id": "f082f959",
   "metadata": {},
   "outputs": [
    {
     "name": "stdout",
     "output_type": "stream",
     "text": [
      "New set: {1, 2, 3, 4, 5}\n"
     ]
    }
   ],
   "source": [
    "list=[1,2,3,4,2,1,2,3,4,1,2,2,3,4,5,5]\n",
    "Set=set()\n",
    "for i in list:\n",
    "    Set.add(i)\n",
    "print(\"New set:\",Set)    \n",
    "    "
   ]
  },
  {
   "cell_type": "markdown",
   "id": "3559b9a8",
   "metadata": {},
   "source": [
    "14. Set Intersection: Given two sets A and B, write a Python program to find their intersection and print the common elements."
   ]
  },
  {
   "cell_type": "code",
   "execution_count": 2,
   "id": "5d255623",
   "metadata": {},
   "outputs": [
    {
     "name": "stdout",
     "output_type": "stream",
     "text": [
      "{1, 2, 3, 5}\n"
     ]
    }
   ],
   "source": [
    "Newset={1, 2, 3, 4, 5}\n",
    "Set={10,2,1,2,1,1,3,5,11,20,30}\n",
    "set=Set.intersection(Newset) \n",
    "print(set)"
   ]
  },
  {
   "cell_type": "code",
   "execution_count": 3,
   "id": "0f368a4f",
   "metadata": {},
   "outputs": [
    {
     "name": "stdout",
     "output_type": "stream",
     "text": [
      "{4, 5}\n"
     ]
    }
   ],
   "source": [
    "set_A = {1, 2, 3, 4, 5}\n",
    "set_B = {4, 5, 6, 7, 8}\n",
    "c=set_A & set_B\n",
    "print(c)"
   ]
  },
  {
   "cell_type": "markdown",
   "id": "57133ad3",
   "metadata": {},
   "source": [
    "15. Dictionary Manipulation: Given a dictionary with student names as keys and their corresponding scores as values, write a Python program to add a new student to the dictionary and update the score of an existing student."
   ]
  },
  {
   "cell_type": "code",
   "execution_count": 4,
   "id": "c286c453",
   "metadata": {},
   "outputs": [
    {
     "name": "stdout",
     "output_type": "stream",
     "text": [
      "name:tt\n",
      "marks:800\n",
      "tt : 800\n",
      "{'T': 80, 'TT': 81, 'A': 82, 'tt': 800}\n"
     ]
    }
   ],
   "source": [
    "StudentNames={'T':80,'TT':81,'A':82}\n",
    "name=input(\"name:\")\n",
    "Newmarks=int(input(\"marks:\"))\n",
    "StudentNames[name]=Newmarks\n",
    "print(name,\":\",Newmarks)\n",
    "print(StudentNames)    "
   ]
  },
  {
   "cell_type": "markdown",
   "id": "5714f1ad",
   "metadata": {},
   "source": [
    "16. Dictionary Keys and Values: Write a Python program that takes a dictionary as input and prints all the keys and values in separate lines."
   ]
  },
  {
   "cell_type": "code",
   "execution_count": 5,
   "id": "29982ce1",
   "metadata": {},
   "outputs": [
    {
     "name": "stdout",
     "output_type": "stream",
     "text": [
      "Enter number:2\n",
      "Enter keyestt\n",
      "Enter value40\n",
      "Enter keyesttt\n",
      "Enter value222\n",
      "dictonary {'tt': 40, 'ttt': 222}\n",
      "dict_keys(['tt', 'ttt'])\n",
      "dict_values([40, 222])\n"
     ]
    }
   ],
   "source": [
    "dic={}\n",
    "\n",
    "n=int(input(\"Enter number:\"))\n",
    "for i in range(n):\n",
    "    key=input(\"Enter keyes\")\n",
    "    value=int(input(\"Enter value\"))\n",
    "    dic[key]=value\n",
    "\n",
    "print(\"dictonary\",dic)\n",
    "print(dic.keys())\n",
    "print(dic.values())"
   ]
  },
  {
   "cell_type": "markdown",
   "id": "a73ff90a",
   "metadata": {},
   "source": [
    "17. Dictionary Length: Write a Python program to calculate and print the number of key-value pairs in a given dictionary."
   ]
  },
  {
   "cell_type": "code",
   "execution_count": 6,
   "id": "49a811e1",
   "metadata": {},
   "outputs": [
    {
     "name": "stdout",
     "output_type": "stream",
     "text": [
      "Number of pairs is: 3\n"
     ]
    }
   ],
   "source": [
    "StudentNames={'T':80,'TT':81,'A':82}\n",
    "print(\"Number of pairs is:\",len(StudentNames))"
   ]
  },
  {
   "cell_type": "markdown",
   "id": "b57df745",
   "metadata": {},
   "source": [
    "18. Dictionary Value Search: Given a dictionary of items and their prices, write a Python program to search for an item based on its price and print the item’s name."
   ]
  },
  {
   "cell_type": "code",
   "execution_count": 7,
   "id": "20eabd3b",
   "metadata": {},
   "outputs": [
    {
     "name": "stdout",
     "output_type": "stream",
     "text": [
      "The original dictionary is : {'apple': 1, 'mango': 2, 'cherry': 3}\n",
      "The key corresponding to value : cherry\n"
     ]
    }
   ],
   "source": [
    "fruit = {'apple' : 1, 'mango' : 2, 'cherry' : 3}\n",
    "print(\"The original dictionary is : \" + str(fruit))\n",
    "val = 3\n",
    "for key in fruit:\n",
    "    if fruit[key] == val:\n",
    "        res = key\n",
    "print(\"The key corresponding to value : \" + str(res))"
   ]
  },
  {
   "cell_type": "code",
   "execution_count": 5,
   "id": "798e2db2",
   "metadata": {},
   "outputs": [
    {
     "name": "stdout",
     "output_type": "stream",
     "text": [
      "dict_values([80, 81, 82])\n"
     ]
    }
   ],
   "source": [
    "StudentNames={'T':80,'TT':81,'A':82}\n",
    "print(StudentNames.values())"
   ]
  },
  {
   "cell_type": "markdown",
   "id": "5ed8f413",
   "metadata": {},
   "source": [
    "19. Dictionary Merging: Given two dictionaries, write a Python program to merge them into a single dictionary and print the result."
   ]
  },
  {
   "cell_type": "code",
   "execution_count": 6,
   "id": "e331c765",
   "metadata": {},
   "outputs": [
    {
     "name": "stdout",
     "output_type": "stream",
     "text": [
      "{'T': 80, 'TT': 81, 'A': 82, 'T2': 30, '2TT': 831, '2A': 832}\n"
     ]
    }
   ],
   "source": [
    "d1={'T':80,'TT':81,'A':82}\n",
    "d2={'T2':30,'2TT':831,'2A':832}\n",
    "d1.update(d2)\n",
    "print(d1)"
   ]
  },
  {
   "cell_type": "code",
   "execution_count": 7,
   "id": "e3b3f638",
   "metadata": {},
   "outputs": [
    {
     "data": {
      "text/plain": [
       "{'T': 80, 'TT': 81, 'A': 82, 'T2': 30, '2TT': 831, '2A': 832}"
      ]
     },
     "execution_count": 7,
     "metadata": {},
     "output_type": "execute_result"
    }
   ],
   "source": [
    "def merge(d):\n",
    "    d1={'T':80,'TT':81,'A':82}\n",
    "    d2={'T2':30,'2TT':831,'2A':832}\n",
    "    d1.update(d2)\n",
    "    return d1\n",
    "merge(d1)"
   ]
  },
  {
   "cell_type": "markdown",
   "id": "7113c24f",
   "metadata": {},
   "source": [
    "20. Dictionary Key Removal: Given a dictionary of items and their quantities, write a Python program to remove a specific item from the dictionary based on user input."
   ]
  },
  {
   "cell_type": "code",
   "execution_count": 13,
   "id": "c1b6f7e3",
   "metadata": {},
   "outputs": [
    {
     "name": "stdout",
     "output_type": "stream",
     "text": [
      "Which want to remove?apple\n",
      "apple has been removed\n",
      "Updated dictonary: {'banana': 3, 'orange': 7, 'grape': 2}\n"
     ]
    }
   ],
   "source": [
    "items = {'apple': 5, 'banana': 3, 'orange': 7, 'grape': 2}\n",
    "\n",
    "s=input(\"Which want to remove?\")\n",
    "if s in items:\n",
    "    del items[s]\n",
    "    print(f\"{s} has been removed\")\n",
    "else:\n",
    "    print(s,'dose not exist')\n",
    "print(\"Updated dictonary:\",items)    "
   ]
  },
  {
   "cell_type": "markdown",
   "id": "418b2f32",
   "metadata": {},
   "source": [
    "21. Dictionary Sorting: Given a dictionary with names as keys and corresponding ages as values, write a Python program to sort the dictionary based on age in ascending order."
   ]
  },
  {
   "cell_type": "code",
   "execution_count": 41,
   "id": "e8b3aae0",
   "metadata": {},
   "outputs": [
    {
     "name": "stdout",
     "output_type": "stream",
     "text": [
      "{'Tasbi': 8, 'Tamanna': 22, 'Tanshin': 23}\n"
     ]
    }
   ],
   "source": [
    "\n",
    "ages = {'Tamanna':22,'Tanshin':23,'Tasbi':8}\n",
    "\n",
    "\n",
    "sorted_ages= dict(sorted(ages.items(), key=lambda item: item[1]))\n",
    "\n",
    "print(sorted_ages )\n"
   ]
  },
  {
   "cell_type": "markdown",
   "id": "27506315",
   "metadata": {},
   "source": [
    "22. Dictionary Frequency Count: Write a Python program that takes a string as input and creates a dictionary containing each character as a key and its frequency as the value."
   ]
  },
  {
   "cell_type": "code",
   "execution_count": 2,
   "id": "04890b1f",
   "metadata": {},
   "outputs": [
    {
     "name": "stdout",
     "output_type": "stream",
     "text": [
      "2\n",
      "tanannana\n",
      "tannn\n",
      "{'tanannana': 9, 'tannn': 5}\n"
     ]
    }
   ],
   "source": [
    "dict={}\n",
    "n=int(input())\n",
    "for i in range(n):\n",
    "    keys=input()\n",
    "    values=len(keys)\n",
    "    dict[keys]=values\n",
    "print(dict)  "
   ]
  },
  {
   "cell_type": "markdown",
   "id": "29c6d4fe",
   "metadata": {},
   "source": [
    "23. Dictionary Comprehension: Given a list of integers, write a Python program to create a dictionary where the keys are the elements from the list, and the values are their squares"
   ]
  },
  {
   "cell_type": "code",
   "execution_count": 8,
   "id": "a02ce869",
   "metadata": {},
   "outputs": [
    {
     "name": "stdout",
     "output_type": "stream",
     "text": [
      "{1: 1, 2: 4, 3: 9, 4: 16, 5: 25}\n"
     ]
    }
   ],
   "source": [
    "# Python code to demonstrate dictionary \n",
    "# creation using list comprehension\n",
    "myDict = {x: x**2 for x in [1,2,3,4,5]}\n",
    "print (myDict)\n"
   ]
  },
  {
   "cell_type": "code",
   "execution_count": 4,
   "id": "4c89d6e8",
   "metadata": {},
   "outputs": [
    {
     "name": "stdout",
     "output_type": "stream",
     "text": [
      "{1: 1, 2: 4, 3: 9, 4: 16, 5: 25}\n"
     ]
    }
   ],
   "source": [
    "list=[1,2,3,4,5]\n",
    "dic={x: x**2 for x in list}\n",
    "print(dic)"
   ]
  },
  {
   "cell_type": "markdown",
   "id": "084cb7b8",
   "metadata": {},
   "source": [
    "24. Dictionary Key Check: Write a Python program that takes a key as input and checks if it exists in a given dictionary. Print “Key Found” if the key is present and “Key Not Found” otherwise."
   ]
  },
  {
   "cell_type": "code",
   "execution_count": 6,
   "id": "5db8cc2e",
   "metadata": {},
   "outputs": [
    {
     "name": "stdout",
     "output_type": "stream",
     "text": [
      "Tasbi\n",
      "key found\n"
     ]
    }
   ],
   "source": [
    "dic={'Tasbi': 8, 'Tamanna': 22, 'Tanshin': 23}\n",
    "key=input()\n",
    "if key in dic:\n",
    "    print(\"key found\")\n",
    "else:\n",
    "    print(\"not found\")"
   ]
  },
  {
   "cell_type": "markdown",
   "id": "d24ed003",
   "metadata": {},
   "source": [
    "25. Access Nested Dictionary: Given a nested dictionary containing student details, write a Python program to access and print specific information such as a student’s name, age, and address."
   ]
  },
  {
   "cell_type": "code",
   "execution_count": 9,
   "id": "7f18bdba",
   "metadata": {},
   "outputs": [
    {
     "name": "stdout",
     "output_type": "stream",
     "text": [
      "Student 1 details:\n",
      "Name: Tamanna\n",
      "Age: 20\n",
      "Address: Dhaaka\n"
     ]
    }
   ],
   "source": [
    "\n",
    "student_details = {\n",
    "    'student1': {\n",
    "        'name': 'Tamanna',\n",
    "        'age': 20,\n",
    "        'address': 'Dhaaka'\n",
    "    },\n",
    "    'student2': {\n",
    "        'name': 'Tanshin',\n",
    "        'age': 22,\n",
    "        'address': 'Manikgang'\n",
    "    }\n",
    "}\n",
    "\n",
    "\n",
    "name=student_details['student1']['name']\n",
    "age=student_details['student1']['age']\n",
    "adress=student_details['student1']['address']\n",
    "print(\"Student 1 details:\")\n",
    "print(f\"Name: {name}\")\n",
    "print(f\"Age: {age}\")\n",
    "print(f\"Address: {adress}\")\n"
   ]
  },
  {
   "cell_type": "code",
   "execution_count": null,
   "id": "21cb9630",
   "metadata": {},
   "outputs": [],
   "source": []
  },
  {
   "cell_type": "markdown",
   "id": "798b6a11",
   "metadata": {},
   "source": [
    "26. Nested Dictionary Length: Write a Python program to calculate and print the total number of key-value pairs in a nested dictionary."
   ]
  },
  {
   "cell_type": "code",
   "execution_count": 2,
   "id": "a67ef0b4",
   "metadata": {},
   "outputs": [
    {
     "name": "stdout",
     "output_type": "stream",
     "text": [
      "2\n",
      "3\n"
     ]
    }
   ],
   "source": [
    "\n",
    "student_details = {\n",
    "    'student1': {\n",
    "        'name': 'Tamanna',\n",
    "        'age': 20,\n",
    "        'address': 'Dhaaka'\n",
    "    },\n",
    "    'student2': {\n",
    "        'name': 'Tanshin',\n",
    "        'age': 22,\n",
    "        'address': 'Manikgang'\n",
    "    }\n",
    "}\n",
    "nested_dict = {'a': 1, 'b': {'c': 2, 'd': {'e': 3, 'f': 4}}, 'g': 5}\n",
    "print(len(student_details))\n",
    "print(len(nested_dict))"
   ]
  },
  {
   "cell_type": "code",
   "execution_count": 1,
   "id": "b093f776",
   "metadata": {},
   "outputs": [
    {
     "name": "stdout",
     "output_type": "stream",
     "text": [
      "Total number of key-value pairs in the nested dictionary: 5\n"
     ]
    }
   ],
   "source": [
    "# Function to calculate the total number of key-value pairs in a nested dictionary\n",
    "def nested_dict_length(nested_dict):\n",
    "    total_length = 0\n",
    "    for value in nested_dict.values():\n",
    "        if isinstance(value, dict):\n",
    "            total_length += nested_dict_length(value)  # Recursively count key-value pairs in nested dictionary\n",
    "        else:\n",
    "            total_length += 1  # Count each key-value pair\n",
    "    return total_length\n",
    "\n",
    "# Example nested dictionary\n",
    "nested_dict = {'a': 1, 'b': {'c': 2, 'd': {'e': 3, 'f': 4}}, 'g': 5}\n",
    "\n",
    "# Calculate the total number of key-value pairs\n",
    "total_pairs = nested_dict_length(nested_dict)\n",
    "\n",
    "# Print the result\n",
    "print(\"Total number of key-value pairs in the nested dictionary:\", total_pairs)\n"
   ]
  },
  {
   "cell_type": "markdown",
   "id": "75a7893d",
   "metadata": {},
   "source": [
    "27. Nested Dictionary Update: Given a nested dictionary of employee details, write a Python program to update an employee’s salary based on their employee ID."
   ]
  },
  {
   "cell_type": "code",
   "execution_count": 6,
   "id": "cddc4772",
   "metadata": {},
   "outputs": [
    {
     "name": "stdout",
     "output_type": "stream",
     "text": [
      "Salary updated for employee with ID 102.\n",
      "{101: {'name': 'Alice', 'salary': 50000}, 102: {'name': 'Bob', 'salary': 65000}, 103: {'name': 'Charlie', 'salary': 55000}}\n",
      "\n",
      "\n",
      "Employee ID: 101, Name: Alice, Salary: 50000\n",
      "Employee ID: 102, Name: Bob, Salary: 65000\n",
      "Employee ID: 103, Name: Charlie, Salary: 55000\n"
     ]
    }
   ],
   "source": [
    "employee_details = {\n",
    "    101: {'name': 'Alice', 'salary': 50000},\n",
    "    102: {'name': 'Bob', 'salary': 60000},\n",
    "    103: {'name': 'Charlie', 'salary': 55000}\n",
    "}\n",
    "employee_id = 102\n",
    "new_salary = 65000\n",
    "if employee_id in employee_details:\n",
    "    employee_details[employee_id]['salary'] = new_salary\n",
    "    print(f\"Salary updated for employee with ID {employee_id}.\")\n",
    "else:\n",
    "    print(f\"No employee found with ID {employee_id}.\")\n",
    "print(employee_details)\n",
    "print(\"\\n\")\n",
    "for emp_id, details in employee_details.items():\n",
    "    print(f\"Employee ID: {emp_id}, Name: {details['name']}, Salary: {details['salary']}\")\n",
    "\n"
   ]
  },
  {
   "cell_type": "markdown",
   "id": "b65c9ed0",
   "metadata": {},
   "source": [
    "28. Nested Dictionary Sorting: Given a nested dictionary containing product details (product name, price, and quantity), write a Python program to sort the products based on their prices in ascending order"
   ]
  },
  {
   "cell_type": "code",
   "execution_count": 9,
   "id": "7a537b52",
   "metadata": {},
   "outputs": [
    {
     "name": "stdout",
     "output_type": "stream",
     "text": [
      "Products sorted based on prices in ascending order:\n",
      "Product: product2, Name: Phone, Price: 500, Quantity: 10\n",
      "Product: product3, Name: Tablet, Price: 700, Quantity: 3\n",
      "Product: product1, Name: Laptop, Price: 1000, Quantity: 5\n"
     ]
    }
   ],
   "source": [
    "\n",
    "product_details = {\n",
    "    'product1': {'name': 'Laptop', 'price': 1000, 'quantity': 5},\n",
    "    'product2': {'name': 'Phone', 'price': 500, 'quantity': 10},\n",
    "    'product3': {'name': 'Tablet', 'price': 700, 'quantity': 3}\n",
    "}\n",
    "\n",
    "\n",
    "sorted_products = dict(sorted(product_details.items(), key=lambda item: item[1]['price']))\n",
    "\n",
    "\n",
    "print(\"Products sorted based on prices in ascending order:\")\n",
    "for product, details in sorted_products.items():\n",
    "    print(f\"Product: {product}, Name: {details['name']}, Price: {details['price']}, Quantity: {details['quantity']}\")\n"
   ]
  },
  {
   "cell_type": "code",
   "execution_count": null,
   "id": "2ba8cc64",
   "metadata": {},
   "outputs": [],
   "source": []
  }
 ],
 "metadata": {
  "kernelspec": {
   "display_name": "Python 3 (ipykernel)",
   "language": "python",
   "name": "python3"
  },
  "language_info": {
   "codemirror_mode": {
    "name": "ipython",
    "version": 3
   },
   "file_extension": ".py",
   "mimetype": "text/x-python",
   "name": "python",
   "nbconvert_exporter": "python",
   "pygments_lexer": "ipython3",
   "version": "3.11.5"
  }
 },
 "nbformat": 4,
 "nbformat_minor": 5
}
